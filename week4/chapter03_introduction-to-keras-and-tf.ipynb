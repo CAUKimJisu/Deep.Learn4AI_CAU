{
  "cells": [
    {
      "cell_type": "markdown",
      "metadata": {
        "id": "view-in-github",
        "colab_type": "text"
      },
      "source": [
        "<a href=\"https://colab.research.google.com/github/CAUKimJisu/Deep.Learn4AI_CAU/blob/main/week4/chapter03_introduction-to-keras-and-tf.ipynb\" target=\"_parent\"><img src=\"https://colab.research.google.com/assets/colab-badge.svg\" alt=\"Open In Colab\"/></a>"
      ]
    },
    {
      "cell_type": "markdown",
      "metadata": {
        "id": "xITJ6W0o0A2t"
      },
      "source": [
        "This is a companion notebook for the book [Deep Learning with Python, Second Edition](https://www.manning.com/books/deep-learning-with-python-second-edition?a_aid=keras&a_bid=76564dff). For readability, it only contains runnable code blocks and section titles, and omits everything else in the book: text paragraphs, figures, and pseudocode.\n",
        "\n",
        "**If you want to be able to follow what's going on, I recommend reading the notebook side by side with your copy of the book.**\n",
        "\n",
        "This notebook was generated for TensorFlow 2.6."
      ]
    },
    {
      "cell_type": "markdown",
      "metadata": {
        "id": "nH5KOAYF0A2v"
      },
      "source": [
        "# Introduction to Keras and TensorFlow"
      ]
    },
    {
      "cell_type": "markdown",
      "metadata": {
        "id": "imxcKvia0A2w"
      },
      "source": [
        "## What's TensorFlow?"
      ]
    },
    {
      "cell_type": "markdown",
      "metadata": {
        "id": "JhEwpv2E0A2w"
      },
      "source": [
        "## What's Keras?"
      ]
    },
    {
      "cell_type": "markdown",
      "metadata": {
        "id": "X0YotBng0A2w"
      },
      "source": [
        "## Keras and TensorFlow: A brief history"
      ]
    },
    {
      "cell_type": "markdown",
      "metadata": {
        "id": "sEywG3JR0A2x"
      },
      "source": [
        "## Setting up a deep-learning workspace"
      ]
    },
    {
      "cell_type": "markdown",
      "metadata": {
        "id": "ZaXPsX8t0A2x"
      },
      "source": [
        "### Jupyter notebooks: The preferred way to run deep-learning experiments"
      ]
    },
    {
      "cell_type": "markdown",
      "metadata": {
        "id": "ozmhRZjF0A2x"
      },
      "source": [
        "### Using Colaboratory"
      ]
    },
    {
      "cell_type": "markdown",
      "metadata": {
        "id": "49KCeLrW0A2x"
      },
      "source": [
        "#### First steps with Colaboratory"
      ]
    },
    {
      "cell_type": "markdown",
      "metadata": {
        "id": "D7lRKyiT0A2y"
      },
      "source": [
        "#### Installing packages with pip"
      ]
    },
    {
      "cell_type": "markdown",
      "metadata": {
        "id": "aPNe1nkg0A2y"
      },
      "source": [
        "#### Using the GPU runtime"
      ]
    },
    {
      "cell_type": "markdown",
      "metadata": {
        "id": "eIli_Rly0A2y"
      },
      "source": [
        "## First steps with TensorFlow"
      ]
    },
    {
      "cell_type": "markdown",
      "metadata": {
        "id": "-wWZvzBC0A2y"
      },
      "source": [
        "#### Constant tensors and variables"
      ]
    },
    {
      "cell_type": "markdown",
      "metadata": {
        "id": "_KbFOMlu0A2y"
      },
      "source": [
        "**All-ones or all-zeros tensors**"
      ]
    },
    {
      "cell_type": "code",
      "execution_count": 1,
      "metadata": {
        "id": "MN5Uw5-q0A2z",
        "outputId": "f1dab3a1-1fd3-471d-9b0d-82c4279222cb",
        "colab": {
          "base_uri": "https://localhost:8080/"
        }
      },
      "outputs": [
        {
          "output_type": "stream",
          "name": "stdout",
          "text": [
            "tf.Tensor(\n",
            "[[1.]\n",
            " [1.]], shape=(2, 1), dtype=float32)\n"
          ]
        }
      ],
      "source": [
        "import tensorflow as tf\n",
        "x = tf.ones(shape=(2, 1))\n",
        "print(x)"
      ]
    },
    {
      "cell_type": "code",
      "execution_count": 2,
      "metadata": {
        "id": "_cYBCz8_0A2z",
        "outputId": "ef092a41-0c6a-4eb6-d0d0-303e070e8ccb",
        "colab": {
          "base_uri": "https://localhost:8080/"
        }
      },
      "outputs": [
        {
          "output_type": "stream",
          "name": "stdout",
          "text": [
            "tf.Tensor(\n",
            "[[0.]\n",
            " [0.]], shape=(2, 1), dtype=float32)\n"
          ]
        }
      ],
      "source": [
        "x = tf.zeros(shape=(2, 1))\n",
        "print(x)"
      ]
    },
    {
      "cell_type": "markdown",
      "metadata": {
        "id": "VTCZ24ee0A2z"
      },
      "source": [
        "**Random tensors**"
      ]
    },
    {
      "cell_type": "code",
      "execution_count": 3,
      "metadata": {
        "id": "etmzAkoe0A20",
        "outputId": "40a34100-419b-4cdb-fac1-1bb4fe0a0a69",
        "colab": {
          "base_uri": "https://localhost:8080/"
        }
      },
      "outputs": [
        {
          "output_type": "stream",
          "name": "stdout",
          "text": [
            "tf.Tensor(\n",
            "[[-0.25792933]\n",
            " [-0.09150977]\n",
            " [ 1.6012738 ]], shape=(3, 1), dtype=float32)\n"
          ]
        }
      ],
      "source": [
        "x = tf.random.normal(shape=(3, 1), mean=0., stddev=1.)\n",
        "print(x)"
      ]
    },
    {
      "cell_type": "code",
      "execution_count": 4,
      "metadata": {
        "id": "9b8a2lFO0A20",
        "outputId": "f5243d7e-9991-4374-a7c8-acdfc4270556",
        "colab": {
          "base_uri": "https://localhost:8080/"
        }
      },
      "outputs": [
        {
          "output_type": "stream",
          "name": "stdout",
          "text": [
            "tf.Tensor(\n",
            "[[0.06602383]\n",
            " [0.70759606]\n",
            " [0.6862217 ]], shape=(3, 1), dtype=float32)\n"
          ]
        }
      ],
      "source": [
        "x = tf.random.uniform(shape=(3, 1), minval=0., maxval=1.)\n",
        "print(x)"
      ]
    },
    {
      "cell_type": "markdown",
      "metadata": {
        "id": "gp2Fkfjv0A20"
      },
      "source": [
        "**NumPy arrays are assignable**"
      ]
    },
    {
      "cell_type": "code",
      "execution_count": 5,
      "metadata": {
        "id": "evLDcr6V0A20"
      },
      "outputs": [],
      "source": [
        "import numpy as np\n",
        "x = np.ones(shape=(2, 2))\n",
        "x[0, 0] = 0."
      ]
    },
    {
      "cell_type": "markdown",
      "metadata": {
        "id": "skR0tFLK0A20"
      },
      "source": [
        "**Creating a TensorFlow variable**"
      ]
    },
    {
      "cell_type": "code",
      "execution_count": 6,
      "metadata": {
        "id": "zzUkLJXm0A20",
        "outputId": "72c07391-9614-43a6-fba6-a7650554f46d",
        "colab": {
          "base_uri": "https://localhost:8080/"
        }
      },
      "outputs": [
        {
          "output_type": "stream",
          "name": "stdout",
          "text": [
            "<tf.Variable 'Variable:0' shape=(3, 1) dtype=float32, numpy=\n",
            "array([[0.0535616],\n",
            "       [1.8490891],\n",
            "       [0.9924185]], dtype=float32)>\n"
          ]
        }
      ],
      "source": [
        "v = tf.Variable(initial_value=tf.random.normal(shape=(3, 1)))\n",
        "print(v)"
      ]
    },
    {
      "cell_type": "markdown",
      "metadata": {
        "id": "P847kAW80A20"
      },
      "source": [
        "**Assigning a value to a TensorFlow variable**"
      ]
    },
    {
      "cell_type": "code",
      "execution_count": 7,
      "metadata": {
        "id": "pFXBKBC40A20",
        "outputId": "846309ea-9b06-4d90-e4e3-0396f0cedbec",
        "colab": {
          "base_uri": "https://localhost:8080/"
        }
      },
      "outputs": [
        {
          "output_type": "execute_result",
          "data": {
            "text/plain": [
              "<tf.Variable 'UnreadVariable' shape=(3, 1) dtype=float32, numpy=\n",
              "array([[1.],\n",
              "       [1.],\n",
              "       [1.]], dtype=float32)>"
            ]
          },
          "metadata": {},
          "execution_count": 7
        }
      ],
      "source": [
        "v.assign(tf.ones((3, 1)))"
      ]
    },
    {
      "cell_type": "markdown",
      "metadata": {
        "id": "-W2hUtNO0A20"
      },
      "source": [
        "**Assigning a value to a subset of a TensorFlow variable**"
      ]
    },
    {
      "cell_type": "code",
      "execution_count": 8,
      "metadata": {
        "id": "g0orN0Rp0A21",
        "outputId": "bd9676a7-2630-4136-caf8-89d944d14ee6",
        "colab": {
          "base_uri": "https://localhost:8080/"
        }
      },
      "outputs": [
        {
          "output_type": "execute_result",
          "data": {
            "text/plain": [
              "<tf.Variable 'UnreadVariable' shape=(3, 1) dtype=float32, numpy=\n",
              "array([[3.],\n",
              "       [1.],\n",
              "       [1.]], dtype=float32)>"
            ]
          },
          "metadata": {},
          "execution_count": 8
        }
      ],
      "source": [
        "v[0, 0].assign(3.)"
      ]
    },
    {
      "cell_type": "markdown",
      "metadata": {
        "id": "Z8uFsaPl0A21"
      },
      "source": [
        "**Using `assign_add`**"
      ]
    },
    {
      "cell_type": "code",
      "execution_count": 9,
      "metadata": {
        "id": "6e8JLrw20A21",
        "outputId": "f2380591-02bb-4fcb-a555-8aaa98bdd636",
        "colab": {
          "base_uri": "https://localhost:8080/"
        }
      },
      "outputs": [
        {
          "output_type": "execute_result",
          "data": {
            "text/plain": [
              "<tf.Variable 'UnreadVariable' shape=(3, 1) dtype=float32, numpy=\n",
              "array([[4.],\n",
              "       [2.],\n",
              "       [2.]], dtype=float32)>"
            ]
          },
          "metadata": {},
          "execution_count": 9
        }
      ],
      "source": [
        "v.assign_add(tf.ones((3, 1)))"
      ]
    },
    {
      "cell_type": "markdown",
      "metadata": {
        "id": "b_Ghr29T0A21"
      },
      "source": [
        "#### Tensor operations: Doing math in TensorFlow"
      ]
    },
    {
      "cell_type": "markdown",
      "metadata": {
        "id": "IWV1muVe0A21"
      },
      "source": [
        "**A few basic math operations**"
      ]
    },
    {
      "cell_type": "code",
      "execution_count": 10,
      "metadata": {
        "id": "9BVr4Xsn0A22"
      },
      "outputs": [],
      "source": [
        "a = tf.ones((2, 2))\n",
        "b = tf.square(a)\n",
        "c = tf.sqrt(a)\n",
        "d = b + c\n",
        "e = tf.matmul(a, b)\n",
        "e *= d"
      ]
    },
    {
      "cell_type": "markdown",
      "metadata": {
        "id": "QQNg4k0e0A22"
      },
      "source": [
        "#### A second look at the GradientTape API"
      ]
    },
    {
      "cell_type": "markdown",
      "metadata": {
        "id": "Rd8pJS2G0A22"
      },
      "source": [
        "**Using the `GradientTape`**"
      ]
    },
    {
      "cell_type": "code",
      "execution_count": 11,
      "metadata": {
        "id": "BpI4GhLs0A22"
      },
      "outputs": [],
      "source": [
        "input_var = tf.Variable(initial_value=3.)\n",
        "with tf.GradientTape() as tape:\n",
        "   result = tf.square(input_var)\n",
        "gradient = tape.gradient(result, input_var)"
      ]
    },
    {
      "cell_type": "markdown",
      "metadata": {
        "id": "YNHCjyr-0A22"
      },
      "source": [
        "**Using `GradientTape` with constant tensor inputs**"
      ]
    },
    {
      "cell_type": "code",
      "execution_count": 12,
      "metadata": {
        "id": "4k5vubDQ0A22"
      },
      "outputs": [],
      "source": [
        "input_const = tf.constant(3.)\n",
        "with tf.GradientTape() as tape:\n",
        "   tape.watch(input_const)\n",
        "   result = tf.square(input_const)\n",
        "gradient = tape.gradient(result, input_const)"
      ]
    },
    {
      "cell_type": "markdown",
      "metadata": {
        "id": "-t5tskWR0A22"
      },
      "source": [
        "**Using nested gradient tapes to compute second-order gradients**"
      ]
    },
    {
      "cell_type": "code",
      "execution_count": 13,
      "metadata": {
        "id": "AM2xGM6K0A22"
      },
      "outputs": [],
      "source": [
        "time = tf.Variable(0.)\n",
        "with tf.GradientTape() as outer_tape:\n",
        "    with tf.GradientTape() as inner_tape:\n",
        "        position =  4.9 * time ** 2\n",
        "    speed = inner_tape.gradient(position, time)\n",
        "acceleration = outer_tape.gradient(speed, time)"
      ]
    },
    {
      "cell_type": "markdown",
      "metadata": {
        "id": "jXid9m-H0A22"
      },
      "source": [
        "#### An end-to-end example: A linear classifier in pure TensorFlow"
      ]
    },
    {
      "cell_type": "markdown",
      "metadata": {
        "id": "oRhNJRxF0A22"
      },
      "source": [
        "**Generating two classes of random points in a 2D plane**"
      ]
    },
    {
      "cell_type": "code",
      "execution_count": 14,
      "metadata": {
        "id": "cUZAwCUu0A23"
      },
      "outputs": [],
      "source": [
        "num_samples_per_class = 1000\n",
        "negative_samples = np.random.multivariate_normal(\n",
        "    mean=[0, 3],\n",
        "    cov=[[1, 0.5],[0.5, 1]],\n",
        "    size=num_samples_per_class)\n",
        "positive_samples = np.random.multivariate_normal(\n",
        "    mean=[3, 0],\n",
        "    cov=[[1, 0.5],[0.5, 1]],\n",
        "    size=num_samples_per_class)"
      ]
    },
    {
      "cell_type": "markdown",
      "metadata": {
        "id": "JzSgfxlE0A23"
      },
      "source": [
        "**Stacking the two classes into an array with shape (2000, 2)**"
      ]
    },
    {
      "cell_type": "code",
      "execution_count": 15,
      "metadata": {
        "id": "8mw8fT1-0A23"
      },
      "outputs": [],
      "source": [
        "inputs = np.vstack((negative_samples, positive_samples)).astype(np.float32)"
      ]
    },
    {
      "cell_type": "markdown",
      "metadata": {
        "id": "5QzwjQe30A23"
      },
      "source": [
        "**Generating the corresponding targets (0 and 1)**"
      ]
    },
    {
      "cell_type": "code",
      "execution_count": 16,
      "metadata": {
        "id": "QV4_nqWu0A23"
      },
      "outputs": [],
      "source": [
        "targets = np.vstack((np.zeros((num_samples_per_class, 1), dtype=\"float32\"),\n",
        "                     np.ones((num_samples_per_class, 1), dtype=\"float32\")))"
      ]
    },
    {
      "cell_type": "markdown",
      "metadata": {
        "id": "kAqVxHVF0A23"
      },
      "source": [
        "**Plotting the two point classes**"
      ]
    },
    {
      "cell_type": "code",
      "execution_count": 17,
      "metadata": {
        "id": "pGAzbkVq0A23",
        "outputId": "9bb99277-1073-4173-8832-c4befea372b7",
        "colab": {
          "base_uri": "https://localhost:8080/",
          "height": 266
        }
      },
      "outputs": [
        {
          "output_type": "display_data",
          "data": {
            "text/plain": [
              "<Figure size 432x288 with 1 Axes>"
            ],
            "image/png": "[encoded data removed]"
          },
          "metadata": {
            "needs_background": "light"
          }
        }
      ],
      "source": [
        "import matplotlib.pyplot as plt\n",
        "plt.scatter(inputs[:, 0], inputs[:, 1], c=targets[:, 0])\n",
        "plt.show()"
      ]
    },
    {
      "cell_type": "markdown",
      "metadata": {
        "id": "s5zN3MXM0A23"
      },
      "source": [
        "**Creating the linear classifier variables**"
      ]
    },
    {
      "cell_type": "code",
      "execution_count": 18,
      "metadata": {
        "id": "-4_Dkg5Q0A23"
      },
      "outputs": [],
      "source": [
        "input_dim = 2\n",
        "output_dim = 1\n",
        "W = tf.Variable(initial_value=tf.random.uniform(shape=(input_dim, output_dim)))\n",
        "b = tf.Variable(initial_value=tf.zeros(shape=(output_dim,)))"
      ]
    },
    {
      "cell_type": "markdown",
      "metadata": {
        "id": "i0wqvgwr0A23"
      },
      "source": [
        "**The forward pass function**"
      ]
    },
    {
      "cell_type": "code",
      "execution_count": 19,
      "metadata": {
        "id": "Ih5W0O6n0A23"
      },
      "outputs": [],
      "source": [
        "def model(inputs):\n",
        "    return tf.matmul(inputs, W) + b"
      ]
    },
    {
      "cell_type": "markdown",
      "metadata": {
        "id": "AEizlisn0A24"
      },
      "source": [
        "**The mean squared error loss function**"
      ]
    },
    {
      "cell_type": "code",
      "execution_count": 20,
      "metadata": {
        "id": "MSWAB64H0A24"
      },
      "outputs": [],
      "source": [
        "def square_loss(targets, predictions):\n",
        "    per_sample_losses = tf.square(targets - predictions)\n",
        "    return tf.reduce_mean(per_sample_losses)"
      ]
    },
    {
      "cell_type": "markdown",
      "metadata": {
        "id": "BQBixZJ70A24"
      },
      "source": [
        "**The training step function**"
      ]
    },
    {
      "cell_type": "code",
      "execution_count": 21,
      "metadata": {
        "id": "7Ypni9EK0A24"
      },
      "outputs": [],
      "source": [
        "learning_rate = 0.1\n",
        "\n",
        "def training_step(inputs, targets):\n",
        "    with tf.GradientTape() as tape:\n",
        "        predictions = model(inputs)\n",
        "        loss = square_loss(targets, predictions)\n",
        "    grad_loss_wrt_W, grad_loss_wrt_b = tape.gradient(loss, [W, b])\n",
        "    W.assign_sub(grad_loss_wrt_W * learning_rate)\n",
        "    b.assign_sub(grad_loss_wrt_b * learning_rate)\n",
        "    return loss"
      ]
    },
    {
      "cell_type": "markdown",
      "metadata": {
        "id": "5oaRtIKC0A24"
      },
      "source": [
        "**The batch training loop**"
      ]
    },
    {
      "cell_type": "code",
      "execution_count": 22,
      "metadata": {
        "id": "Q-gbT0K40A24",
        "outputId": "60a23ec8-cb94-4d2f-f8f8-c5c7e1ef5663",
        "colab": {
          "base_uri": "https://localhost:8080/"
        }
      },
      "outputs": [
        {
          "output_type": "stream",
          "name": "stdout",
          "text": [
            "Loss at step 0: 2.2610\n",
            "Loss at step 1: 0.3907\n",
            "Loss at step 2: 0.1542\n",
            "Loss at step 3: 0.1175\n",
            "Loss at step 4: 0.1065\n",
            "Loss at step 5: 0.0992\n",
            "Loss at step 6: 0.0929\n",
            "Loss at step 7: 0.0872\n",
            "Loss at step 8: 0.0819\n",
            "Loss at step 9: 0.0771\n",
            "Loss at step 10: 0.0727\n",
            "Loss at step 11: 0.0686\n",
            "Loss at step 12: 0.0649\n",
            "Loss at step 13: 0.0615\n",
            "Loss at step 14: 0.0583\n",
            "Loss at step 15: 0.0555\n",
            "Loss at step 16: 0.0528\n",
            "Loss at step 17: 0.0504\n",
            "Loss at step 18: 0.0482\n",
            "Loss at step 19: 0.0462\n",
            "Loss at step 20: 0.0443\n",
            "Loss at step 21: 0.0426\n",
            "Loss at step 22: 0.0410\n",
            "Loss at step 23: 0.0396\n",
            "Loss at step 24: 0.0383\n",
            "Loss at step 25: 0.0371\n",
            "Loss at step 26: 0.0360\n",
            "Loss at step 27: 0.0350\n",
            "Loss at step 28: 0.0340\n",
            "Loss at step 29: 0.0332\n",
            "Loss at step 30: 0.0324\n",
            "Loss at step 31: 0.0317\n",
            "Loss at step 32: 0.0310\n",
            "Loss at step 33: 0.0304\n",
            "Loss at step 34: 0.0298\n",
            "Loss at step 35: 0.0293\n",
            "Loss at step 36: 0.0289\n",
            "Loss at step 37: 0.0284\n",
            "Loss at step 38: 0.0280\n",
            "Loss at step 39: 0.0277\n"
          ]
        }
      ],
      "source": [
        "for step in range(40):\n",
        "    loss = training_step(inputs, targets)\n",
        "    print(f\"Loss at step {step}: {loss:.4f}\")"
      ]
    },
    {
      "cell_type": "code",
      "execution_count": 23,
      "metadata": {
        "id": "fST9ZEQI0A24",
        "outputId": "df6078ff-ff22-4a45-e8b5-5648c3ab4f12",
        "colab": {
          "base_uri": "https://localhost:8080/",
          "height": 266
        }
      },
      "outputs": [
        {
          "output_type": "display_data",
          "data": {
            "text/plain": [
              "<Figure size 432x288 with 1 Axes>"
            ],
            "image/png": "[encoded data removed]"
          },
          "metadata": {
            "needs_background": "light"
          }
        }
      ],
      "source": [
        "predictions = model(inputs)\n",
        "plt.scatter(inputs[:, 0], inputs[:, 1], c=predictions[:, 0] > 0.5)\n",
        "plt.show()"
      ]
    },
    {
      "cell_type": "code",
      "execution_count": 24,
      "metadata": {
        "id": "eNXTh3ua0A24",
        "outputId": "da663d6c-f02d-4b6c-8bf1-766e870e562e",
        "colab": {
          "base_uri": "https://localhost:8080/",
          "height": 284
        }
      },
      "outputs": [
        {
          "output_type": "execute_result",
          "data": {
            "text/plain": [
              "<matplotlib.collections.PathCollection at 0x7f35d1f82400>"
            ]
          },
          "metadata": {},
          "execution_count": 24
        },
        {
          "output_type": "display_data",
          "data": {
            "text/plain": [
              "<Figure size 432x288 with 1 Axes>"
            ],
            "image/png": "[encoded data removed]"
          },
          "metadata": {
            "needs_background": "light"
          }
        }
      ],
      "source": [
        "x = np.linspace(-1, 4, 100)\n",
        "y = - W[0] /  W[1] * x + (0.5 - b) / W[1]\n",
        "plt.plot(x, y, \"-r\")\n",
        "plt.scatter(inputs[:, 0], inputs[:, 1], c=predictions[:, 0] > 0.5)"
      ]
    },
    {
      "cell_type": "markdown",
      "metadata": {
        "id": "2Yi9DUgF0A24"
      },
      "source": [
        "## Anatomy of a neural network: Understanding core Keras APIs"
      ]
    },
    {
      "cell_type": "markdown",
      "metadata": {
        "id": "PdBYxg700A24"
      },
      "source": [
        "### Layers: The building blocks of deep learning"
      ]
    },
    {
      "cell_type": "markdown",
      "metadata": {
        "id": "9uuoDmIA0A24"
      },
      "source": [
        "#### The base Layer class in Keras"
      ]
    },
    {
      "cell_type": "markdown",
      "metadata": {
        "id": "KDpv7mKG0A24"
      },
      "source": [
        "**A `Dense` layer implemented as a `Layer` subclass**"
      ]
    },
    {
      "cell_type": "code",
      "execution_count": 25,
      "metadata": {
        "id": "AOvnG0x50A25"
      },
      "outputs": [],
      "source": [
        "from tensorflow import keras\n",
        "\n",
        "class SimpleDense(keras.layers.Layer):\n",
        "\n",
        "    def __init__(self, units, activation=None):\n",
        "        super().__init__()\n",
        "        self.units = units\n",
        "        self.activation = activation\n",
        "\n",
        "    def build(self, input_shape):\n",
        "        input_dim = input_shape[-1]\n",
        "        self.W = self.add_weight(shape=(input_dim, self.units),\n",
        "                                 initializer=\"random_normal\")\n",
        "        self.b = self.add_weight(shape=(self.units,),\n",
        "                                 initializer=\"zeros\")\n",
        "\n",
        "    def call(self, inputs):\n",
        "        y = tf.matmul(inputs, self.W) + self.b\n",
        "        if self.activation is not None:\n",
        "            y = self.activation(y)\n",
        "        return y"
      ]
    },
    {
      "cell_type": "code",
      "execution_count": 26,
      "metadata": {
        "id": "VH1WkBFu0A25",
        "outputId": "27eea9fd-1671-486d-b8b5-34ffa8b68e34",
        "colab": {
          "base_uri": "https://localhost:8080/"
        }
      },
      "outputs": [
        {
          "output_type": "stream",
          "name": "stdout",
          "text": [
            "(2, 32)\n"
          ]
        }
      ],
      "source": [
        "my_dense = SimpleDense(units=32, activation=tf.nn.relu)\n",
        "input_tensor = tf.ones(shape=(2, 784))\n",
        "output_tensor = my_dense(input_tensor)\n",
        "print(output_tensor.shape)"
      ]
    },
    {
      "cell_type": "markdown",
      "metadata": {
        "id": "t0Iu4UHe0A25"
      },
      "source": [
        "#### Automatic shape inference: Building layers on the fly"
      ]
    },
    {
      "cell_type": "code",
      "execution_count": 27,
      "metadata": {
        "id": "5qipVh6g0A25"
      },
      "outputs": [],
      "source": [
        "from tensorflow.keras import layers\n",
        "layer = layers.Dense(32, activation=\"relu\")"
      ]
    },
    {
      "cell_type": "code",
      "execution_count": 28,
      "metadata": {
        "id": "goM7teG80A25"
      },
      "outputs": [],
      "source": [
        "from tensorflow.keras import models\n",
        "from tensorflow.keras import layers\n",
        "model = models.Sequential([\n",
        "    layers.Dense(32, activation=\"relu\"),\n",
        "    layers.Dense(32)\n",
        "])"
      ]
    },
    {
      "cell_type": "code",
      "execution_count": 29,
      "metadata": {
        "id": "47c0_-wL0A25"
      },
      "outputs": [],
      "source": [
        "model = keras.Sequential([\n",
        "    SimpleDense(32, activation=\"relu\"),\n",
        "    SimpleDense(64, activation=\"relu\"),\n",
        "    SimpleDense(32, activation=\"relu\"),\n",
        "    SimpleDense(10, activation=\"softmax\")\n",
        "])"
      ]
    },
    {
      "cell_type": "markdown",
      "metadata": {
        "id": "NVjcP6O20A25"
      },
      "source": [
        "### From layers to models"
      ]
    },
    {
      "cell_type": "markdown",
      "metadata": {
        "id": "i0t4o9jE0A25"
      },
      "source": [
        "### The \"compile\" step: Configuring the learning process"
      ]
    },
    {
      "cell_type": "code",
      "execution_count": 30,
      "metadata": {
        "id": "TMLPbrux0A25"
      },
      "outputs": [],
      "source": [
        "model = keras.Sequential([keras.layers.Dense(1)])\n",
        "model.compile(optimizer=\"rmsprop\",\n",
        "              loss=\"mean_squared_error\",\n",
        "              metrics=[\"accuracy\"])"
      ]
    },
    {
      "cell_type": "code",
      "execution_count": 31,
      "metadata": {
        "id": "Di9Vgb100A25"
      },
      "outputs": [],
      "source": [
        "model.compile(optimizer=keras.optimizers.RMSprop(),\n",
        "              loss=keras.losses.MeanSquaredError(),\n",
        "              metrics=[keras.metrics.BinaryAccuracy()])"
      ]
    },
    {
      "cell_type": "markdown",
      "metadata": {
        "id": "m9ELiebe0A25"
      },
      "source": [
        "### Picking a loss function"
      ]
    },
    {
      "cell_type": "markdown",
      "metadata": {
        "id": "iDi_g1000A25"
      },
      "source": [
        "### Understanding the fit() method"
      ]
    },
    {
      "cell_type": "markdown",
      "metadata": {
        "id": "jpvdBrLO0A25"
      },
      "source": [
        "**Calling `fit()` with NumPy data**"
      ]
    },
    {
      "cell_type": "code",
      "execution_count": 32,
      "metadata": {
        "id": "pgZprjG-0A25",
        "outputId": "0e360619-be93-48b8-8d37-db86109f1e84",
        "colab": {
          "base_uri": "https://localhost:8080/"
        }
      },
      "outputs": [
        {
          "output_type": "stream",
          "name": "stdout",
          "text": [
            "Epoch 1/5\n",
            "16/16 [==============================] - 1s 3ms/step - loss: 12.7712 - binary_accuracy: 0.5075\n",
            "Epoch 2/5\n",
            "16/16 [==============================] - 0s 3ms/step - loss: 12.2002 - binary_accuracy: 0.5075\n",
            "Epoch 3/5\n",
            "16/16 [==============================] - 0s 2ms/step - loss: 11.7174 - binary_accuracy: 0.5075\n",
            "Epoch 4/5\n",
            "16/16 [==============================] - 0s 2ms/step - loss: 11.2537 - binary_accuracy: 0.5070\n",
            "Epoch 5/5\n",
            "16/16 [==============================] - 0s 3ms/step - loss: 10.8009 - binary_accuracy: 0.5075\n"
          ]
        }
      ],
      "source": [
        "history = model.fit(\n",
        "    inputs,\n",
        "    targets,\n",
        "    epochs=5,\n",
        "    batch_size=128\n",
        ")"
      ]
    },
    {
      "cell_type": "code",
      "execution_count": 33,
      "metadata": {
        "id": "xucvU18d0A26",
        "outputId": "72a665f6-ee85-4ca4-9a21-a3c7aa9cfbda",
        "colab": {
          "base_uri": "https://localhost:8080/"
        }
      },
      "outputs": [
        {
          "output_type": "execute_result",
          "data": {
            "text/plain": [
              "{'loss': [12.771228790283203,\n",
              "  12.200169563293457,\n",
              "  11.717422485351562,\n",
              "  11.253691673278809,\n",
              "  10.800874710083008],\n",
              " 'binary_accuracy': [0.5074999928474426,\n",
              "  0.5074999928474426,\n",
              "  0.5074999928474426,\n",
              "  0.5070000290870667,\n",
              "  0.5074999928474426]}"
            ]
          },
          "metadata": {},
          "execution_count": 33
        }
      ],
      "source": [
        "history.history"
      ]
    },
    {
      "cell_type": "markdown",
      "metadata": {
        "id": "hM9PMk9C0A26"
      },
      "source": [
        "### Monitoring loss and metrics on validation data"
      ]
    },
    {
      "cell_type": "markdown",
      "metadata": {
        "id": "-8FzGPPw0A26"
      },
      "source": [
        "**Using the `validation_data` argument**"
      ]
    },
    {
      "cell_type": "code",
      "execution_count": 34,
      "metadata": {
        "id": "v3pBRBuN0A26",
        "outputId": "e04d2f83-aee7-4cd7-81e0-6825dbe456b4",
        "colab": {
          "base_uri": "https://localhost:8080/"
        }
      },
      "outputs": [
        {
          "output_type": "stream",
          "name": "stdout",
          "text": [
            "Epoch 1/5\n",
            "88/88 [==============================] - 1s 5ms/step - loss: 0.5294 - binary_accuracy: 0.8743 - val_loss: 0.0476 - val_binary_accuracy: 0.9983\n",
            "Epoch 2/5\n",
            "88/88 [==============================] - 0s 3ms/step - loss: 0.0751 - binary_accuracy: 0.9521 - val_loss: 0.0439 - val_binary_accuracy: 0.9967\n",
            "Epoch 3/5\n",
            "88/88 [==============================] - 0s 3ms/step - loss: 0.0673 - binary_accuracy: 0.9593 - val_loss: 0.0347 - val_binary_accuracy: 0.9983\n",
            "Epoch 4/5\n",
            "88/88 [==============================] - 0s 3ms/step - loss: 0.0692 - binary_accuracy: 0.9593 - val_loss: 0.4308 - val_binary_accuracy: 0.7717\n",
            "Epoch 5/5\n",
            "88/88 [==============================] - 0s 3ms/step - loss: 0.0755 - binary_accuracy: 0.9521 - val_loss: 0.0846 - val_binary_accuracy: 0.9350\n"
          ]
        },
        {
          "output_type": "execute_result",
          "data": {
            "text/plain": [
              "<keras.callbacks.History at 0x7f35d12338b0>"
            ]
          },
          "metadata": {},
          "execution_count": 34
        }
      ],
      "source": [
        "model = keras.Sequential([keras.layers.Dense(1)])\n",
        "model.compile(optimizer=keras.optimizers.RMSprop(learning_rate=0.1),\n",
        "              loss=keras.losses.MeanSquaredError(),\n",
        "              metrics=[keras.metrics.BinaryAccuracy()])\n",
        "\n",
        "indices_permutation = np.random.permutation(len(inputs))\n",
        "shuffled_inputs = inputs[indices_permutation]\n",
        "shuffled_targets = targets[indices_permutation]\n",
        "\n",
        "num_validation_samples = int(0.3 * len(inputs))\n",
        "val_inputs = shuffled_inputs[:num_validation_samples]\n",
        "val_targets = shuffled_targets[:num_validation_samples]\n",
        "training_inputs = shuffled_inputs[num_validation_samples:]\n",
        "training_targets = shuffled_targets[num_validation_samples:]\n",
        "model.fit(\n",
        "    training_inputs,\n",
        "    training_targets,\n",
        "    epochs=5,\n",
        "    batch_size=16,\n",
        "    validation_data=(val_inputs, val_targets)\n",
        ")"
      ]
    },
    {
      "cell_type": "markdown",
      "metadata": {
        "id": "p2yqeGo-0A26"
      },
      "source": [
        "### Inference: Using a model after training"
      ]
    },
    {
      "cell_type": "code",
      "execution_count": 35,
      "metadata": {
        "id": "OT399DMt0A26",
        "outputId": "af36bea1-a69c-40cf-8640-50d53f4522b0",
        "colab": {
          "base_uri": "https://localhost:8080/"
        }
      },
      "outputs": [
        {
          "output_type": "stream",
          "name": "stdout",
          "text": [
            "5/5 [==============================] - 0s 2ms/step\n",
            "[[ 0.48826516]\n",
            " [-0.1817176 ]\n",
            " [ 0.01422101]\n",
            " [ 0.06208071]\n",
            " [ 0.53570104]\n",
            " [ 0.17446151]\n",
            " [-0.04890427]\n",
            " [ 0.6651808 ]\n",
            " [ 0.17989722]\n",
            " [ 0.08153433]]\n"
          ]
        }
      ],
      "source": [
        "predictions = model.predict(val_inputs, batch_size=128)\n",
        "print(predictions[:10])"
      ]
    },
    {
      "cell_type": "markdown",
      "metadata": {
        "id": "o25VtbQ10A26"
      },
      "source": [
        "## Summary"
      ]
    },
    {
      "cell_type": "markdown",
      "source": [
        "#**03.27 Practice**"
      ],
      "metadata": {
        "id": "0j29xhnM0uZK"
      }
    },
    {
      "cell_type": "markdown",
      "source": [
        "- 2D 평면에 두 클래스의 랜덤한 포인트 생성하기"
      ],
      "metadata": {
        "id": "eV_rrL3O26us"
      }
    },
    {
      "cell_type": "code",
      "source": [
        "num_samples_per_class = 500\n",
        "negative_samples = np.random.multivariate_normal(\n",
        "    mean=[2, 3],\n",
        "    cov=[[1, 0.2],[0.5, 1]],\n",
        "    size=num_samples_per_class)\n",
        "positive_samples = np.random.multivariate_normal(\n",
        "    mean=[3, 1],\n",
        "    cov=[[1, 0.5],[0.5, 1]],\n",
        "    size=num_samples_per_class)"
      ],
      "metadata": {
        "id": "o8d615-P0xA_",
        "outputId": "39c0c54f-1b43-495f-8080-047c53d6274a",
        "colab": {
          "base_uri": "https://localhost:8080/"
        }
      },
      "execution_count": 71,
      "outputs": [
        {
          "output_type": "stream",
          "name": "stderr",
          "text": [
            "<ipython-input-71-c572f7a5902a>:2: RuntimeWarning: covariance is not positive-semidefinite.\n",
            "  negative_samples = np.random.multivariate_normal(\n"
          ]
        }
      ]
    },
    {
      "cell_type": "code",
      "source": [
        "negative_samples"
      ],
      "metadata": {
        "id": "TzD_dKfE3OXs"
      },
      "execution_count": null,
      "outputs": []
    },
    {
      "cell_type": "code",
      "source": [
        "positive_samples"
      ],
      "metadata": {
        "id": "bSzcHj_D3Um1"
      },
      "execution_count": null,
      "outputs": []
    },
    {
      "cell_type": "markdown",
      "source": [
        "- 두 클래스를 한 배열로 쌓기"
      ],
      "metadata": {
        "id": "bnedih5u3F4n"
      }
    },
    {
      "cell_type": "code",
      "source": [
        "inputs = np.vstack((negative_samples, positive_samples)).astype(np.float32)"
      ],
      "metadata": {
        "id": "AS4x78u51ETu"
      },
      "execution_count": 72,
      "outputs": []
    },
    {
      "cell_type": "markdown",
      "source": [
        "- (0과 1로 구성된) 타깃 생성하기"
      ],
      "metadata": {
        "id": "x9FXXUkd5N8f"
      }
    },
    {
      "cell_type": "code",
      "source": [
        "targets = np.vstack((np.zeros((num_samples_per_class, 1), dtype=\"float32\"),\n",
        "                     np.ones((num_samples_per_class, 1), dtype=\"float32\")))"
      ],
      "metadata": {
        "id": "7PjxGqXP1Ih_"
      },
      "execution_count": 73,
      "outputs": []
    },
    {
      "cell_type": "markdown",
      "source": [
        "- 두 클래스의 포인트를 그래프로 나타내기"
      ],
      "metadata": {
        "id": "EtEyL_6t5U1w"
      }
    },
    {
      "cell_type": "code",
      "source": [
        "import matplotlib.pyplot as plt\n",
        "plt.scatter(inputs[:, 0], inputs[:, 1], c=targets[:, 0])\n",
        "plt.show()"
      ],
      "metadata": {
        "id": "m7h8yHgL1SKB",
        "outputId": "5b0f79e7-86c8-45d6-f7f6-fa0ee70facbd",
        "colab": {
          "base_uri": "https://localhost:8080/",
          "height": 265
        }
      },
      "execution_count": 74,
      "outputs": [
        {
          "output_type": "display_data",
          "data": {
            "text/plain": [
              "<Figure size 432x288 with 1 Axes>"
            ],
            "image/png": "[encoded data removed]"
          },
          "metadata": {
            "needs_background": "light"
          }
        }
      ]
    },
    {
      "cell_type": "markdown",
      "source": [
        "- 선형 분류기의 변수 만들기"
      ],
      "metadata": {
        "id": "GVHNsUa35bKF"
      }
    },
    {
      "cell_type": "code",
      "source": [
        "input_dim = 2\n",
        "output_dim = 1\n",
        "W = tf.Variable(initial_value=tf.random.uniform(shape=(input_dim, output_dim)))\n",
        "b = tf.Variable(initial_value=tf.zeros(shape=(output_dim,)))"
      ],
      "metadata": {
        "id": "OAJk4NTm1YF6"
      },
      "execution_count": 75,
      "outputs": []
    },
    {
      "cell_type": "markdown",
      "source": [
        "- 정방향 패스 함수"
      ],
      "metadata": {
        "id": "toRyZdP75dDC"
      }
    },
    {
      "cell_type": "code",
      "source": [
        "def model(inputs):\n",
        "    return tf.matmul(inputs, W) + b"
      ],
      "metadata": {
        "id": "F3ONHLQx1bvr"
      },
      "execution_count": 76,
      "outputs": []
    },
    {
      "cell_type": "markdown",
      "source": [
        "- 평균 제곱 오차 손실 함수"
      ],
      "metadata": {
        "id": "td5G5cdH5eu8"
      }
    },
    {
      "cell_type": "code",
      "source": [
        "def square_loss(targets, predictions):\n",
        "    per_sample_losses = tf.square(targets - predictions)\n",
        "    return tf.reduce_mean(per_sample_losses)"
      ],
      "metadata": {
        "id": "ynO9o_5M1fYF"
      },
      "execution_count": 77,
      "outputs": []
    },
    {
      "cell_type": "markdown",
      "source": [
        "- 훈련 스텝 함수"
      ],
      "metadata": {
        "id": "hg5JRjui5hk9"
      }
    },
    {
      "cell_type": "code",
      "source": [
        "learning_rate = 0.02 #0.1로 하다가 줄임\n",
        "\n",
        "def training_step(inputs, targets):\n",
        "    with tf.GradientTape() as tape:\n",
        "        predictions = model(inputs)\n",
        "        loss = square_loss(targets, predictions)\n",
        "    grad_loss_wrt_W, grad_loss_wrt_b = tape.gradient(loss, [W, b])\n",
        "    W.assign_sub(grad_loss_wrt_W * learning_rate)\n",
        "    b.assign_sub(grad_loss_wrt_b * learning_rate)\n",
        "    return loss"
      ],
      "metadata": {
        "id": "RQlLNqwQ1jfE"
      },
      "execution_count": 82,
      "outputs": []
    },
    {
      "cell_type": "markdown",
      "source": [
        "- 배치 훈련 루프"
      ],
      "metadata": {
        "id": "GMbbZmla5qk-"
      }
    },
    {
      "cell_type": "code",
      "source": [
        "for step in range(40):\n",
        "    loss = training_step(inputs, targets)\n",
        "    print(f\"Loss at step {step}: {loss:.4f}\")"
      ],
      "metadata": {
        "id": "DL9nrDAc1msG",
        "outputId": "e4657f68-c935-4ccf-b7de-babc0f5c2645",
        "colab": {
          "base_uri": "https://localhost:8080/"
        }
      },
      "execution_count": 83,
      "outputs": [
        {
          "output_type": "stream",
          "name": "stdout",
          "text": [
            "Loss at step 0: 0.1466\n",
            "Loss at step 1: 0.1425\n",
            "Loss at step 2: 0.1389\n",
            "Loss at step 3: 0.1357\n",
            "Loss at step 4: 0.1329\n",
            "Loss at step 5: 0.1305\n",
            "Loss at step 6: 0.1284\n",
            "Loss at step 7: 0.1265\n",
            "Loss at step 8: 0.1249\n",
            "Loss at step 9: 0.1235\n",
            "Loss at step 10: 0.1222\n",
            "Loss at step 11: 0.1210\n",
            "Loss at step 12: 0.1200\n",
            "Loss at step 13: 0.1191\n",
            "Loss at step 14: 0.1183\n",
            "Loss at step 15: 0.1176\n",
            "Loss at step 16: 0.1169\n",
            "Loss at step 17: 0.1163\n",
            "Loss at step 18: 0.1157\n",
            "Loss at step 19: 0.1152\n",
            "Loss at step 20: 0.1148\n",
            "Loss at step 21: 0.1143\n",
            "Loss at step 22: 0.1139\n",
            "Loss at step 23: 0.1136\n",
            "Loss at step 24: 0.1132\n",
            "Loss at step 25: 0.1129\n",
            "Loss at step 26: 0.1126\n",
            "Loss at step 27: 0.1123\n",
            "Loss at step 28: 0.1120\n",
            "Loss at step 29: 0.1117\n",
            "Loss at step 30: 0.1115\n",
            "Loss at step 31: 0.1112\n",
            "Loss at step 32: 0.1110\n",
            "Loss at step 33: 0.1107\n",
            "Loss at step 34: 0.1105\n",
            "Loss at step 35: 0.1103\n",
            "Loss at step 36: 0.1101\n",
            "Loss at step 37: 0.1099\n",
            "Loss at step 38: 0.1096\n",
            "Loss at step 39: 0.1094\n"
          ]
        }
      ]
    },
    {
      "cell_type": "code",
      "source": [
        "predictions = model(inputs)\n",
        "plt.scatter(inputs[:, 0], inputs[:, 1], c=predictions[:, 0] > 0.5)\n",
        "plt.show()"
      ],
      "metadata": {
        "id": "hhUQ6IdI1p58",
        "outputId": "7c66d1f4-b164-4fe8-c403-92a8778f8382",
        "colab": {
          "base_uri": "https://localhost:8080/",
          "height": 265
        }
      },
      "execution_count": 84,
      "outputs": [
        {
          "output_type": "display_data",
          "data": {
            "text/plain": [
              "<Figure size 432x288 with 1 Axes>"
            ],
            "image/png": "[encoded data removed]"
          },
          "metadata": {
            "needs_background": "light"
          }
        }
      ]
    },
    {
      "cell_type": "code",
      "source": [
        "x = np.linspace(-1, 4, 100)\n",
        "y = - W[0] /  W[1] * x + (0.5 - b) / W[1]\n",
        "plt.plot(x, y, \"-r\")\n",
        "plt.scatter(inputs[:, 0], inputs[:, 1], c=predictions[:, 0] > 0.5)"
      ],
      "metadata": {
        "id": "B9veK0am1t8k",
        "outputId": "1d0e8bb5-4aed-44a1-a768-278498738c33",
        "colab": {
          "base_uri": "https://localhost:8080/",
          "height": 283
        }
      },
      "execution_count": 85,
      "outputs": [
        {
          "output_type": "execute_result",
          "data": {
            "text/plain": [
              "<matplotlib.collections.PathCollection at 0x7f3546099f10>"
            ]
          },
          "metadata": {},
          "execution_count": 85
        },
        {
          "output_type": "display_data",
          "data": {
            "text/plain": [
              "<Figure size 432x288 with 1 Axes>"
            ],
            "image/png": "[encoded data removed]"
          },
          "metadata": {
            "needs_background": "light"
          }
        }
      ]
    },
    {
      "cell_type": "markdown",
      "source": [
        "- "
      ],
      "metadata": {
        "id": "W2nBueBs6jgc"
      }
    },
    {
      "cell_type": "code",
      "source": [
        "model = keras.Sequential([keras.layers.Dense(1)])\n",
        "model.compile(optimizer=keras.optimizers.RMSprop(learning_rate=0.01),\n",
        "              loss=keras.losses.MeanSquaredError(),\n",
        "              metrics=[keras.metrics.BinaryAccuracy()])\n",
        "\n",
        "indices_permutation = np.random.permutation(len(inputs))\n",
        "shuffled_inputs = inputs[indices_permutation]\n",
        "shuffled_targets = targets[indices_permutation]\n",
        "\n",
        "num_validation_samples = int(0.3 * len(inputs))\n",
        "val_inputs = shuffled_inputs[:num_validation_samples]\n",
        "val_targets = shuffled_targets[:num_validation_samples]\n",
        "training_inputs = shuffled_inputs[num_validation_samples:]\n",
        "training_targets = shuffled_targets[num_validation_samples:]\n",
        "model.fit(\n",
        "    training_inputs,\n",
        "    training_targets,\n",
        "    epochs=5,\n",
        "    batch_size=16,\n",
        "    validation_data=(val_inputs, val_targets)\n",
        ")"
      ],
      "metadata": {
        "id": "ojBArlN32a9l",
        "outputId": "14d14b80-b3fe-414f-ef74-1b961f5a6d22",
        "colab": {
          "base_uri": "https://localhost:8080/"
        }
      },
      "execution_count": 86,
      "outputs": [
        {
          "output_type": "stream",
          "name": "stdout",
          "text": [
            "Epoch 1/5\n",
            "44/44 [==============================] - 1s 6ms/step - loss: 22.2235 - binary_accuracy: 0.5157 - val_loss: 12.1223 - val_binary_accuracy: 0.4700\n",
            "Epoch 2/5\n",
            "44/44 [==============================] - 0s 4ms/step - loss: 6.0660 - binary_accuracy: 0.5200 - val_loss: 2.0263 - val_binary_accuracy: 0.4767\n",
            "Epoch 3/5\n",
            "44/44 [==============================] - 0s 3ms/step - loss: 0.6923 - binary_accuracy: 0.5643 - val_loss: 0.2102 - val_binary_accuracy: 0.6867\n",
            "Epoch 4/5\n",
            "44/44 [==============================] - 0s 4ms/step - loss: 0.1553 - binary_accuracy: 0.7900 - val_loss: 0.1175 - val_binary_accuracy: 0.8467\n",
            "Epoch 5/5\n",
            "44/44 [==============================] - 0s 4ms/step - loss: 0.1099 - binary_accuracy: 0.8714 - val_loss: 0.1032 - val_binary_accuracy: 0.8667\n"
          ]
        },
        {
          "output_type": "execute_result",
          "data": {
            "text/plain": [
              "<keras.callbacks.History at 0x7f35460bfe80>"
            ]
          },
          "metadata": {},
          "execution_count": 86
        }
      ]
    }
  ],
  "metadata": {
    "colab": {
      "name": "chapter03_introduction-to-keras-and-tf.i",
      "provenance": [],
      "toc_visible": true,
      "include_colab_link": true
    },
    "kernelspec": {
      "display_name": "Python 3",
      "language": "python",
      "name": "python3"
    },
    "language_info": {
      "codemirror_mode": {
        "name": "ipython",
        "version": 3
      },
      "file_extension": ".py",
      "mimetype": "text/x-python",
      "name": "python",
      "nbconvert_exporter": "python",
      "pygments_lexer": "ipython3",
      "version": "3.7.0"
    },
    "accelerator": "GPU",
    "gpuClass": "standard"
  },
  "nbformat": 4,
  "nbformat_minor": 0
}