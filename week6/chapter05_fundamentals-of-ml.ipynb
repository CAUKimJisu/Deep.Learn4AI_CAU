{
  "cells": [
    {
      "cell_type": "markdown",
      "metadata": {
        "id": "view-in-github",
        "colab_type": "text"
      },
      "source": [
        "<a href=\"https://colab.research.google.com/github/CAUKimJisu/Deep.Learn4AI_CAU/blob/main/week6/chapter05_fundamentals-of-ml.ipynb\" target=\"_parent\"><img src=\"https://colab.research.google.com/assets/colab-badge.svg\" alt=\"Open In Colab\"/></a>"
      ]
    },
    {
      "cell_type": "markdown",
      "metadata": {
        "id": "Trx9FhN2u4kn"
      },
      "source": [
        "This is a companion notebook for the book [Deep Learning with Python, Second Edition](https://www.manning.com/books/deep-learning-with-python-second-edition?a_aid=keras&a_bid=76564dff). For readability, it only contains runnable code blocks and section titles, and omits everything else in the book: text paragraphs, figures, and pseudocode.\n",
        "\n",
        "**If you want to be able to follow what's going on, I recommend reading the notebook side by side with your copy of the book.**\n",
        "\n",
        "This notebook was generated for TensorFlow 2.6."
      ]
    },
    {
      "cell_type": "markdown",
      "metadata": {
        "id": "6PfPlii-u4kv"
      },
      "source": [
        "# Fundamentals of machine learning"
      ]
    },
    {
      "cell_type": "markdown",
      "metadata": {
        "id": "5UW3uhkNu4kw"
      },
      "source": [
        "## Generalization: The goal of machine learning"
      ]
    },
    {
      "cell_type": "markdown",
      "metadata": {
        "id": "5u226eMyu4kw"
      },
      "source": [
        "### Underfitting and overfitting"
      ]
    },
    {
      "cell_type": "markdown",
      "metadata": {
        "id": "T58fsEQ7u4kx"
      },
      "source": [
        "#### Noisy training data"
      ]
    },
    {
      "cell_type": "markdown",
      "metadata": {
        "id": "ABBtgAvcu4ky"
      },
      "source": [
        "#### Ambiguous features"
      ]
    },
    {
      "cell_type": "markdown",
      "metadata": {
        "id": "Nh07hzbFu4kz"
      },
      "source": [
        "#### Rare features and spurious correlations"
      ]
    },
    {
      "cell_type": "markdown",
      "metadata": {
        "id": "ZtfO4L5Ru4k0"
      },
      "source": [
        "**Adding white-noise channels or all-zeros channels to MNIST**"
      ]
    },
    {
      "cell_type": "code",
      "execution_count": 15,
      "metadata": {
        "id": "kIVsYugZu4k1"
      },
      "outputs": [],
      "source": [
        "from tensorflow.keras.datasets import mnist\n",
        "import numpy as np\n",
        "\n",
        "(train_images, train_labels), _ = mnist.load_data()\n",
        "train_images = train_images.reshape((60000, 28 * 28))\n",
        "train_images = train_images.astype(\"float32\") / 255\n",
        "\n",
        "train_images_with_noise_channels = np.concatenate(\n",
        "    [train_images, np.random.random((len(train_images), 784))], axis=1)\n",
        "\n",
        "train_images_with_zeros_channels = np.concatenate(\n",
        "    [train_images, np.zeros((len(train_images), 784))], axis=1)"
      ]
    },
    {
      "cell_type": "markdown",
      "metadata": {
        "id": "AlXnPJZYu4k3"
      },
      "source": [
        "**Training the same model on MNIST data with noise channels or all-zero channels**"
      ]
    },
    {
      "cell_type": "code",
      "execution_count": 16,
      "metadata": {
        "id": "oGFUgW1Ku4k3",
        "outputId": "8d60cd39-1d87-4672-c1b3-4359bd42e291",
        "colab": {
          "base_uri": "https://localhost:8080/"
        }
      },
      "outputs": [
        {
          "output_type": "stream",
          "name": "stdout",
          "text": [
            "Epoch 1/10\n",
            "375/375 [==============================] - 2s 5ms/step - loss: 0.6085 - accuracy: 0.8139 - val_loss: 0.3279 - val_accuracy: 0.8958\n",
            "Epoch 2/10\n",
            "375/375 [==============================] - 1s 3ms/step - loss: 0.2567 - accuracy: 0.9198 - val_loss: 0.2102 - val_accuracy: 0.9348\n",
            "Epoch 3/10\n",
            "375/375 [==============================] - 1s 4ms/step - loss: 0.1692 - accuracy: 0.9476 - val_loss: 0.1681 - val_accuracy: 0.9486\n",
            "Epoch 4/10\n",
            "375/375 [==============================] - 1s 4ms/step - loss: 0.1219 - accuracy: 0.9621 - val_loss: 0.1376 - val_accuracy: 0.9611\n",
            "Epoch 5/10\n",
            "375/375 [==============================] - 1s 4ms/step - loss: 0.0894 - accuracy: 0.9724 - val_loss: 0.1302 - val_accuracy: 0.9637\n",
            "Epoch 6/10\n",
            "375/375 [==============================] - 2s 5ms/step - loss: 0.0657 - accuracy: 0.9791 - val_loss: 0.1287 - val_accuracy: 0.9643\n",
            "Epoch 7/10\n",
            "375/375 [==============================] - 1s 4ms/step - loss: 0.0488 - accuracy: 0.9844 - val_loss: 0.1181 - val_accuracy: 0.9668\n",
            "Epoch 8/10\n",
            "375/375 [==============================] - 1s 3ms/step - loss: 0.0370 - accuracy: 0.9881 - val_loss: 0.1184 - val_accuracy: 0.9680\n",
            "Epoch 9/10\n",
            "375/375 [==============================] - 1s 4ms/step - loss: 0.0273 - accuracy: 0.9915 - val_loss: 0.1226 - val_accuracy: 0.9670\n",
            "Epoch 10/10\n",
            "375/375 [==============================] - 1s 4ms/step - loss: 0.0194 - accuracy: 0.9943 - val_loss: 0.2665 - val_accuracy: 0.9325\n",
            "Epoch 1/10\n",
            "375/375 [==============================] - 2s 4ms/step - loss: 0.2954 - accuracy: 0.9139 - val_loss: 0.1562 - val_accuracy: 0.9557\n",
            "Epoch 2/10\n",
            "375/375 [==============================] - 1s 4ms/step - loss: 0.1245 - accuracy: 0.9633 - val_loss: 0.1068 - val_accuracy: 0.9685\n",
            "Epoch 3/10\n",
            "375/375 [==============================] - 1s 4ms/step - loss: 0.0812 - accuracy: 0.9762 - val_loss: 0.1079 - val_accuracy: 0.9674\n",
            "Epoch 4/10\n",
            "375/375 [==============================] - 1s 4ms/step - loss: 0.0585 - accuracy: 0.9828 - val_loss: 0.0814 - val_accuracy: 0.9759\n",
            "Epoch 5/10\n",
            "375/375 [==============================] - 1s 3ms/step - loss: 0.0429 - accuracy: 0.9874 - val_loss: 0.0810 - val_accuracy: 0.9761\n",
            "Epoch 6/10\n",
            "375/375 [==============================] - 1s 4ms/step - loss: 0.0335 - accuracy: 0.9902 - val_loss: 0.0780 - val_accuracy: 0.9772\n",
            "Epoch 7/10\n",
            "375/375 [==============================] - 1s 4ms/step - loss: 0.0257 - accuracy: 0.9925 - val_loss: 0.0741 - val_accuracy: 0.9781\n",
            "Epoch 8/10\n",
            "375/375 [==============================] - 2s 5ms/step - loss: 0.0195 - accuracy: 0.9948 - val_loss: 0.0734 - val_accuracy: 0.9793\n",
            "Epoch 9/10\n",
            "375/375 [==============================] - 1s 4ms/step - loss: 0.0143 - accuracy: 0.9963 - val_loss: 0.0764 - val_accuracy: 0.9796\n",
            "Epoch 10/10\n",
            "375/375 [==============================] - 1s 4ms/step - loss: 0.0106 - accuracy: 0.9975 - val_loss: 0.0739 - val_accuracy: 0.9802\n",
            "Epoch 1/10\n",
            "375/375 [==============================] - 2s 4ms/step - loss: 0.2899 - accuracy: 0.9167 - val_loss: 0.1486 - val_accuracy: 0.9595\n",
            "Epoch 2/10\n",
            "375/375 [==============================] - 2s 5ms/step - loss: 0.1221 - accuracy: 0.9646 - val_loss: 0.1077 - val_accuracy: 0.9673\n",
            "Epoch 3/10\n",
            "375/375 [==============================] - 1s 4ms/step - loss: 0.0796 - accuracy: 0.9767 - val_loss: 0.0921 - val_accuracy: 0.9724\n",
            "Epoch 4/10\n",
            "375/375 [==============================] - 1s 3ms/step - loss: 0.0574 - accuracy: 0.9830 - val_loss: 0.0813 - val_accuracy: 0.9753\n",
            "Epoch 5/10\n",
            "375/375 [==============================] - 1s 3ms/step - loss: 0.0431 - accuracy: 0.9876 - val_loss: 0.0989 - val_accuracy: 0.9707\n",
            "Epoch 6/10\n",
            "375/375 [==============================] - 1s 4ms/step - loss: 0.0325 - accuracy: 0.9907 - val_loss: 0.0784 - val_accuracy: 0.9758\n",
            "Epoch 7/10\n",
            "375/375 [==============================] - 1s 4ms/step - loss: 0.0239 - accuracy: 0.9935 - val_loss: 0.0863 - val_accuracy: 0.9750\n",
            "Epoch 8/10\n",
            "375/375 [==============================] - 1s 4ms/step - loss: 0.0182 - accuracy: 0.9954 - val_loss: 0.0778 - val_accuracy: 0.9793\n",
            "Epoch 9/10\n",
            "375/375 [==============================] - 1s 4ms/step - loss: 0.0135 - accuracy: 0.9967 - val_loss: 0.0759 - val_accuracy: 0.9787\n",
            "Epoch 10/10\n",
            "375/375 [==============================] - 1s 4ms/step - loss: 0.0103 - accuracy: 0.9971 - val_loss: 0.0814 - val_accuracy: 0.9787\n"
          ]
        }
      ],
      "source": [
        "from tensorflow import keras\n",
        "from tensorflow.keras import layers\n",
        "\n",
        "def get_model():\n",
        "    model = keras.Sequential([\n",
        "        layers.Dense(512, activation=\"relu\"),\n",
        "        layers.Dense(10, activation=\"softmax\")\n",
        "    ])\n",
        "    model.compile(optimizer=\"rmsprop\",\n",
        "                  loss=\"sparse_categorical_crossentropy\",\n",
        "                  metrics=[\"accuracy\"])\n",
        "    return model\n",
        "\n",
        "model1 = get_model()\n",
        "history_noise = model1.fit(\n",
        "    train_images_with_noise_channels, train_labels,\n",
        "    epochs=10,\n",
        "    batch_size=128,\n",
        "    validation_split=0.2)\n",
        "\n",
        "model2 = get_model()\n",
        "history_zeros = model2.fit(\n",
        "    train_images_with_zeros_channels, train_labels,\n",
        "    epochs=10,\n",
        "    batch_size=128,\n",
        "    validation_split=0.2)\n",
        "\n",
        "model3 = get_model()\n",
        "history_original = model3.fit(\n",
        "    train_images, train_labels,\n",
        "    epochs=10,\n",
        "    batch_size=128,\n",
        "    validation_split=0.2)"
      ]
    },
    {
      "cell_type": "markdown",
      "metadata": {
        "id": "Pw-wnM-mu4k4"
      },
      "source": [
        "**Plotting a validation accuracy comparison**"
      ]
    },
    {
      "cell_type": "code",
      "execution_count": 18,
      "metadata": {
        "id": "Td_ER4GSu4k4",
        "outputId": "3cf76e91-29fc-4583-ec25-6b66c8fd5abf",
        "colab": {
          "base_uri": "https://localhost:8080/",
          "height": 490
        }
      },
      "outputs": [
        {
          "output_type": "execute_result",
          "data": {
            "text/plain": [
              "<matplotlib.legend.Legend at 0x7f6a03d94820>"
            ]
          },
          "metadata": {},
          "execution_count": 18
        },
        {
          "output_type": "display_data",
          "data": {
            "text/plain": [
              "<Figure size 640x480 with 1 Axes>"
            ],
            "image/png": "[encoded data removed]"
          },
          "metadata": {}
        }
      ],
      "source": [
        "import matplotlib.pyplot as plt\n",
        "val_acc_noise = history_noise.history[\"val_accuracy\"]\n",
        "val_acc_zeros = history_zeros.history[\"val_accuracy\"]\n",
        "val_acc_original = history_original.history[\"val_accuracy\"]\n",
        "epochs = range(1, 11)\n",
        "plt.plot(epochs, val_acc_noise, \"b-\",\n",
        "         label=\"Validation accuracy with noise channels\")\n",
        "plt.plot(epochs, val_acc_zeros, \"b--\",\n",
        "         label=\"Validation accuracy with zeros channels\")\n",
        "plt.plot(epochs, val_acc_original, \"r--\",\n",
        "         label=\"Validation accuracy with original data\")\n",
        "plt.title(\"Effect of noise channels on validation accuracy\")\n",
        "plt.xlabel(\"Epochs\")\n",
        "plt.ylabel(\"Accuracy\")\n",
        "plt.legend()"
      ]
    },
    {
      "cell_type": "markdown",
      "metadata": {
        "id": "Qu283h3fu4k5"
      },
      "source": [
        "### The nature of generalization in deep learning"
      ]
    },
    {
      "cell_type": "markdown",
      "metadata": {
        "id": "LRe30-P9u4k5"
      },
      "source": [
        "**Fitting a MNIST model with randomly shuffled labels**"
      ]
    },
    {
      "cell_type": "code",
      "execution_count": 19,
      "metadata": {
        "id": "YyNeC6CSu4k5",
        "outputId": "7e15c56e-cdd9-41db-d8b6-9098ac701d67",
        "colab": {
          "base_uri": "https://localhost:8080/"
        }
      },
      "outputs": [
        {
          "output_type": "stream",
          "name": "stdout",
          "text": [
            "Epoch 1/100\n",
            "375/375 [==============================] - 2s 5ms/step - loss: 2.3149 - accuracy: 0.1017 - val_loss: 2.3061 - val_accuracy: 0.1037\n",
            "Epoch 2/100\n",
            "375/375 [==============================] - 2s 4ms/step - loss: 2.2991 - accuracy: 0.1151 - val_loss: 2.3133 - val_accuracy: 0.1008\n",
            "Epoch 3/100\n",
            "375/375 [==============================] - 1s 3ms/step - loss: 2.2908 - accuracy: 0.1266 - val_loss: 2.3200 - val_accuracy: 0.0998\n",
            "Epoch 4/100\n",
            "375/375 [==============================] - 1s 4ms/step - loss: 2.2784 - accuracy: 0.1380 - val_loss: 2.3255 - val_accuracy: 0.1028\n",
            "Epoch 5/100\n",
            "375/375 [==============================] - 1s 3ms/step - loss: 2.2632 - accuracy: 0.1532 - val_loss: 2.3398 - val_accuracy: 0.0976\n",
            "Epoch 6/100\n",
            "375/375 [==============================] - 1s 3ms/step - loss: 2.2431 - accuracy: 0.1678 - val_loss: 2.3485 - val_accuracy: 0.1037\n",
            "Epoch 7/100\n",
            "375/375 [==============================] - 1s 3ms/step - loss: 2.2192 - accuracy: 0.1828 - val_loss: 2.3671 - val_accuracy: 0.0988\n",
            "Epoch 8/100\n",
            "375/375 [==============================] - 1s 3ms/step - loss: 2.1915 - accuracy: 0.1991 - val_loss: 2.3766 - val_accuracy: 0.0986\n",
            "Epoch 9/100\n",
            "375/375 [==============================] - 1s 3ms/step - loss: 2.1615 - accuracy: 0.2164 - val_loss: 2.4103 - val_accuracy: 0.1041\n",
            "Epoch 10/100\n",
            "375/375 [==============================] - 1s 4ms/step - loss: 2.1294 - accuracy: 0.2288 - val_loss: 2.4230 - val_accuracy: 0.1022\n",
            "Epoch 11/100\n",
            "375/375 [==============================] - 2s 5ms/step - loss: 2.0939 - accuracy: 0.2465 - val_loss: 2.4428 - val_accuracy: 0.0983\n",
            "Epoch 12/100\n",
            "375/375 [==============================] - 1s 4ms/step - loss: 2.0570 - accuracy: 0.2662 - val_loss: 2.4788 - val_accuracy: 0.0987\n",
            "Epoch 13/100\n",
            "375/375 [==============================] - 1s 3ms/step - loss: 2.0194 - accuracy: 0.2806 - val_loss: 2.5030 - val_accuracy: 0.1045\n",
            "Epoch 14/100\n",
            "375/375 [==============================] - 1s 3ms/step - loss: 1.9811 - accuracy: 0.2998 - val_loss: 2.5264 - val_accuracy: 0.1033\n",
            "Epoch 15/100\n",
            "375/375 [==============================] - 1s 3ms/step - loss: 1.9415 - accuracy: 0.3154 - val_loss: 2.5634 - val_accuracy: 0.1013\n",
            "Epoch 16/100\n",
            "375/375 [==============================] - 1s 3ms/step - loss: 1.9047 - accuracy: 0.3310 - val_loss: 2.6062 - val_accuracy: 0.0997\n",
            "Epoch 17/100\n",
            "375/375 [==============================] - 1s 3ms/step - loss: 1.8607 - accuracy: 0.3499 - val_loss: 2.6282 - val_accuracy: 0.0973\n",
            "Epoch 18/100\n",
            "375/375 [==============================] - 1s 4ms/step - loss: 1.8225 - accuracy: 0.3644 - val_loss: 2.6631 - val_accuracy: 0.0996\n",
            "Epoch 19/100\n",
            "375/375 [==============================] - 1s 3ms/step - loss: 1.7831 - accuracy: 0.3816 - val_loss: 2.7072 - val_accuracy: 0.0974\n",
            "Epoch 20/100\n",
            "375/375 [==============================] - 2s 5ms/step - loss: 1.7464 - accuracy: 0.3934 - val_loss: 2.7541 - val_accuracy: 0.0986\n",
            "Epoch 21/100\n",
            "375/375 [==============================] - 2s 4ms/step - loss: 1.7085 - accuracy: 0.4106 - val_loss: 2.8012 - val_accuracy: 0.1001\n",
            "Epoch 22/100\n",
            "375/375 [==============================] - 1s 3ms/step - loss: 1.6697 - accuracy: 0.4260 - val_loss: 2.8448 - val_accuracy: 0.1009\n",
            "Epoch 23/100\n",
            "375/375 [==============================] - 1s 3ms/step - loss: 1.6327 - accuracy: 0.4396 - val_loss: 2.8846 - val_accuracy: 0.0967\n",
            "Epoch 24/100\n",
            "375/375 [==============================] - 1s 3ms/step - loss: 1.5979 - accuracy: 0.4519 - val_loss: 2.9298 - val_accuracy: 0.0977\n",
            "Epoch 25/100\n",
            "375/375 [==============================] - 1s 4ms/step - loss: 1.5628 - accuracy: 0.4639 - val_loss: 2.9741 - val_accuracy: 0.1017\n",
            "Epoch 26/100\n",
            "375/375 [==============================] - 1s 3ms/step - loss: 1.5318 - accuracy: 0.4765 - val_loss: 3.0221 - val_accuracy: 0.0993\n",
            "Epoch 27/100\n",
            "375/375 [==============================] - 1s 3ms/step - loss: 1.4980 - accuracy: 0.4873 - val_loss: 3.0821 - val_accuracy: 0.1007\n",
            "Epoch 28/100\n",
            "375/375 [==============================] - 1s 4ms/step - loss: 1.4644 - accuracy: 0.5018 - val_loss: 3.1271 - val_accuracy: 0.0984\n",
            "Epoch 29/100\n",
            "375/375 [==============================] - 2s 4ms/step - loss: 1.4340 - accuracy: 0.5121 - val_loss: 3.1784 - val_accuracy: 0.1006\n",
            "Epoch 30/100\n",
            "375/375 [==============================] - 2s 4ms/step - loss: 1.4017 - accuracy: 0.5256 - val_loss: 3.2069 - val_accuracy: 0.1007\n",
            "Epoch 31/100\n",
            "375/375 [==============================] - 1s 3ms/step - loss: 1.3734 - accuracy: 0.5355 - val_loss: 3.3044 - val_accuracy: 0.1005\n",
            "Epoch 32/100\n",
            "375/375 [==============================] - 1s 3ms/step - loss: 1.3430 - accuracy: 0.5437 - val_loss: 3.3126 - val_accuracy: 0.1023\n",
            "Epoch 33/100\n",
            "375/375 [==============================] - 1s 3ms/step - loss: 1.3149 - accuracy: 0.5552 - val_loss: 3.3880 - val_accuracy: 0.1032\n",
            "Epoch 34/100\n",
            "375/375 [==============================] - 1s 4ms/step - loss: 1.2852 - accuracy: 0.5666 - val_loss: 3.4505 - val_accuracy: 0.0995\n",
            "Epoch 35/100\n",
            "375/375 [==============================] - 1s 3ms/step - loss: 1.2595 - accuracy: 0.5748 - val_loss: 3.4844 - val_accuracy: 0.0999\n",
            "Epoch 36/100\n",
            "375/375 [==============================] - 1s 3ms/step - loss: 1.2309 - accuracy: 0.5846 - val_loss: 3.5787 - val_accuracy: 0.0981\n",
            "Epoch 37/100\n",
            "375/375 [==============================] - 1s 3ms/step - loss: 1.2077 - accuracy: 0.5942 - val_loss: 3.5920 - val_accuracy: 0.0984\n",
            "Epoch 38/100\n",
            "375/375 [==============================] - 1s 4ms/step - loss: 1.1803 - accuracy: 0.6064 - val_loss: 3.6525 - val_accuracy: 0.1012\n",
            "Epoch 39/100\n",
            "375/375 [==============================] - 2s 5ms/step - loss: 1.1560 - accuracy: 0.6128 - val_loss: 3.7285 - val_accuracy: 0.1037\n",
            "Epoch 40/100\n",
            "375/375 [==============================] - 1s 3ms/step - loss: 1.1314 - accuracy: 0.6225 - val_loss: 3.7755 - val_accuracy: 0.1002\n",
            "Epoch 41/100\n",
            "375/375 [==============================] - 1s 3ms/step - loss: 1.1069 - accuracy: 0.6302 - val_loss: 3.8669 - val_accuracy: 0.0980\n",
            "Epoch 42/100\n",
            "375/375 [==============================] - 1s 3ms/step - loss: 1.0848 - accuracy: 0.6372 - val_loss: 3.8899 - val_accuracy: 0.0992\n",
            "Epoch 43/100\n",
            "375/375 [==============================] - 1s 4ms/step - loss: 1.0623 - accuracy: 0.6492 - val_loss: 3.9430 - val_accuracy: 0.0974\n",
            "Epoch 44/100\n",
            "375/375 [==============================] - 1s 4ms/step - loss: 1.0380 - accuracy: 0.6552 - val_loss: 4.0270 - val_accuracy: 0.1002\n",
            "Epoch 45/100\n",
            "375/375 [==============================] - 1s 3ms/step - loss: 1.0162 - accuracy: 0.6611 - val_loss: 4.1016 - val_accuracy: 0.1007\n",
            "Epoch 46/100\n",
            "375/375 [==============================] - 1s 3ms/step - loss: 0.9993 - accuracy: 0.6685 - val_loss: 4.1433 - val_accuracy: 0.1004\n",
            "Epoch 47/100\n",
            "375/375 [==============================] - 1s 3ms/step - loss: 0.9778 - accuracy: 0.6732 - val_loss: 4.2003 - val_accuracy: 0.1051\n",
            "Epoch 48/100\n",
            "375/375 [==============================] - 2s 5ms/step - loss: 0.9568 - accuracy: 0.6834 - val_loss: 4.2714 - val_accuracy: 0.0974\n",
            "Epoch 49/100\n",
            "375/375 [==============================] - 2s 4ms/step - loss: 0.9367 - accuracy: 0.6917 - val_loss: 4.3422 - val_accuracy: 0.1029\n",
            "Epoch 50/100\n",
            "375/375 [==============================] - 1s 3ms/step - loss: 0.9179 - accuracy: 0.6987 - val_loss: 4.4137 - val_accuracy: 0.1040\n",
            "Epoch 51/100\n",
            "375/375 [==============================] - 1s 4ms/step - loss: 0.9006 - accuracy: 0.7015 - val_loss: 4.4752 - val_accuracy: 0.0992\n",
            "Epoch 52/100\n",
            "375/375 [==============================] - 1s 3ms/step - loss: 0.8834 - accuracy: 0.7091 - val_loss: 4.5344 - val_accuracy: 0.1007\n",
            "Epoch 53/100\n",
            "375/375 [==============================] - 1s 3ms/step - loss: 0.8636 - accuracy: 0.7157 - val_loss: 4.6346 - val_accuracy: 0.1002\n",
            "Epoch 54/100\n",
            "375/375 [==============================] - 1s 3ms/step - loss: 0.8473 - accuracy: 0.7213 - val_loss: 4.6580 - val_accuracy: 0.0982\n",
            "Epoch 55/100\n",
            "375/375 [==============================] - 1s 3ms/step - loss: 0.8291 - accuracy: 0.7291 - val_loss: 4.7830 - val_accuracy: 0.0969\n",
            "Epoch 56/100\n",
            "375/375 [==============================] - 1s 3ms/step - loss: 0.8135 - accuracy: 0.7336 - val_loss: 4.8270 - val_accuracy: 0.1005\n",
            "Epoch 57/100\n",
            "375/375 [==============================] - 1s 4ms/step - loss: 0.7974 - accuracy: 0.7386 - val_loss: 4.8867 - val_accuracy: 0.1015\n",
            "Epoch 58/100\n",
            "375/375 [==============================] - 2s 4ms/step - loss: 0.7816 - accuracy: 0.7460 - val_loss: 4.9485 - val_accuracy: 0.0978\n",
            "Epoch 59/100\n",
            "375/375 [==============================] - 1s 4ms/step - loss: 0.7659 - accuracy: 0.7503 - val_loss: 5.0257 - val_accuracy: 0.1006\n",
            "Epoch 60/100\n",
            "375/375 [==============================] - 1s 3ms/step - loss: 0.7489 - accuracy: 0.7576 - val_loss: 5.0892 - val_accuracy: 0.1026\n",
            "Epoch 61/100\n",
            "375/375 [==============================] - 1s 3ms/step - loss: 0.7324 - accuracy: 0.7624 - val_loss: 5.1699 - val_accuracy: 0.0997\n",
            "Epoch 62/100\n",
            "375/375 [==============================] - 1s 4ms/step - loss: 0.7201 - accuracy: 0.7670 - val_loss: 5.2220 - val_accuracy: 0.0997\n",
            "Epoch 63/100\n",
            "375/375 [==============================] - 1s 4ms/step - loss: 0.7054 - accuracy: 0.7708 - val_loss: 5.2651 - val_accuracy: 0.0994\n",
            "Epoch 64/100\n",
            "375/375 [==============================] - 1s 4ms/step - loss: 0.6919 - accuracy: 0.7758 - val_loss: 5.3365 - val_accuracy: 0.1022\n",
            "Epoch 65/100\n",
            "375/375 [==============================] - 1s 3ms/step - loss: 0.6793 - accuracy: 0.7796 - val_loss: 5.4354 - val_accuracy: 0.1028\n",
            "Epoch 66/100\n",
            "375/375 [==============================] - 2s 4ms/step - loss: 0.6621 - accuracy: 0.7855 - val_loss: 5.5102 - val_accuracy: 0.1022\n",
            "Epoch 67/100\n",
            "375/375 [==============================] - 2s 5ms/step - loss: 0.6526 - accuracy: 0.7908 - val_loss: 5.5562 - val_accuracy: 0.1056\n",
            "Epoch 68/100\n",
            "375/375 [==============================] - 1s 4ms/step - loss: 0.6360 - accuracy: 0.7968 - val_loss: 5.6540 - val_accuracy: 0.1030\n",
            "Epoch 69/100\n",
            "375/375 [==============================] - 1s 3ms/step - loss: 0.6263 - accuracy: 0.7993 - val_loss: 5.7073 - val_accuracy: 0.1009\n",
            "Epoch 70/100\n",
            "375/375 [==============================] - 1s 3ms/step - loss: 0.6153 - accuracy: 0.8025 - val_loss: 5.7944 - val_accuracy: 0.1042\n",
            "Epoch 71/100\n",
            "375/375 [==============================] - 1s 4ms/step - loss: 0.6007 - accuracy: 0.8072 - val_loss: 5.8690 - val_accuracy: 0.1034\n",
            "Epoch 72/100\n",
            "375/375 [==============================] - 1s 3ms/step - loss: 0.5932 - accuracy: 0.8096 - val_loss: 5.9340 - val_accuracy: 0.1012\n",
            "Epoch 73/100\n",
            "375/375 [==============================] - 1s 3ms/step - loss: 0.5771 - accuracy: 0.8153 - val_loss: 6.0099 - val_accuracy: 0.1022\n",
            "Epoch 74/100\n",
            "375/375 [==============================] - 1s 4ms/step - loss: 0.5679 - accuracy: 0.8187 - val_loss: 6.0941 - val_accuracy: 0.1003\n",
            "Epoch 75/100\n",
            "375/375 [==============================] - 1s 4ms/step - loss: 0.5567 - accuracy: 0.8244 - val_loss: 6.1682 - val_accuracy: 0.1028\n",
            "Epoch 76/100\n",
            "375/375 [==============================] - 2s 5ms/step - loss: 0.5451 - accuracy: 0.8265 - val_loss: 6.2297 - val_accuracy: 0.1018\n",
            "Epoch 77/100\n",
            "375/375 [==============================] - 1s 3ms/step - loss: 0.5374 - accuracy: 0.8284 - val_loss: 6.3264 - val_accuracy: 0.1025\n",
            "Epoch 78/100\n",
            "375/375 [==============================] - 1s 3ms/step - loss: 0.5235 - accuracy: 0.8367 - val_loss: 6.3749 - val_accuracy: 0.1013\n",
            "Epoch 79/100\n",
            "375/375 [==============================] - 1s 3ms/step - loss: 0.5171 - accuracy: 0.8354 - val_loss: 6.4222 - val_accuracy: 0.1046\n",
            "Epoch 80/100\n",
            "375/375 [==============================] - 1s 3ms/step - loss: 0.5046 - accuracy: 0.8424 - val_loss: 6.5180 - val_accuracy: 0.1027\n",
            "Epoch 81/100\n",
            "375/375 [==============================] - 1s 3ms/step - loss: 0.4955 - accuracy: 0.8446 - val_loss: 6.6120 - val_accuracy: 0.1018\n",
            "Epoch 82/100\n",
            "375/375 [==============================] - 1s 3ms/step - loss: 0.4867 - accuracy: 0.8470 - val_loss: 6.6483 - val_accuracy: 0.1045\n",
            "Epoch 83/100\n",
            "375/375 [==============================] - 1s 4ms/step - loss: 0.4769 - accuracy: 0.8487 - val_loss: 6.7119 - val_accuracy: 0.1023\n",
            "Epoch 84/100\n",
            "375/375 [==============================] - 2s 4ms/step - loss: 0.4675 - accuracy: 0.8520 - val_loss: 6.7980 - val_accuracy: 0.1046\n",
            "Epoch 85/100\n",
            "375/375 [==============================] - 2s 5ms/step - loss: 0.4581 - accuracy: 0.8564 - val_loss: 6.8801 - val_accuracy: 0.1007\n",
            "Epoch 86/100\n",
            "375/375 [==============================] - 2s 4ms/step - loss: 0.4515 - accuracy: 0.8575 - val_loss: 7.0207 - val_accuracy: 0.1010\n",
            "Epoch 87/100\n",
            "375/375 [==============================] - 1s 3ms/step - loss: 0.4413 - accuracy: 0.8624 - val_loss: 7.0515 - val_accuracy: 0.1029\n",
            "Epoch 88/100\n",
            "375/375 [==============================] - 1s 3ms/step - loss: 0.4358 - accuracy: 0.8633 - val_loss: 7.1046 - val_accuracy: 0.1023\n",
            "Epoch 89/100\n",
            "375/375 [==============================] - 1s 4ms/step - loss: 0.4280 - accuracy: 0.8660 - val_loss: 7.1623 - val_accuracy: 0.1007\n",
            "Epoch 90/100\n",
            "375/375 [==============================] - 1s 3ms/step - loss: 0.4209 - accuracy: 0.8685 - val_loss: 7.2586 - val_accuracy: 0.1012\n",
            "Epoch 91/100\n",
            "375/375 [==============================] - 1s 3ms/step - loss: 0.4116 - accuracy: 0.8735 - val_loss: 7.3924 - val_accuracy: 0.1014\n",
            "Epoch 92/100\n",
            "375/375 [==============================] - 1s 4ms/step - loss: 0.4035 - accuracy: 0.8733 - val_loss: 7.4547 - val_accuracy: 0.1018\n",
            "Epoch 93/100\n",
            "375/375 [==============================] - 1s 3ms/step - loss: 0.3956 - accuracy: 0.8766 - val_loss: 7.4779 - val_accuracy: 0.1058\n",
            "Epoch 94/100\n",
            "375/375 [==============================] - 2s 5ms/step - loss: 0.3902 - accuracy: 0.8773 - val_loss: 7.5425 - val_accuracy: 0.1035\n",
            "Epoch 95/100\n",
            "375/375 [==============================] - 2s 5ms/step - loss: 0.3820 - accuracy: 0.8808 - val_loss: 7.6386 - val_accuracy: 0.1037\n",
            "Epoch 96/100\n",
            "375/375 [==============================] - 1s 3ms/step - loss: 0.3766 - accuracy: 0.8827 - val_loss: 7.7029 - val_accuracy: 0.1058\n",
            "Epoch 97/100\n",
            "375/375 [==============================] - 1s 3ms/step - loss: 0.3682 - accuracy: 0.8866 - val_loss: 7.8478 - val_accuracy: 0.0999\n",
            "Epoch 98/100\n",
            "375/375 [==============================] - 1s 4ms/step - loss: 0.3626 - accuracy: 0.8866 - val_loss: 7.8410 - val_accuracy: 0.1016\n",
            "Epoch 99/100\n",
            "375/375 [==============================] - 1s 4ms/step - loss: 0.3562 - accuracy: 0.8901 - val_loss: 7.9379 - val_accuracy: 0.1042\n",
            "Epoch 100/100\n",
            "375/375 [==============================] - 1s 3ms/step - loss: 0.3518 - accuracy: 0.8902 - val_loss: 8.0072 - val_accuracy: 0.1032\n"
          ]
        },
        {
          "output_type": "execute_result",
          "data": {
            "text/plain": [
              "<keras.callbacks.History at 0x7f69fb2d4d00>"
            ]
          },
          "metadata": {},
          "execution_count": 19
        }
      ],
      "source": [
        "(train_images, train_labels), _ = mnist.load_data()\n",
        "train_images = train_images.reshape((60000, 28 * 28))\n",
        "train_images = train_images.astype(\"float32\") / 255\n",
        "\n",
        "random_train_labels = train_labels[:]\n",
        "np.random.shuffle(random_train_labels)\n",
        "\n",
        "model = keras.Sequential([\n",
        "    layers.Dense(512, activation=\"relu\"),\n",
        "    layers.Dense(10, activation=\"softmax\")\n",
        "])\n",
        "model.compile(optimizer=\"rmsprop\",\n",
        "              loss=\"sparse_categorical_crossentropy\",\n",
        "              metrics=[\"accuracy\"])\n",
        "model.fit(train_images, random_train_labels,\n",
        "          epochs=100,\n",
        "          batch_size=128,\n",
        "          validation_split=0.2)"
      ]
    },
    {
      "cell_type": "code",
      "source": [
        "history = model.fit(train_images, random_train_labels,\n",
        "                    epochs=100,\n",
        "                    batch_size=128,\n",
        "                    validation_split=0.2)\n",
        "\n",
        "plt.plot(history.history['accuracy'])\n",
        "plt.plot(history.history['val_accuracy'])\n",
        "plt.title('Model Accuracy')\n",
        "plt.ylabel('Accuracy')\n",
        "plt.xlabel('Epoch')\n",
        "plt.legend(['train', 'val'], loc='upper left')\n",
        "plt.show()"
      ],
      "metadata": {
        "id": "n2N-kTdd6bSt",
        "outputId": "18f331fc-f54e-4d3c-e5ca-a9b8367e738e",
        "colab": {
          "base_uri": "https://localhost:8080/",
          "height": 1000
        }
      },
      "execution_count": 30,
      "outputs": [
        {
          "output_type": "stream",
          "name": "stdout",
          "text": [
            "Epoch 1/100\n",
            "375/375 [==============================] - 1s 4ms/step - loss: 2.5143 - accuracy: 0.1059 - val_loss: 2.3036 - val_accuracy: 0.1054\n",
            "Epoch 2/100\n",
            "375/375 [==============================] - 1s 3ms/step - loss: 2.3022 - accuracy: 0.1121 - val_loss: 2.3078 - val_accuracy: 0.1263\n",
            "Epoch 3/100\n",
            "375/375 [==============================] - 1s 4ms/step - loss: 2.2998 - accuracy: 0.1124 - val_loss: 2.3006 - val_accuracy: 0.1067\n",
            "Epoch 4/100\n",
            "375/375 [==============================] - 2s 4ms/step - loss: 2.2977 - accuracy: 0.1128 - val_loss: 2.3027 - val_accuracy: 0.0833\n",
            "Epoch 5/100\n",
            "375/375 [==============================] - 2s 5ms/step - loss: 2.2957 - accuracy: 0.1146 - val_loss: 2.3043 - val_accuracy: 0.0958\n",
            "Epoch 6/100\n",
            "375/375 [==============================] - 1s 4ms/step - loss: 2.2927 - accuracy: 0.1167 - val_loss: 2.3021 - val_accuracy: 0.1117\n",
            "Epoch 7/100\n",
            "375/375 [==============================] - 1s 3ms/step - loss: 2.2897 - accuracy: 0.1171 - val_loss: 2.3096 - val_accuracy: 0.1042\n",
            "Epoch 8/100\n",
            "375/375 [==============================] - 1s 4ms/step - loss: 2.2862 - accuracy: 0.1193 - val_loss: 2.3304 - val_accuracy: 0.0930\n",
            "Epoch 9/100\n",
            "375/375 [==============================] - 1s 4ms/step - loss: 2.2821 - accuracy: 0.1201 - val_loss: 2.3182 - val_accuracy: 0.1018\n",
            "Epoch 10/100\n",
            "375/375 [==============================] - 1s 4ms/step - loss: 2.2790 - accuracy: 0.1214 - val_loss: 2.3299 - val_accuracy: 0.1053\n",
            "Epoch 11/100\n",
            "375/375 [==============================] - 1s 3ms/step - loss: 2.2767 - accuracy: 0.1235 - val_loss: 2.3210 - val_accuracy: 0.1023\n",
            "Epoch 12/100\n",
            "375/375 [==============================] - 1s 4ms/step - loss: 2.2729 - accuracy: 0.1239 - val_loss: 2.3293 - val_accuracy: 0.1052\n",
            "Epoch 13/100\n",
            "375/375 [==============================] - 2s 4ms/step - loss: 2.2695 - accuracy: 0.1249 - val_loss: 2.3229 - val_accuracy: 0.1047\n",
            "Epoch 14/100\n",
            "375/375 [==============================] - 2s 4ms/step - loss: 2.2672 - accuracy: 0.1255 - val_loss: 2.3292 - val_accuracy: 0.1067\n",
            "Epoch 15/100\n",
            "375/375 [==============================] - 1s 3ms/step - loss: 2.2642 - accuracy: 0.1252 - val_loss: 2.3269 - val_accuracy: 0.1093\n",
            "Epoch 16/100\n",
            "375/375 [==============================] - 1s 3ms/step - loss: 2.2624 - accuracy: 0.1277 - val_loss: 2.3501 - val_accuracy: 0.1042\n",
            "Epoch 17/100\n",
            "375/375 [==============================] - 1s 4ms/step - loss: 2.2587 - accuracy: 0.1272 - val_loss: 2.3499 - val_accuracy: 0.1028\n",
            "Epoch 18/100\n",
            "375/375 [==============================] - 1s 3ms/step - loss: 2.2569 - accuracy: 0.1286 - val_loss: 2.3605 - val_accuracy: 0.1062\n",
            "Epoch 19/100\n",
            "375/375 [==============================] - 1s 4ms/step - loss: 2.2536 - accuracy: 0.1304 - val_loss: 2.3558 - val_accuracy: 0.1086\n",
            "Epoch 20/100\n",
            "375/375 [==============================] - 1s 4ms/step - loss: 2.2520 - accuracy: 0.1303 - val_loss: 2.3817 - val_accuracy: 0.1037\n",
            "Epoch 21/100\n",
            "375/375 [==============================] - 1s 4ms/step - loss: 2.2494 - accuracy: 0.1317 - val_loss: 2.3638 - val_accuracy: 0.1070\n",
            "Epoch 22/100\n",
            "375/375 [==============================] - 2s 5ms/step - loss: 2.2475 - accuracy: 0.1330 - val_loss: 2.3725 - val_accuracy: 0.1075\n",
            "Epoch 23/100\n",
            "375/375 [==============================] - 2s 5ms/step - loss: 2.2459 - accuracy: 0.1330 - val_loss: 2.3825 - val_accuracy: 0.1045\n",
            "Epoch 24/100\n",
            "375/375 [==============================] - 1s 3ms/step - loss: 2.2434 - accuracy: 0.1343 - val_loss: 2.3758 - val_accuracy: 0.1081\n",
            "Epoch 25/100\n",
            "375/375 [==============================] - 1s 4ms/step - loss: 2.2414 - accuracy: 0.1333 - val_loss: 2.3911 - val_accuracy: 0.1054\n",
            "Epoch 26/100\n",
            "375/375 [==============================] - 1s 3ms/step - loss: 2.2407 - accuracy: 0.1352 - val_loss: 2.3797 - val_accuracy: 0.1088\n",
            "Epoch 27/100\n",
            "375/375 [==============================] - 1s 3ms/step - loss: 2.2389 - accuracy: 0.1348 - val_loss: 2.4104 - val_accuracy: 0.1032\n",
            "Epoch 28/100\n",
            "375/375 [==============================] - 1s 4ms/step - loss: 2.2377 - accuracy: 0.1362 - val_loss: 2.4014 - val_accuracy: 0.1054\n",
            "Epoch 29/100\n",
            "375/375 [==============================] - 1s 3ms/step - loss: 2.2361 - accuracy: 0.1347 - val_loss: 2.4163 - val_accuracy: 0.1056\n",
            "Epoch 30/100\n",
            "375/375 [==============================] - 1s 3ms/step - loss: 2.2344 - accuracy: 0.1357 - val_loss: 2.4179 - val_accuracy: 0.1036\n",
            "Epoch 31/100\n",
            "375/375 [==============================] - 2s 4ms/step - loss: 2.2342 - accuracy: 0.1352 - val_loss: 2.4097 - val_accuracy: 0.1054\n",
            "Epoch 32/100\n",
            "375/375 [==============================] - 2s 5ms/step - loss: 2.2323 - accuracy: 0.1363 - val_loss: 2.4242 - val_accuracy: 0.1054\n",
            "Epoch 33/100\n",
            "375/375 [==============================] - 1s 4ms/step - loss: 2.2317 - accuracy: 0.1372 - val_loss: 2.4291 - val_accuracy: 0.1065\n",
            "Epoch 34/100\n",
            "375/375 [==============================] - 1s 3ms/step - loss: 2.2303 - accuracy: 0.1373 - val_loss: 2.4168 - val_accuracy: 0.1071\n",
            "Epoch 35/100\n",
            "375/375 [==============================] - 1s 4ms/step - loss: 2.2283 - accuracy: 0.1370 - val_loss: 2.4279 - val_accuracy: 0.1067\n",
            "Epoch 36/100\n",
            "375/375 [==============================] - 1s 3ms/step - loss: 2.2270 - accuracy: 0.1369 - val_loss: 2.4395 - val_accuracy: 0.1041\n",
            "Epoch 37/100\n",
            "375/375 [==============================] - 1s 4ms/step - loss: 2.2255 - accuracy: 0.1378 - val_loss: 2.4477 - val_accuracy: 0.1013\n",
            "Epoch 38/100\n",
            "375/375 [==============================] - 1s 3ms/step - loss: 2.2256 - accuracy: 0.1375 - val_loss: 2.4390 - val_accuracy: 0.1020\n",
            "Epoch 39/100\n",
            "375/375 [==============================] - 1s 4ms/step - loss: 2.2244 - accuracy: 0.1395 - val_loss: 2.4330 - val_accuracy: 0.1047\n",
            "Epoch 40/100\n",
            "375/375 [==============================] - 2s 4ms/step - loss: 2.2236 - accuracy: 0.1391 - val_loss: 2.4374 - val_accuracy: 0.1083\n",
            "Epoch 41/100\n",
            "375/375 [==============================] - 2s 5ms/step - loss: 2.2222 - accuracy: 0.1384 - val_loss: 2.4526 - val_accuracy: 0.1032\n",
            "Epoch 42/100\n",
            "375/375 [==============================] - 1s 4ms/step - loss: 2.2206 - accuracy: 0.1400 - val_loss: 2.4562 - val_accuracy: 0.1077\n",
            "Epoch 43/100\n",
            "375/375 [==============================] - 1s 3ms/step - loss: 2.2206 - accuracy: 0.1401 - val_loss: 2.4887 - val_accuracy: 0.1000\n",
            "Epoch 44/100\n",
            "375/375 [==============================] - 1s 4ms/step - loss: 2.2198 - accuracy: 0.1395 - val_loss: 2.4731 - val_accuracy: 0.1033\n",
            "Epoch 45/100\n",
            "375/375 [==============================] - 1s 3ms/step - loss: 2.2194 - accuracy: 0.1398 - val_loss: 2.4606 - val_accuracy: 0.1067\n",
            "Epoch 46/100\n",
            "375/375 [==============================] - 1s 3ms/step - loss: 2.2168 - accuracy: 0.1411 - val_loss: 2.4633 - val_accuracy: 0.1063\n",
            "Epoch 47/100\n",
            "375/375 [==============================] - 1s 3ms/step - loss: 2.2172 - accuracy: 0.1406 - val_loss: 2.4717 - val_accuracy: 0.1037\n",
            "Epoch 48/100\n",
            "375/375 [==============================] - 1s 3ms/step - loss: 2.2154 - accuracy: 0.1412 - val_loss: 2.4797 - val_accuracy: 0.1074\n",
            "Epoch 49/100\n",
            "375/375 [==============================] - 1s 4ms/step - loss: 2.2162 - accuracy: 0.1417 - val_loss: 2.4817 - val_accuracy: 0.1059\n",
            "Epoch 50/100\n",
            "375/375 [==============================] - 2s 5ms/step - loss: 2.2145 - accuracy: 0.1409 - val_loss: 2.4643 - val_accuracy: 0.1065\n",
            "Epoch 51/100\n",
            "375/375 [==============================] - 2s 4ms/step - loss: 2.2136 - accuracy: 0.1431 - val_loss: 2.4980 - val_accuracy: 0.1047\n",
            "Epoch 52/100\n",
            "375/375 [==============================] - 1s 4ms/step - loss: 2.2129 - accuracy: 0.1421 - val_loss: 2.5007 - val_accuracy: 0.1068\n",
            "Epoch 53/100\n",
            "375/375 [==============================] - 1s 4ms/step - loss: 2.2124 - accuracy: 0.1410 - val_loss: 2.4922 - val_accuracy: 0.1063\n",
            "Epoch 54/100\n",
            "375/375 [==============================] - 1s 4ms/step - loss: 2.2111 - accuracy: 0.1423 - val_loss: 2.4779 - val_accuracy: 0.1055\n",
            "Epoch 55/100\n",
            "375/375 [==============================] - 1s 3ms/step - loss: 2.2111 - accuracy: 0.1430 - val_loss: 2.5080 - val_accuracy: 0.1074\n",
            "Epoch 56/100\n",
            "375/375 [==============================] - 1s 4ms/step - loss: 2.2105 - accuracy: 0.1410 - val_loss: 2.4916 - val_accuracy: 0.1060\n",
            "Epoch 57/100\n",
            "375/375 [==============================] - 1s 4ms/step - loss: 2.2094 - accuracy: 0.1433 - val_loss: 2.4965 - val_accuracy: 0.1079\n",
            "Epoch 58/100\n",
            "375/375 [==============================] - 1s 4ms/step - loss: 2.2083 - accuracy: 0.1442 - val_loss: 2.5118 - val_accuracy: 0.1058\n",
            "Epoch 59/100\n",
            "375/375 [==============================] - 2s 5ms/step - loss: 2.2080 - accuracy: 0.1432 - val_loss: 2.5095 - val_accuracy: 0.1063\n",
            "Epoch 60/100\n",
            "375/375 [==============================] - 1s 3ms/step - loss: 2.2081 - accuracy: 0.1425 - val_loss: 2.5220 - val_accuracy: 0.1073\n",
            "Epoch 61/100\n",
            "375/375 [==============================] - 1s 3ms/step - loss: 2.2073 - accuracy: 0.1440 - val_loss: 2.5139 - val_accuracy: 0.1042\n",
            "Epoch 62/100\n",
            "375/375 [==============================] - 1s 3ms/step - loss: 2.2066 - accuracy: 0.1436 - val_loss: 2.5251 - val_accuracy: 0.1040\n",
            "Epoch 63/100\n",
            "375/375 [==============================] - 1s 4ms/step - loss: 2.2055 - accuracy: 0.1441 - val_loss: 2.5282 - val_accuracy: 0.1055\n",
            "Epoch 64/100\n",
            "375/375 [==============================] - 1s 3ms/step - loss: 2.2045 - accuracy: 0.1439 - val_loss: 2.5370 - val_accuracy: 0.1059\n",
            "Epoch 65/100\n",
            "375/375 [==============================] - 1s 3ms/step - loss: 2.2041 - accuracy: 0.1457 - val_loss: 2.5043 - val_accuracy: 0.1078\n",
            "Epoch 66/100\n",
            "375/375 [==============================] - 1s 3ms/step - loss: 2.2041 - accuracy: 0.1441 - val_loss: 2.5549 - val_accuracy: 0.1071\n",
            "Epoch 67/100\n",
            "375/375 [==============================] - 1s 3ms/step - loss: 2.2030 - accuracy: 0.1457 - val_loss: 2.5478 - val_accuracy: 0.1055\n",
            "Epoch 68/100\n",
            "375/375 [==============================] - 2s 5ms/step - loss: 2.2028 - accuracy: 0.1457 - val_loss: 2.5162 - val_accuracy: 0.1048\n",
            "Epoch 69/100\n",
            "375/375 [==============================] - 1s 4ms/step - loss: 2.2010 - accuracy: 0.1462 - val_loss: 2.5478 - val_accuracy: 0.1035\n",
            "Epoch 70/100\n",
            "375/375 [==============================] - 1s 3ms/step - loss: 2.2008 - accuracy: 0.1453 - val_loss: 2.5437 - val_accuracy: 0.1049\n",
            "Epoch 71/100\n",
            "375/375 [==============================] - 1s 3ms/step - loss: 2.2009 - accuracy: 0.1459 - val_loss: 2.5500 - val_accuracy: 0.1072\n",
            "Epoch 72/100\n",
            "375/375 [==============================] - 1s 4ms/step - loss: 2.2008 - accuracy: 0.1447 - val_loss: 2.5588 - val_accuracy: 0.1076\n",
            "Epoch 73/100\n",
            "375/375 [==============================] - 1s 3ms/step - loss: 2.1992 - accuracy: 0.1450 - val_loss: 2.5439 - val_accuracy: 0.1030\n",
            "Epoch 74/100\n",
            "375/375 [==============================] - 2s 6ms/step - loss: 2.1983 - accuracy: 0.1461 - val_loss: 2.5422 - val_accuracy: 0.1044\n",
            "Epoch 75/100\n",
            "375/375 [==============================] - 1s 4ms/step - loss: 2.1997 - accuracy: 0.1472 - val_loss: 2.5710 - val_accuracy: 0.1067\n",
            "Epoch 76/100\n",
            "375/375 [==============================] - 2s 4ms/step - loss: 2.1983 - accuracy: 0.1471 - val_loss: 2.5546 - val_accuracy: 0.1038\n",
            "Epoch 77/100\n",
            "375/375 [==============================] - 2s 4ms/step - loss: 2.1981 - accuracy: 0.1442 - val_loss: 2.5567 - val_accuracy: 0.1050\n",
            "Epoch 78/100\n",
            "375/375 [==============================] - 1s 4ms/step - loss: 2.1969 - accuracy: 0.1475 - val_loss: 2.5730 - val_accuracy: 0.1064\n",
            "Epoch 79/100\n",
            "375/375 [==============================] - 1s 3ms/step - loss: 2.1976 - accuracy: 0.1462 - val_loss: 2.5559 - val_accuracy: 0.1074\n",
            "Epoch 80/100\n",
            "375/375 [==============================] - 1s 3ms/step - loss: 2.1972 - accuracy: 0.1470 - val_loss: 2.5912 - val_accuracy: 0.1085\n",
            "Epoch 81/100\n",
            "375/375 [==============================] - 1s 4ms/step - loss: 2.1954 - accuracy: 0.1474 - val_loss: 2.5673 - val_accuracy: 0.1058\n",
            "Epoch 82/100\n",
            "375/375 [==============================] - 1s 4ms/step - loss: 2.1946 - accuracy: 0.1480 - val_loss: 2.5852 - val_accuracy: 0.1045\n",
            "Epoch 83/100\n",
            "375/375 [==============================] - 1s 4ms/step - loss: 2.1951 - accuracy: 0.1470 - val_loss: 2.5710 - val_accuracy: 0.1054\n",
            "Epoch 84/100\n",
            "375/375 [==============================] - 1s 4ms/step - loss: 2.1959 - accuracy: 0.1473 - val_loss: 2.5740 - val_accuracy: 0.1053\n",
            "Epoch 85/100\n",
            "375/375 [==============================] - 2s 4ms/step - loss: 2.1945 - accuracy: 0.1477 - val_loss: 2.5917 - val_accuracy: 0.1075\n",
            "Epoch 86/100\n",
            "375/375 [==============================] - 2s 5ms/step - loss: 2.1942 - accuracy: 0.1480 - val_loss: 2.6154 - val_accuracy: 0.1050\n",
            "Epoch 87/100\n",
            "375/375 [==============================] - 1s 4ms/step - loss: 2.1931 - accuracy: 0.1466 - val_loss: 2.5962 - val_accuracy: 0.1064\n",
            "Epoch 88/100\n",
            "375/375 [==============================] - 1s 4ms/step - loss: 2.1928 - accuracy: 0.1476 - val_loss: 2.6005 - val_accuracy: 0.1061\n",
            "Epoch 89/100\n",
            "375/375 [==============================] - 1s 3ms/step - loss: 2.1919 - accuracy: 0.1480 - val_loss: 2.6044 - val_accuracy: 0.1057\n",
            "Epoch 90/100\n",
            "375/375 [==============================] - 1s 3ms/step - loss: 2.1917 - accuracy: 0.1470 - val_loss: 2.6082 - val_accuracy: 0.1060\n",
            "Epoch 91/100\n",
            "375/375 [==============================] - 1s 4ms/step - loss: 2.1929 - accuracy: 0.1475 - val_loss: 2.6245 - val_accuracy: 0.1059\n",
            "Epoch 92/100\n",
            "375/375 [==============================] - 1s 4ms/step - loss: 2.1913 - accuracy: 0.1500 - val_loss: 2.6020 - val_accuracy: 0.1068\n",
            "Epoch 93/100\n",
            "375/375 [==============================] - 1s 4ms/step - loss: 2.1909 - accuracy: 0.1479 - val_loss: 2.6147 - val_accuracy: 0.1077\n",
            "Epoch 94/100\n",
            "375/375 [==============================] - 2s 5ms/step - loss: 2.1914 - accuracy: 0.1485 - val_loss: 2.6132 - val_accuracy: 0.1067\n",
            "Epoch 95/100\n",
            "375/375 [==============================] - 2s 4ms/step - loss: 2.1899 - accuracy: 0.1485 - val_loss: 2.6288 - val_accuracy: 0.1062\n",
            "Epoch 96/100\n",
            "375/375 [==============================] - 1s 3ms/step - loss: 2.1902 - accuracy: 0.1493 - val_loss: 2.6377 - val_accuracy: 0.1069\n",
            "Epoch 97/100\n",
            "375/375 [==============================] - 1s 4ms/step - loss: 2.1908 - accuracy: 0.1494 - val_loss: 2.6228 - val_accuracy: 0.1058\n",
            "Epoch 98/100\n",
            "375/375 [==============================] - 1s 3ms/step - loss: 2.1884 - accuracy: 0.1494 - val_loss: 2.6412 - val_accuracy: 0.1033\n",
            "Epoch 99/100\n",
            "375/375 [==============================] - 1s 4ms/step - loss: 2.1883 - accuracy: 0.1489 - val_loss: 2.6354 - val_accuracy: 0.1070\n",
            "Epoch 100/100\n",
            "375/375 [==============================] - 1s 3ms/step - loss: 2.1887 - accuracy: 0.1497 - val_loss: 2.6332 - val_accuracy: 0.1077\n"
          ]
        },
        {
          "output_type": "display_data",
          "data": {
            "text/plain": [
              "<Figure size 640x480 with 1 Axes>"
            ],
            "image/png": "[encoded data removed]"
          },
          "metadata": {}
        }
      ]
    },
    {
      "cell_type": "markdown",
      "metadata": {
        "id": "TorVIH0au4k6"
      },
      "source": [
        "#### The manifold hypothesis"
      ]
    },
    {
      "cell_type": "markdown",
      "metadata": {
        "id": "k_UMsGiPu4k6"
      },
      "source": [
        "#### Interpolation as a source of generalization"
      ]
    },
    {
      "cell_type": "markdown",
      "metadata": {
        "id": "3VksEUCvu4k7"
      },
      "source": [
        "#### Why deep learning works"
      ]
    },
    {
      "cell_type": "markdown",
      "metadata": {
        "id": "dPsuoOi5u4k7"
      },
      "source": [
        "#### Training data is paramount"
      ]
    },
    {
      "cell_type": "markdown",
      "metadata": {
        "id": "ZfSX73XCu4k7"
      },
      "source": [
        "## Evaluating machine-learning models"
      ]
    },
    {
      "cell_type": "markdown",
      "metadata": {
        "id": "GVvTl3nRu4k7"
      },
      "source": [
        "### Training, validation, and test sets"
      ]
    },
    {
      "cell_type": "markdown",
      "metadata": {
        "id": "XBg-1MHOu4k8"
      },
      "source": [
        "#### Simple hold-out validation"
      ]
    },
    {
      "cell_type": "markdown",
      "metadata": {
        "id": "EnbRC9h-u4k8"
      },
      "source": [
        "#### K-fold validation"
      ]
    },
    {
      "cell_type": "markdown",
      "metadata": {
        "id": "aLPc4iUiu4k9"
      },
      "source": [
        "#### Iterated K-fold validation with shuffling"
      ]
    },
    {
      "cell_type": "markdown",
      "metadata": {
        "id": "uhwKG8LNu4k9"
      },
      "source": [
        "### Beating a common-sense baseline"
      ]
    },
    {
      "cell_type": "markdown",
      "metadata": {
        "id": "2qv3TMthu4k9"
      },
      "source": [
        "### Things to keep in mind about model evaluation"
      ]
    },
    {
      "cell_type": "markdown",
      "metadata": {
        "id": "kI4NVX9Pu4k9"
      },
      "source": [
        "## Improving model fit"
      ]
    },
    {
      "cell_type": "markdown",
      "metadata": {
        "id": "HXkXeOU2u4k9"
      },
      "source": [
        "### Tuning key gradient descent parameters"
      ]
    },
    {
      "cell_type": "markdown",
      "metadata": {
        "id": "dexSpKq7u4k9"
      },
      "source": [
        "**Training a MNIST model with an incorrectly high learning rate**"
      ]
    },
    {
      "cell_type": "code",
      "execution_count": 23,
      "metadata": {
        "id": "ncjlzS6Lu4k9",
        "outputId": "090f4835-c7c1-44f3-91da-3889d434397e",
        "colab": {
          "base_uri": "https://localhost:8080/"
        }
      },
      "outputs": [
        {
          "output_type": "stream",
          "name": "stdout",
          "text": [
            "Epoch 1/10\n",
            "375/375 [==============================] - 3s 5ms/step - loss: 666.0514 - accuracy: 0.2758 - val_loss: 2.5600 - val_accuracy: 0.1995\n",
            "Epoch 2/10\n",
            "375/375 [==============================] - 1s 4ms/step - loss: 2.7005 - accuracy: 0.1565 - val_loss: 2.6557 - val_accuracy: 0.1131\n",
            "Epoch 3/10\n",
            "375/375 [==============================] - 1s 3ms/step - loss: 2.6570 - accuracy: 0.1429 - val_loss: 2.3149 - val_accuracy: 0.1848\n",
            "Epoch 4/10\n",
            "375/375 [==============================] - 1s 3ms/step - loss: 2.6514 - accuracy: 0.1399 - val_loss: 2.4188 - val_accuracy: 0.1488\n",
            "Epoch 5/10\n",
            "375/375 [==============================] - 1s 3ms/step - loss: 2.6173 - accuracy: 0.1407 - val_loss: 2.4270 - val_accuracy: 0.1136\n",
            "Epoch 6/10\n",
            "375/375 [==============================] - 1s 3ms/step - loss: 2.5101 - accuracy: 0.1430 - val_loss: 2.4504 - val_accuracy: 0.1197\n",
            "Epoch 7/10\n",
            "375/375 [==============================] - 1s 3ms/step - loss: 2.4322 - accuracy: 0.1443 - val_loss: 2.3402 - val_accuracy: 0.1084\n",
            "Epoch 8/10\n",
            "375/375 [==============================] - 1s 3ms/step - loss: 2.4084 - accuracy: 0.1388 - val_loss: 2.2893 - val_accuracy: 0.1396\n",
            "Epoch 9/10\n",
            "375/375 [==============================] - 1s 4ms/step - loss: 2.3380 - accuracy: 0.1514 - val_loss: 2.2767 - val_accuracy: 0.1488\n",
            "Epoch 10/10\n",
            "375/375 [==============================] - 2s 5ms/step - loss: 2.3870 - accuracy: 0.1456 - val_loss: 2.3225 - val_accuracy: 0.1452\n"
          ]
        },
        {
          "output_type": "execute_result",
          "data": {
            "text/plain": [
              "<keras.callbacks.History at 0x7f69e2754d00>"
            ]
          },
          "metadata": {},
          "execution_count": 23
        }
      ],
      "source": [
        "(train_images, train_labels), _ = mnist.load_data()\n",
        "train_images = train_images.reshape((60000, 28 * 28))\n",
        "train_images = train_images.astype(\"float32\") / 255\n",
        "\n",
        "model1 = keras.Sequential([\n",
        "    layers.Dense(512, activation=\"relu\"),\n",
        "    layers.Dense(10, activation=\"softmax\")\n",
        "])\n",
        "model1.compile(optimizer=keras.optimizers.RMSprop(1.), #Q.From Turning key gradient decent parameters, ... 1 to any other number\n",
        "              loss=\"sparse_categorical_crossentropy\",\n",
        "              metrics=[\"accuracy\"])\n",
        "model1.fit(train_images, train_labels,\n",
        "          epochs=10,\n",
        "          batch_size=128,\n",
        "          validation_split=0.2)"
      ]
    },
    {
      "cell_type": "code",
      "source": [
        "(train_images, train_labels), _ = mnist.load_data()\n",
        "train_images = train_images.reshape((60000, 28 * 28))\n",
        "train_images = train_images.astype(\"float32\") / 255\n",
        "\n",
        "model2 = keras.Sequential([\n",
        "    layers.Dense(512, activation=\"relu\"),\n",
        "    layers.Dense(10, activation=\"softmax\")\n",
        "])\n",
        "model2.compile(optimizer=keras.optimizers.RMSprop(5.),\n",
        "              loss=\"sparse_categorical_crossentropy\",\n",
        "              metrics=[\"accuracy\"])\n",
        "model2.fit(train_images, train_labels,\n",
        "          epochs=10,\n",
        "          batch_size=128,\n",
        "          validation_split=0.2)"
      ],
      "metadata": {
        "id": "vkw3hp5l8Re0",
        "outputId": "af86061e-fa17-40b7-aa31-da55369d2b75",
        "colab": {
          "base_uri": "https://localhost:8080/"
        }
      },
      "execution_count": 26,
      "outputs": [
        {
          "output_type": "stream",
          "name": "stdout",
          "text": [
            "Epoch 1/10\n",
            "375/375 [==============================] - 3s 5ms/step - loss: 13136.3145 - accuracy: 0.2407 - val_loss: 6.4901 - val_accuracy: 0.1393\n",
            "Epoch 2/10\n",
            "375/375 [==============================] - 2s 4ms/step - loss: 8.3976 - accuracy: 0.1309 - val_loss: 11.9885 - val_accuracy: 0.1608\n",
            "Epoch 3/10\n",
            "375/375 [==============================] - 1s 4ms/step - loss: 5.7422 - accuracy: 0.1167 - val_loss: 5.0121 - val_accuracy: 0.1086\n",
            "Epoch 4/10\n",
            "375/375 [==============================] - 1s 4ms/step - loss: 4.9860 - accuracy: 0.1091 - val_loss: 4.5141 - val_accuracy: 0.1071\n",
            "Epoch 5/10\n",
            "375/375 [==============================] - 1s 3ms/step - loss: 5.0193 - accuracy: 0.1192 - val_loss: 6.7095 - val_accuracy: 0.1011\n",
            "Epoch 6/10\n",
            "375/375 [==============================] - 1s 4ms/step - loss: 5.0690 - accuracy: 0.0985 - val_loss: 5.1863 - val_accuracy: 0.1085\n",
            "Epoch 7/10\n",
            "375/375 [==============================] - 1s 3ms/step - loss: 5.0494 - accuracy: 0.1029 - val_loss: 5.9433 - val_accuracy: 0.1006\n",
            "Epoch 8/10\n",
            "375/375 [==============================] - 1s 4ms/step - loss: 5.0070 - accuracy: 0.1021 - val_loss: 4.9254 - val_accuracy: 0.1071\n",
            "Epoch 9/10\n",
            "375/375 [==============================] - 1s 4ms/step - loss: 5.0160 - accuracy: 0.1014 - val_loss: 4.9346 - val_accuracy: 0.1002\n",
            "Epoch 10/10\n",
            "375/375 [==============================] - 2s 5ms/step - loss: 5.0590 - accuracy: 0.1017 - val_loss: 6.5640 - val_accuracy: 0.0968\n"
          ]
        },
        {
          "output_type": "execute_result",
          "data": {
            "text/plain": [
              "<keras.callbacks.History at 0x7f6a03c252e0>"
            ]
          },
          "metadata": {},
          "execution_count": 26
        }
      ]
    },
    {
      "cell_type": "code",
      "source": [
        "(train_images, train_labels), _ = mnist.load_data()\n",
        "train_images = train_images.reshape((60000, 28 * 28))\n",
        "train_images = train_images.astype(\"float32\") / 255\n",
        "\n",
        "model3 = keras.Sequential([\n",
        "    layers.Dense(512, activation=\"relu\"),\n",
        "    layers.Dense(10, activation=\"softmax\")\n",
        "])\n",
        "model3.compile(optimizer=keras.optimizers.RMSprop(10.),\n",
        "              loss=\"sparse_categorical_crossentropy\",\n",
        "              metrics=[\"accuracy\"])\n",
        "model3.fit(train_images, train_labels,\n",
        "          epochs=10,\n",
        "          batch_size=128,\n",
        "          validation_split=0.2)"
      ],
      "metadata": {
        "id": "0eLIf5bA-Huh",
        "outputId": "64858f08-ae56-4d3f-d602-10bf58a02df1",
        "colab": {
          "base_uri": "https://localhost:8080/"
        }
      },
      "execution_count": 27,
      "outputs": [
        {
          "output_type": "stream",
          "name": "stdout",
          "text": [
            "Epoch 1/10\n",
            "375/375 [==============================] - 2s 4ms/step - loss: 70976.1250 - accuracy: 0.2773 - val_loss: 16.1448 - val_accuracy: 0.1420\n",
            "Epoch 2/10\n",
            "375/375 [==============================] - 2s 5ms/step - loss: 52.3929 - accuracy: 0.1120 - val_loss: 10.2529 - val_accuracy: 0.1095\n",
            "Epoch 3/10\n",
            "375/375 [==============================] - 1s 4ms/step - loss: 14.2355 - accuracy: 0.1109 - val_loss: 13.6468 - val_accuracy: 0.1159\n",
            "Epoch 4/10\n",
            "375/375 [==============================] - 1s 3ms/step - loss: 10.6852 - accuracy: 0.1088 - val_loss: 12.4555 - val_accuracy: 0.1097\n",
            "Epoch 5/10\n",
            "375/375 [==============================] - 1s 4ms/step - loss: 11.0162 - accuracy: 0.1104 - val_loss: 15.5812 - val_accuracy: 0.1055\n",
            "Epoch 6/10\n",
            "375/375 [==============================] - 1s 3ms/step - loss: 10.8780 - accuracy: 0.1055 - val_loss: 10.1165 - val_accuracy: 0.1085\n",
            "Epoch 7/10\n",
            "375/375 [==============================] - 1s 3ms/step - loss: 11.0570 - accuracy: 0.1074 - val_loss: 13.9731 - val_accuracy: 0.1077\n",
            "Epoch 8/10\n",
            "375/375 [==============================] - 1s 4ms/step - loss: 11.0106 - accuracy: 0.1079 - val_loss: 5.2346 - val_accuracy: 0.1100\n",
            "Epoch 9/10\n",
            "375/375 [==============================] - 1s 4ms/step - loss: 10.8075 - accuracy: 0.1080 - val_loss: 11.3090 - val_accuracy: 0.1096\n",
            "Epoch 10/10\n",
            "375/375 [==============================] - 1s 4ms/step - loss: 10.8159 - accuracy: 0.1082 - val_loss: 12.6051 - val_accuracy: 0.1162\n"
          ]
        },
        {
          "output_type": "execute_result",
          "data": {
            "text/plain": [
              "<keras.callbacks.History at 0x7f69fb40dee0>"
            ]
          },
          "metadata": {},
          "execution_count": 27
        }
      ]
    },
    {
      "cell_type": "markdown",
      "metadata": {
        "id": "EmpvOYlyu4k-"
      },
      "source": [
        "**The same model with a more appropriate learning rate**"
      ]
    },
    {
      "cell_type": "code",
      "execution_count": 29,
      "metadata": {
        "id": "FxgBvCUfu4k-",
        "outputId": "a0e1d831-e567-4d06-dbf8-8316b3364d1e",
        "colab": {
          "base_uri": "https://localhost:8080/"
        }
      },
      "outputs": [
        {
          "output_type": "stream",
          "name": "stdout",
          "text": [
            "Epoch 1/10\n",
            "375/375 [==============================] - 2s 4ms/step - loss: 0.3296 - accuracy: 0.9125 - val_loss: 0.1500 - val_accuracy: 0.9563\n",
            "Epoch 2/10\n",
            "375/375 [==============================] - 1s 3ms/step - loss: 0.1273 - accuracy: 0.9642 - val_loss: 0.1476 - val_accuracy: 0.9638\n",
            "Epoch 3/10\n",
            "375/375 [==============================] - 1s 4ms/step - loss: 0.0952 - accuracy: 0.9744 - val_loss: 0.1540 - val_accuracy: 0.9693\n",
            "Epoch 4/10\n",
            "375/375 [==============================] - 1s 4ms/step - loss: 0.0836 - accuracy: 0.9792 - val_loss: 0.1474 - val_accuracy: 0.9710\n",
            "Epoch 5/10\n",
            "375/375 [==============================] - 1s 4ms/step - loss: 0.0636 - accuracy: 0.9837 - val_loss: 0.1733 - val_accuracy: 0.9703\n",
            "Epoch 6/10\n",
            "375/375 [==============================] - 1s 3ms/step - loss: 0.0624 - accuracy: 0.9851 - val_loss: 0.1967 - val_accuracy: 0.9669\n",
            "Epoch 7/10\n",
            "375/375 [==============================] - 1s 4ms/step - loss: 0.0514 - accuracy: 0.9869 - val_loss: 0.2579 - val_accuracy: 0.9625\n",
            "Epoch 8/10\n",
            "375/375 [==============================] - 2s 4ms/step - loss: 0.0445 - accuracy: 0.9886 - val_loss: 0.1918 - val_accuracy: 0.9751\n",
            "Epoch 9/10\n",
            "375/375 [==============================] - 2s 5ms/step - loss: 0.0391 - accuracy: 0.9908 - val_loss: 0.2375 - val_accuracy: 0.9700\n",
            "Epoch 10/10\n",
            "375/375 [==============================] - 1s 3ms/step - loss: 0.0374 - accuracy: 0.9915 - val_loss: 0.2127 - val_accuracy: 0.9739\n"
          ]
        },
        {
          "output_type": "execute_result",
          "data": {
            "text/plain": [
              "<keras.callbacks.History at 0x7f69fb57f910>"
            ]
          },
          "metadata": {},
          "execution_count": 29
        }
      ],
      "source": [
        "model1 = keras.Sequential([\n",
        "    layers.Dense(512, activation=\"relu\"),\n",
        "    layers.Dense(10, activation=\"softmax\")\n",
        "])\n",
        "model1.compile(optimizer=keras.optimizers.RMSprop(1e-2),\n",
        "              loss=\"sparse_categorical_crossentropy\",\n",
        "              metrics=[\"accuracy\"])\n",
        "model1.fit(train_images, train_labels,\n",
        "          epochs=10,\n",
        "          batch_size=128,\n",
        "          validation_split=0.2)"
      ]
    },
    {
      "cell_type": "markdown",
      "metadata": {
        "id": "JVOVzLHFu4k-"
      },
      "source": [
        "### Leveraging better architecture priors"
      ]
    },
    {
      "cell_type": "markdown",
      "metadata": {
        "id": "JeIxZ9ayu4k-"
      },
      "source": [
        "### Increasing model capacity"
      ]
    },
    {
      "cell_type": "markdown",
      "metadata": {
        "id": "ahKEFxq7u4k-"
      },
      "source": [
        "**A simple logistic regression on MNIST**"
      ]
    },
    {
      "cell_type": "code",
      "execution_count": null,
      "metadata": {
        "id": "6OxkQEu0u4k_"
      },
      "outputs": [],
      "source": [
        "model = keras.Sequential([layers.Dense(10, activation=\"softmax\")])\n",
        "model.compile(optimizer=\"rmsprop\",\n",
        "              loss=\"sparse_categorical_crossentropy\",\n",
        "              metrics=[\"accuracy\"])\n",
        "history_small_model = model.fit(\n",
        "    train_images, train_labels,\n",
        "    epochs=20,\n",
        "    batch_size=128,\n",
        "    validation_split=0.2)"
      ]
    },
    {
      "cell_type": "code",
      "execution_count": null,
      "metadata": {
        "id": "wAmX03OVu4k_"
      },
      "outputs": [],
      "source": [
        "import matplotlib.pyplot as plt\n",
        "val_loss = history_small_model.history[\"val_loss\"]\n",
        "epochs = range(1, 21)\n",
        "plt.plot(epochs, val_loss, \"b--\",\n",
        "         label=\"Validation loss\")\n",
        "plt.title(\"Effect of insufficient model capacity on validation loss\")\n",
        "plt.xlabel(\"Epochs\")\n",
        "plt.ylabel(\"Loss\")\n",
        "plt.legend()"
      ]
    },
    {
      "cell_type": "code",
      "execution_count": null,
      "metadata": {
        "id": "Os_tB5g6u4k_"
      },
      "outputs": [],
      "source": [
        "model = keras.Sequential([\n",
        "    layers.Dense(96, activation=\"relu\"),\n",
        "    layers.Dense(96, activation=\"relu\"),\n",
        "    layers.Dense(10, activation=\"softmax\"),\n",
        "])\n",
        "model.compile(optimizer=\"rmsprop\",\n",
        "              loss=\"sparse_categorical_crossentropy\",\n",
        "              metrics=[\"accuracy\"])\n",
        "history_large_model = model.fit(\n",
        "    train_images, train_labels,\n",
        "    epochs=20,\n",
        "    batch_size=128,\n",
        "    validation_split=0.2)"
      ]
    },
    {
      "cell_type": "markdown",
      "metadata": {
        "id": "HGiZH_B_u4k_"
      },
      "source": [
        "## Improving generalization"
      ]
    },
    {
      "cell_type": "markdown",
      "metadata": {
        "id": "P1CyAksKu4k_"
      },
      "source": [
        "### Dataset curation"
      ]
    },
    {
      "cell_type": "markdown",
      "metadata": {
        "id": "0eldLcnlu4k_"
      },
      "source": [
        "### Feature engineering"
      ]
    },
    {
      "cell_type": "markdown",
      "metadata": {
        "id": "TLG9gLeju4lA"
      },
      "source": [
        "### Using early stopping"
      ]
    },
    {
      "cell_type": "markdown",
      "metadata": {
        "id": "jyXNV-Aqu4lA"
      },
      "source": [
        "### Regularizing your model"
      ]
    },
    {
      "cell_type": "markdown",
      "metadata": {
        "id": "uxo4YKSnu4lA"
      },
      "source": [
        "#### Reducing the network's size"
      ]
    },
    {
      "cell_type": "markdown",
      "metadata": {
        "id": "5fB-nMx1u4lA"
      },
      "source": [
        "**Original model**"
      ]
    },
    {
      "cell_type": "code",
      "execution_count": null,
      "metadata": {
        "id": "cCpRAiiGu4lA"
      },
      "outputs": [],
      "source": [
        "from tensorflow.keras.datasets import imdb\n",
        "(train_data, train_labels), _ = imdb.load_data(num_words=10000)\n",
        "\n",
        "def vectorize_sequences(sequences, dimension=10000):\n",
        "    results = np.zeros((len(sequences), dimension))\n",
        "    for i, sequence in enumerate(sequences):\n",
        "        results[i, sequence] = 1.\n",
        "    return results\n",
        "train_data = vectorize_sequences(train_data)\n",
        "\n",
        "model = keras.Sequential([\n",
        "    layers.Dense(16, activation=\"relu\"),\n",
        "    layers.Dense(16, activation=\"relu\"),\n",
        "    layers.Dense(1, activation=\"sigmoid\")\n",
        "])\n",
        "model.compile(optimizer=\"rmsprop\",\n",
        "              loss=\"binary_crossentropy\",\n",
        "              metrics=[\"accuracy\"])\n",
        "history_original = model.fit(train_data, train_labels,\n",
        "                             epochs=20, batch_size=512, validation_split=0.4)"
      ]
    },
    {
      "cell_type": "markdown",
      "metadata": {
        "id": "yP7WNIZ6u4lA"
      },
      "source": [
        "**Version of the model with lower capacity**"
      ]
    },
    {
      "cell_type": "code",
      "execution_count": null,
      "metadata": {
        "id": "7VUfDd6gu4lB"
      },
      "outputs": [],
      "source": [
        "model = keras.Sequential([\n",
        "    layers.Dense(4, activation=\"relu\"),\n",
        "    layers.Dense(4, activation=\"relu\"),\n",
        "    layers.Dense(1, activation=\"sigmoid\")\n",
        "])\n",
        "model.compile(optimizer=\"rmsprop\",\n",
        "              loss=\"binary_crossentropy\",\n",
        "              metrics=[\"accuracy\"])\n",
        "history_smaller_model = model.fit(\n",
        "    train_data, train_labels,\n",
        "    epochs=20, batch_size=512, validation_split=0.4)"
      ]
    },
    {
      "cell_type": "markdown",
      "metadata": {
        "id": "BdT0tBfIu4lB"
      },
      "source": [
        "**Version of the model with higher capacity**"
      ]
    },
    {
      "cell_type": "code",
      "execution_count": null,
      "metadata": {
        "id": "5GHp3JyVu4lB"
      },
      "outputs": [],
      "source": [
        "model = keras.Sequential([\n",
        "    layers.Dense(512, activation=\"relu\"),\n",
        "    layers.Dense(512, activation=\"relu\"),\n",
        "    layers.Dense(1, activation=\"sigmoid\")\n",
        "])\n",
        "model.compile(optimizer=\"rmsprop\",\n",
        "              loss=\"binary_crossentropy\",\n",
        "              metrics=[\"accuracy\"])\n",
        "history_larger_model = model.fit(\n",
        "    train_data, train_labels,\n",
        "    epochs=20, batch_size=512, validation_split=0.4)"
      ]
    },
    {
      "cell_type": "markdown",
      "metadata": {
        "id": "Hv3zEP_Nu4lB"
      },
      "source": [
        "#### Adding weight regularization"
      ]
    },
    {
      "cell_type": "markdown",
      "metadata": {
        "id": "NSenURmWu4lB"
      },
      "source": [
        "**Adding L2 weight regularization to the model**"
      ]
    },
    {
      "cell_type": "code",
      "execution_count": null,
      "metadata": {
        "id": "IYL17WeMu4lB"
      },
      "outputs": [],
      "source": [
        "from tensorflow.keras import regularizers\n",
        "model = keras.Sequential([\n",
        "    layers.Dense(16,\n",
        "                 kernel_regularizer=regularizers.l2(0.002),\n",
        "                 activation=\"relu\"),\n",
        "    layers.Dense(16,\n",
        "                 kernel_regularizer=regularizers.l2(0.002),\n",
        "                 activation=\"relu\"),\n",
        "    layers.Dense(1, activation=\"sigmoid\")\n",
        "])\n",
        "model.compile(optimizer=\"rmsprop\",\n",
        "              loss=\"binary_crossentropy\",\n",
        "              metrics=[\"accuracy\"])\n",
        "history_l2_reg = model.fit(\n",
        "    train_data, train_labels,\n",
        "    epochs=20, batch_size=512, validation_split=0.4)"
      ]
    },
    {
      "cell_type": "markdown",
      "metadata": {
        "id": "vPoxpmwBu4lC"
      },
      "source": [
        "**Different weight regularizers available in Keras**"
      ]
    },
    {
      "cell_type": "code",
      "execution_count": null,
      "metadata": {
        "id": "Y1ZqvnrOu4lC"
      },
      "outputs": [],
      "source": [
        "from tensorflow.keras import regularizers\n",
        "regularizers.l1(0.001)\n",
        "regularizers.l1_l2(l1=0.001, l2=0.001)"
      ]
    },
    {
      "cell_type": "markdown",
      "metadata": {
        "id": "rhGYKIsdu4lC"
      },
      "source": [
        "#### Adding dropout"
      ]
    },
    {
      "cell_type": "markdown",
      "metadata": {
        "id": "UT7MXuv0u4lC"
      },
      "source": [
        "**Adding dropout to the IMDB model**"
      ]
    },
    {
      "cell_type": "code",
      "execution_count": null,
      "metadata": {
        "id": "XGmMag2lu4lC"
      },
      "outputs": [],
      "source": [
        "model = keras.Sequential([\n",
        "    layers.Dense(16, activation=\"relu\"),\n",
        "    layers.Dropout(0.5),\n",
        "    layers.Dense(16, activation=\"relu\"),\n",
        "    layers.Dropout(0.5),\n",
        "    layers.Dense(1, activation=\"sigmoid\")\n",
        "])\n",
        "model.compile(optimizer=\"rmsprop\",\n",
        "              loss=\"binary_crossentropy\",\n",
        "              metrics=[\"accuracy\"])\n",
        "history_dropout = model.fit(\n",
        "    train_data, train_labels,\n",
        "    epochs=20, batch_size=512, validation_split=0.4)"
      ]
    },
    {
      "cell_type": "markdown",
      "metadata": {
        "id": "uzRXskppu4lC"
      },
      "source": [
        "## Summary"
      ]
    }
  ],
  "metadata": {
    "colab": {
      "name": "chapter05_fundamentals-of-ml.i",
      "provenance": [],
      "include_colab_link": true
    },
    "kernelspec": {
      "display_name": "Python 3",
      "language": "python",
      "name": "python3"
    },
    "language_info": {
      "codemirror_mode": {
        "name": "ipython",
        "version": 3
      },
      "file_extension": ".py",
      "mimetype": "text/x-python",
      "name": "python",
      "nbconvert_exporter": "python",
      "pygments_lexer": "ipython3",
      "version": "3.7.0"
    },
    "accelerator": "GPU",
    "gpuClass": "standard"
  },
  "nbformat": 4,
  "nbformat_minor": 0
}