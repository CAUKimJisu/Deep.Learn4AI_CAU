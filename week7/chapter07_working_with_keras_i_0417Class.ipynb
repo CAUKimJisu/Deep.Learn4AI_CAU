{
  "cells": [
    {
      "cell_type": "markdown",
      "metadata": {
        "id": "view-in-github",
        "colab_type": "text"
      },
      "source": [
        "<a href=\"https://colab.research.google.com/github/CAUKimJisu/Deep.Learn4AI_CAU/blob/main/week7/chapter07_working_with_keras_i_0417Class.ipynb\" target=\"_parent\"><img src=\"https://colab.research.google.com/assets/colab-badge.svg\" alt=\"Open In Colab\"/></a>"
      ]
    },
    {
      "cell_type": "markdown",
      "metadata": {
        "id": "dH5ltSZGyj8N"
      },
      "source": [
        "This is a companion notebook for the book [Deep Learning with Python, Second Edition](https://www.manning.com/books/deep-learning-with-python-second-edition?a_aid=keras&a_bid=76564dff). For readability, it only contains runnable code blocks and section titles, and omits everything else in the book: text paragraphs, figures, and pseudocode.\n",
        "\n",
        "**If you want to be able to follow what's going on, I recommend reading the notebook side by side with your copy of the book.**\n",
        "\n",
        "This notebook was generated for TensorFlow 2.6."
      ]
    },
    {
      "cell_type": "markdown",
      "metadata": {
        "id": "SfjsZr5_yj8O"
      },
      "source": [
        "# Working with Keras: A deep dive"
      ]
    },
    {
      "cell_type": "markdown",
      "metadata": {
        "id": "rM5StrGcyj8O"
      },
      "source": [
        "## A spectrum of workflows"
      ]
    },
    {
      "cell_type": "markdown",
      "metadata": {
        "id": "6q9bJroPyj8O"
      },
      "source": [
        "## Different ways to build Keras models"
      ]
    },
    {
      "cell_type": "markdown",
      "metadata": {
        "id": "yVsdgK_Eyj8O"
      },
      "source": [
        "### The Sequential model"
      ]
    },
    {
      "cell_type": "markdown",
      "metadata": {
        "id": "zzCRimVhyj8P"
      },
      "source": [
        "**The `Sequential` class**"
      ]
    },
    {
      "cell_type": "code",
      "execution_count": 1,
      "metadata": {
        "id": "_Za8xh3Nyj8P"
      },
      "outputs": [],
      "source": [
        "from tensorflow import keras\n",
        "from tensorflow.keras import layers\n",
        "\n",
        "model = keras.Sequential([\n",
        "    layers.Dense(64, activation=\"relu\"),\n",
        "    layers.Dense(10, activation=\"softmax\")\n",
        "])"
      ]
    },
    {
      "cell_type": "markdown",
      "metadata": {
        "id": "TE0DGhGpyj8P"
      },
      "source": [
        "**Incrementally building a Sequential model**"
      ]
    },
    {
      "cell_type": "code",
      "execution_count": 2,
      "metadata": {
        "id": "4vZxYw1Myj8P"
      },
      "outputs": [],
      "source": [
        "model = keras.Sequential()\n",
        "model.add(layers.Dense(64, activation=\"relu\"))\n",
        "model.add(layers.Dense(10, activation=\"softmax\"))"
      ]
    },
    {
      "cell_type": "markdown",
      "metadata": {
        "id": "x2t-pLJ5yj8Q"
      },
      "source": [
        "**Calling a model for the first time to build it**"
      ]
    },
    {
      "cell_type": "code",
      "execution_count": 3,
      "metadata": {
        "id": "_Td5RdYUyj8Q",
        "colab": {
          "base_uri": "https://localhost:8080/"
        },
        "outputId": "eb1f361e-d207-4497-caec-222f4bf6e813"
      },
      "outputs": [
        {
          "output_type": "execute_result",
          "data": {
            "text/plain": [
              "[<tf.Variable 'dense_2/kernel:0' shape=(3, 64) dtype=float32, numpy=\n",
              " array([[-0.18157364,  0.12661535,  0.03731692, -0.07314353,  0.2746144 ,\n",
              "          0.21878433,  0.11483982, -0.06619036, -0.164296  ,  0.20359653,\n",
              "          0.16761017,  0.06929356, -0.06470378, -0.0784293 ,  0.07491437,\n",
              "          0.29648143,  0.29169828,  0.24083489,  0.16045308,  0.23504502,\n",
              "         -0.05609627, -0.2267153 , -0.2976642 , -0.10914673, -0.2597042 ,\n",
              "          0.2602479 ,  0.06433132,  0.18577692,  0.2099685 ,  0.25105417,\n",
              "         -0.25333074, -0.02353117, -0.29460558,  0.28134596, -0.0924211 ,\n",
              "         -0.00060895, -0.25327924,  0.15210366, -0.22971068,  0.05003953,\n",
              "          0.25711185,  0.23039764, -0.17468691,  0.13229832,  0.1033456 ,\n",
              "          0.29398704,  0.15298095, -0.29287905, -0.1966326 ,  0.2891364 ,\n",
              "         -0.20851322,  0.13733217, -0.0746135 ,  0.17969227, -0.06562422,\n",
              "         -0.0105229 ,  0.23244947, -0.05724832,  0.17364424, -0.21657127,\n",
              "         -0.16659325,  0.28440166, -0.25078028,  0.07090014],\n",
              "        [ 0.14265376,  0.04396701, -0.06291737, -0.09822842,  0.21530533,\n",
              "          0.03559473, -0.23823042, -0.02018353,  0.16138232, -0.22305217,\n",
              "         -0.1739085 ,  0.10605139,  0.21680516,  0.22349113,  0.15841913,\n",
              "         -0.15653732, -0.29049784, -0.06413355, -0.28195164, -0.04077527,\n",
              "          0.2236017 ,  0.1433143 , -0.26963893,  0.06990585,  0.20529032,\n",
              "          0.02704218,  0.1980676 , -0.04221606, -0.08014436,  0.22639376,\n",
              "         -0.16520433, -0.06681922, -0.01159716, -0.14031956,  0.05748284,\n",
              "          0.1990597 ,  0.17904437,  0.09675854,  0.29141724, -0.01291388,\n",
              "          0.29642725,  0.28213942, -0.03195423, -0.28351542, -0.1365644 ,\n",
              "          0.0744352 , -0.03742737, -0.18936315,  0.11595711,  0.28077298,\n",
              "          0.29294062,  0.21543586, -0.03731292, -0.11484146, -0.27480882,\n",
              "          0.05057371, -0.27158836,  0.0184598 ,  0.02095896, -0.11175419,\n",
              "          0.26994598,  0.21283603, -0.07312976, -0.16804068],\n",
              "        [-0.1294893 , -0.08401239, -0.05526878,  0.1000303 , -0.04066369,\n",
              "         -0.1841804 , -0.09761335, -0.23977716,  0.04238272,  0.18179032,\n",
              "          0.01338869,  0.10018343,  0.2692632 ,  0.17847723,  0.22555268,\n",
              "         -0.22035804, -0.18474482,  0.10790372,  0.2837031 ,  0.2854082 ,\n",
              "         -0.07641944,  0.162099  ,  0.09844041,  0.2533129 , -0.09120156,\n",
              "         -0.13072404, -0.10013962,  0.28901553, -0.25079262,  0.15741584,\n",
              "         -0.09908038, -0.02009144, -0.2719451 ,  0.19229686, -0.27042988,\n",
              "          0.00359726,  0.06411958, -0.17120065,  0.08915097, -0.20959213,\n",
              "         -0.27341318,  0.17277402,  0.14016387, -0.13737741,  0.283037  ,\n",
              "          0.08789155, -0.27112502,  0.16092819, -0.05269307, -0.04917079,\n",
              "          0.05746806, -0.20663208, -0.1697944 ,  0.2817393 , -0.13014649,\n",
              "         -0.1945419 ,  0.16778675,  0.0131793 ,  0.03923917, -0.28021774,\n",
              "          0.16380656,  0.06609875, -0.01151097,  0.09886041]],\n",
              "       dtype=float32)>,\n",
              " <tf.Variable 'dense_2/bias:0' shape=(64,) dtype=float32, numpy=\n",
              " array([0., 0., 0., 0., 0., 0., 0., 0., 0., 0., 0., 0., 0., 0., 0., 0., 0.,\n",
              "        0., 0., 0., 0., 0., 0., 0., 0., 0., 0., 0., 0., 0., 0., 0., 0., 0.,\n",
              "        0., 0., 0., 0., 0., 0., 0., 0., 0., 0., 0., 0., 0., 0., 0., 0., 0.,\n",
              "        0., 0., 0., 0., 0., 0., 0., 0., 0., 0., 0., 0., 0.], dtype=float32)>,\n",
              " <tf.Variable 'dense_3/kernel:0' shape=(64, 10) dtype=float32, numpy=\n",
              " array([[-0.26725882, -0.06471124, -0.28186402,  0.22953394,  0.24972805,\n",
              "          0.2139816 , -0.18826446, -0.00197327,  0.26644567, -0.11042632],\n",
              "        [ 0.28140184, -0.02650341,  0.20210698,  0.03906587, -0.22542185,\n",
              "         -0.05937049,  0.08666223,  0.2734941 , -0.0754534 , -0.22856702],\n",
              "        [ 0.01738483, -0.20164779,  0.00105193, -0.12387623,  0.16270614,\n",
              "          0.0640955 ,  0.21483067, -0.05213636,  0.19224378,  0.15619326],\n",
              "        [ 0.00860155, -0.0058274 , -0.03325742, -0.08711085, -0.25175732,\n",
              "          0.20175865,  0.07972696,  0.00712979,  0.24693409, -0.15517792],\n",
              "        [ 0.28132537, -0.15300722, -0.05939235, -0.11861116,  0.24636081,\n",
              "          0.25334153, -0.0115442 ,  0.03461853, -0.15067056, -0.07121284],\n",
              "        [-0.21115646, -0.09230143, -0.20504421,  0.16962817,  0.27918264,\n",
              "          0.21563163, -0.00159043,  0.07661825, -0.04338668,  0.09519339],\n",
              "        [ 0.25863096, -0.09473906,  0.06416237,  0.19173503,  0.15943667,\n",
              "         -0.28045082,  0.22472224,  0.17515048, -0.25541756,  0.12982807],\n",
              "        [-0.09443274,  0.18053263,  0.21220726,  0.19808435,  0.04001111,\n",
              "         -0.0580142 , -0.12932874,  0.1647915 , -0.23903918,  0.05649999],\n",
              "        [-0.11468962, -0.02329925, -0.19100589, -0.0463852 , -0.20746315,\n",
              "          0.04837212,  0.23795322,  0.11386219,  0.2786778 , -0.18358019],\n",
              "        [-0.07637472,  0.12202007,  0.26264575,  0.09633037, -0.20288084,\n",
              "          0.06513101, -0.01453465,  0.15187395,  0.09122723,  0.08779699],\n",
              "        [ 0.2774941 ,  0.11430937, -0.13441445, -0.05562076,  0.04833722,\n",
              "          0.03223222,  0.12411648, -0.09245893, -0.19581665, -0.03851835],\n",
              "        [-0.07678491,  0.13263434, -0.12933648,  0.09406635, -0.21799594,\n",
              "         -0.19954967,  0.24346402,  0.12123975, -0.04366061, -0.04123908],\n",
              "        [-0.22381097, -0.19247577, -0.21824028, -0.15815906, -0.25986597,\n",
              "         -0.09084834, -0.00272006, -0.2079798 , -0.2669811 ,  0.1642299 ],\n",
              "        [ 0.22811934,  0.03358281,  0.02851856, -0.18620831, -0.1049508 ,\n",
              "          0.03408718,  0.0634914 ,  0.21504968,  0.03062502,  0.27618083],\n",
              "        [-0.01793513,  0.18511876, -0.2570166 ,  0.16686767, -0.0200147 ,\n",
              "          0.08472699,  0.04473788, -0.07873712,  0.02210727, -0.21333006],\n",
              "        [ 0.18098757, -0.02365533, -0.17167667, -0.2052497 , -0.2508159 ,\n",
              "         -0.28023583,  0.17564267, -0.20374161,  0.11196318, -0.05856349],\n",
              "        [ 0.1901241 ,  0.17336756, -0.22777814, -0.05011952, -0.06766157,\n",
              "         -0.12731807,  0.06291294,  0.04031023, -0.17642434,  0.05406943],\n",
              "        [ 0.03120467,  0.12008885, -0.06093289,  0.18605256,  0.17576337,\n",
              "          0.1585804 ,  0.11059821,  0.22467086,  0.02198812,  0.16283575],\n",
              "        [ 0.21627042,  0.07618389,  0.26097992,  0.1592412 ,  0.24300614,\n",
              "          0.24980941, -0.13011076, -0.25609013, -0.27770668, -0.1198663 ],\n",
              "        [ 0.13985807, -0.22437717,  0.01876244, -0.20200765,  0.15810373,\n",
              "          0.27713093, -0.09150897,  0.23679039,  0.05572179,  0.2019378 ],\n",
              "        [-0.0122169 ,  0.01433608,  0.13391975, -0.10347061,  0.10056123,\n",
              "          0.11472601, -0.12075022, -0.10058267, -0.0224767 , -0.27565658],\n",
              "        [ 0.04663604, -0.00507721, -0.13162306,  0.21933368,  0.10204983,\n",
              "          0.24903521,  0.24171117, -0.27579677,  0.18798143,  0.2429398 ],\n",
              "        [-0.23105067, -0.15076478, -0.00158161,  0.19441143, -0.16112602,\n",
              "          0.07293525, -0.05374004,  0.17931607, -0.13595608,  0.2594858 ],\n",
              "        [ 0.03281057,  0.12958136,  0.06437403,  0.19000527,  0.02456051,\n",
              "          0.24857709, -0.09153761,  0.21110365, -0.27094406,  0.16639745],\n",
              "        [-0.21244207,  0.07817283,  0.01358366,  0.14584732,  0.26408872,\n",
              "          0.0684869 ,  0.098483  , -0.26148322, -0.18392812, -0.14646156],\n",
              "        [-0.0667562 , -0.20366904, -0.05883266, -0.10318975, -0.1645597 ,\n",
              "          0.05358586,  0.27163455,  0.0898256 , -0.10273334, -0.2622603 ],\n",
              "        [-0.0175443 ,  0.26498833, -0.13058157,  0.0534291 ,  0.01527131,\n",
              "         -0.13951658, -0.05975881,  0.06656292,  0.20159754, -0.19428915],\n",
              "        [-0.17076722, -0.09031202, -0.0842561 ,  0.22256908,  0.04650897,\n",
              "          0.06832728,  0.18393096,  0.2419298 , -0.13754244,  0.15508598],\n",
              "        [ 0.01432914, -0.08282955,  0.02976331, -0.10663363, -0.00675347,\n",
              "         -0.17506248,  0.05980456, -0.04920247, -0.20703226,  0.10481659],\n",
              "        [-0.26935682,  0.14678982, -0.02825767,  0.08656603, -0.10428563,\n",
              "          0.20718774, -0.17737737, -0.02639818, -0.2003291 ,  0.05647305],\n",
              "        [ 0.22633663,  0.10155335, -0.02880159,  0.2003046 , -0.1991052 ,\n",
              "         -0.00474945, -0.18222493,  0.15743461,  0.18297121,  0.28023997],\n",
              "        [-0.22518471, -0.03574474,  0.24381909, -0.0688163 ,  0.12267479,\n",
              "         -0.2042596 , -0.03556709, -0.12153617, -0.19316354, -0.10101289],\n",
              "        [-0.21887442, -0.14779559,  0.02330115, -0.06541662, -0.21543482,\n",
              "         -0.09873956, -0.28354785, -0.23816931,  0.05006248,  0.0563848 ],\n",
              "        [ 0.1375072 ,  0.26782593,  0.28280833, -0.0462977 , -0.2479949 ,\n",
              "         -0.11468229,  0.1831271 ,  0.06639984, -0.1725404 ,  0.24808457],\n",
              "        [-0.21952026,  0.012196  ,  0.19331914,  0.19496343, -0.02468562,\n",
              "         -0.23786144,  0.25572386,  0.26084682,  0.00397083,  0.19515473],\n",
              "        [-0.14192237,  0.1727897 , -0.19696167,  0.19665495,  0.15456378,\n",
              "          0.00866598, -0.13922487, -0.02332145,  0.10777193,  0.00968269],\n",
              "        [ 0.01278472,  0.24442866, -0.2590754 , -0.18233633, -0.12786634,\n",
              "         -0.11634931, -0.1051064 , -0.2112126 ,  0.20435315, -0.0091351 ],\n",
              "        [-0.19190386,  0.01503921,  0.19898531,  0.14251482, -0.27938557,\n",
              "          0.05054355,  0.21968707, -0.04058775,  0.2314243 , -0.26976347],\n",
              "        [ 0.15792105, -0.08862565, -0.25273442, -0.27224886, -0.20734835,\n",
              "          0.17200416, -0.20983711,  0.20417222,  0.06298646, -0.10045587],\n",
              "        [-0.19778937,  0.09922919,  0.02039436, -0.03951328,  0.03105736,\n",
              "          0.13156548, -0.21295898,  0.06350845, -0.00066116,  0.04701576],\n",
              "        [ 0.14035672,  0.11472851, -0.26505983, -0.04769255,  0.27649608,\n",
              "          0.0697681 ,  0.25372228, -0.0190936 ,  0.04746628, -0.01691315],\n",
              "        [ 0.07731703, -0.22899255,  0.03541473, -0.07999878, -0.21374024,\n",
              "          0.14846689, -0.06057429,  0.05326128,  0.08625993,  0.18594775],\n",
              "        [ 0.13775492, -0.01742998,  0.07785472,  0.11059237,  0.14816558,\n",
              "         -0.18924052,  0.20116705, -0.03431168, -0.17230769, -0.27721897],\n",
              "        [ 0.02015498,  0.1758185 , -0.11692338,  0.12056154,  0.01991946,\n",
              "         -0.15699883,  0.045733  , -0.22101265, -0.18293877,  0.12802827],\n",
              "        [ 0.12191573, -0.02170679, -0.26299405,  0.23858562, -0.27443036,\n",
              "          0.09697661,  0.16467988, -0.17358148,  0.2272943 ,  0.17943263],\n",
              "        [-0.27733493,  0.05779383, -0.00890285,  0.07038677, -0.08547607,\n",
              "         -0.09423566, -0.05963634,  0.20959541,  0.10331169,  0.06457093],\n",
              "        [-0.00054801,  0.02870321, -0.08953583,  0.11429852,  0.04894271,\n",
              "          0.08932266,  0.09878707,  0.26676503, -0.05118911,  0.04476163],\n",
              "        [-0.07065168, -0.22591934, -0.03948225, -0.2382015 ,  0.17090368,\n",
              "          0.14773068, -0.18325636,  0.09635496,  0.18562523, -0.03256619],\n",
              "        [-0.19644597, -0.12166733, -0.15704846, -0.20897362, -0.19270149,\n",
              "         -0.19912842,  0.2664092 , -0.27736214,  0.17371243,  0.07519475],\n",
              "        [-0.1447619 , -0.1856916 , -0.15507309, -0.07249202,  0.2252303 ,\n",
              "         -0.16944718,  0.16209209,  0.2512193 ,  0.20741618, -0.15849009],\n",
              "        [-0.18514395, -0.25411   ,  0.03286496,  0.28399566,  0.02385616,\n",
              "          0.03813037,  0.1172992 ,  0.17793196, -0.00467056, -0.23593584],\n",
              "        [-0.16757411,  0.0203526 ,  0.20547998, -0.1379994 , -0.0324057 ,\n",
              "          0.2674249 , -0.27410993,  0.05387357,  0.09298122, -0.10289219],\n",
              "        [ 0.2448946 , -0.07103702, -0.03120595,  0.02117696, -0.09765632,\n",
              "         -0.08557145,  0.23146316,  0.20906553,  0.22607175,  0.01899353],\n",
              "        [ 0.04453292, -0.18443891, -0.13738039, -0.02973187,  0.10947955,\n",
              "          0.283394  ,  0.10148317,  0.05893111, -0.18896514,  0.07735023],\n",
              "        [-0.08170864, -0.14184518, -0.04797232, -0.03765365,  0.0027675 ,\n",
              "         -0.180278  , -0.06899212,  0.26568493, -0.04655656, -0.05184913],\n",
              "        [-0.26235634, -0.16859564, -0.09357992, -0.16311482, -0.08240844,\n",
              "          0.11427021, -0.24574159,  0.18447286,  0.22002575, -0.07808723],\n",
              "        [-0.2690093 ,  0.27549514, -0.24589352, -0.19965604,  0.08898491,\n",
              "         -0.13926966, -0.18943602, -0.06934041,  0.23817977, -0.02754217],\n",
              "        [ 0.21461955,  0.15479922, -0.28438196, -0.1094331 ,  0.15303344,\n",
              "          0.20665371, -0.09858131,  0.12005115, -0.10177916, -0.14056282],\n",
              "        [-0.01021832, -0.04087934, -0.12110357,  0.09922478, -0.21492375,\n",
              "         -0.08506365,  0.09552813, -0.07519156,  0.24819669,  0.0094828 ],\n",
              "        [-0.11971211,  0.12325749, -0.07034028,  0.17173266,  0.21966907,\n",
              "          0.06068468, -0.25000367,  0.13343188,  0.08099499, -0.2258353 ],\n",
              "        [ 0.18042436, -0.15709285, -0.18605176,  0.09271699, -0.09381427,\n",
              "         -0.03539817, -0.04919228, -0.00688851,  0.03982034,  0.11061695],\n",
              "        [ 0.02086481,  0.28363797, -0.26085445,  0.03620455,  0.08819693,\n",
              "          0.1788837 , -0.21053758,  0.13394281,  0.04456851,  0.2328454 ],\n",
              "        [-0.02913839, -0.14086805, -0.19925699,  0.00177801, -0.27272823,\n",
              "          0.1227152 ,  0.00150549,  0.01279601,  0.17188868,  0.05025598],\n",
              "        [-0.01630968,  0.26641592, -0.16728158, -0.21966228, -0.14031558,\n",
              "          0.06498051,  0.24532744,  0.00624049,  0.00250068, -0.21382083]],\n",
              "       dtype=float32)>,\n",
              " <tf.Variable 'dense_3/bias:0' shape=(10,) dtype=float32, numpy=array([0., 0., 0., 0., 0., 0., 0., 0., 0., 0.], dtype=float32)>]"
            ]
          },
          "metadata": {},
          "execution_count": 3
        }
      ],
      "source": [
        "model.build(input_shape=(None, 3))\n",
        "model.weights"
      ]
    },
    {
      "cell_type": "markdown",
      "metadata": {
        "id": "6atOQYeOyj8Q"
      },
      "source": [
        "**The summary method**"
      ]
    },
    {
      "cell_type": "code",
      "execution_count": 4,
      "metadata": {
        "id": "p6h0btfjyj8Q",
        "colab": {
          "base_uri": "https://localhost:8080/"
        },
        "outputId": "c61ce606-2e81-4ed6-b998-05f4a37486cf"
      },
      "outputs": [
        {
          "output_type": "stream",
          "name": "stdout",
          "text": [
            "Model: \"sequential_1\"\n",
            "_________________________________________________________________\n",
            " Layer (type)                Output Shape              Param #   \n",
            "=================================================================\n",
            " dense_2 (Dense)             (None, 64)                256       \n",
            "                                                                 \n",
            " dense_3 (Dense)             (None, 10)                650       \n",
            "                                                                 \n",
            "=================================================================\n",
            "Total params: 906\n",
            "Trainable params: 906\n",
            "Non-trainable params: 0\n",
            "_________________________________________________________________\n"
          ]
        }
      ],
      "source": [
        "model.summary()"
      ]
    },
    {
      "cell_type": "markdown",
      "metadata": {
        "id": "zIxIaZhfyj8Q"
      },
      "source": [
        "**Naming models and layers with the `name` argument**"
      ]
    },
    {
      "cell_type": "code",
      "execution_count": 5,
      "metadata": {
        "id": "0x9rnGbKyj8Q",
        "colab": {
          "base_uri": "https://localhost:8080/"
        },
        "outputId": "07ef21a5-ad08-41e7-eb85-1a9e23c0416d"
      },
      "outputs": [
        {
          "output_type": "stream",
          "name": "stdout",
          "text": [
            "Model: \"my_example_model\"\n",
            "_________________________________________________________________\n",
            " Layer (type)                Output Shape              Param #   \n",
            "=================================================================\n",
            " my_first_layer (Dense)      (None, 64)                256       \n",
            "                                                                 \n",
            " my_last_layer (Dense)       (None, 10)                650       \n",
            "                                                                 \n",
            "=================================================================\n",
            "Total params: 906\n",
            "Trainable params: 906\n",
            "Non-trainable params: 0\n",
            "_________________________________________________________________\n"
          ]
        }
      ],
      "source": [
        "model = keras.Sequential(name=\"my_example_model\")\n",
        "model.add(layers.Dense(64, activation=\"relu\", name=\"my_first_layer\"))\n",
        "model.add(layers.Dense(10, activation=\"softmax\", name=\"my_last_layer\"))\n",
        "model.build((None, 3))\n",
        "model.summary()"
      ]
    },
    {
      "cell_type": "markdown",
      "metadata": {
        "id": "OrZ6XeI6yj8Q"
      },
      "source": [
        "**Specifying the input shape of your model in advance**"
      ]
    },
    {
      "cell_type": "code",
      "execution_count": 6,
      "metadata": {
        "id": "1bKAt-46yj8Q"
      },
      "outputs": [],
      "source": [
        "model = keras.Sequential()\n",
        "model.add(keras.Input(shape=(3,)))\n",
        "model.add(layers.Dense(64, activation=\"relu\"))"
      ]
    },
    {
      "cell_type": "code",
      "execution_count": 7,
      "metadata": {
        "id": "koBiULMyyj8Q",
        "colab": {
          "base_uri": "https://localhost:8080/"
        },
        "outputId": "1b82b306-73a6-499d-9d74-9fd9d5ddac10"
      },
      "outputs": [
        {
          "output_type": "stream",
          "name": "stdout",
          "text": [
            "Model: \"sequential_2\"\n",
            "_________________________________________________________________\n",
            " Layer (type)                Output Shape              Param #   \n",
            "=================================================================\n",
            " dense_4 (Dense)             (None, 64)                256       \n",
            "                                                                 \n",
            "=================================================================\n",
            "Total params: 256\n",
            "Trainable params: 256\n",
            "Non-trainable params: 0\n",
            "_________________________________________________________________\n"
          ]
        }
      ],
      "source": [
        "model.summary()"
      ]
    },
    {
      "cell_type": "code",
      "execution_count": 8,
      "metadata": {
        "id": "rwh2_k0Ayj8Q",
        "colab": {
          "base_uri": "https://localhost:8080/"
        },
        "outputId": "16e39662-29ac-46f7-d817-6b7279e2ac8a"
      },
      "outputs": [
        {
          "output_type": "stream",
          "name": "stdout",
          "text": [
            "Model: \"sequential_2\"\n",
            "_________________________________________________________________\n",
            " Layer (type)                Output Shape              Param #   \n",
            "=================================================================\n",
            " dense_4 (Dense)             (None, 64)                256       \n",
            "                                                                 \n",
            " dense_5 (Dense)             (None, 10)                650       \n",
            "                                                                 \n",
            "=================================================================\n",
            "Total params: 906\n",
            "Trainable params: 906\n",
            "Non-trainable params: 0\n",
            "_________________________________________________________________\n"
          ]
        }
      ],
      "source": [
        "model.add(layers.Dense(10, activation=\"softmax\"))\n",
        "model.summary()"
      ]
    },
    {
      "cell_type": "markdown",
      "metadata": {
        "id": "mFmbqHK1yj8R"
      },
      "source": [
        "### The Functional API"
      ]
    },
    {
      "cell_type": "markdown",
      "metadata": {
        "id": "_3Bxgva0yj8R"
      },
      "source": [
        "#### A simple example"
      ]
    },
    {
      "cell_type": "markdown",
      "metadata": {
        "id": "BBY3mY6yyj8R"
      },
      "source": [
        "**A simple Functional model with two `Dense` layers**"
      ]
    },
    {
      "cell_type": "code",
      "execution_count": 9,
      "metadata": {
        "id": "Fot60hFAyj8R"
      },
      "outputs": [],
      "source": [
        "inputs = keras.Input(shape=(3,), name=\"my_input\")\n",
        "features = layers.Dense(64, activation=\"relu\")(inputs)\n",
        "outputs = layers.Dense(10, activation=\"softmax\")(features)\n",
        "model = keras.Model(inputs=inputs, outputs=outputs)"
      ]
    },
    {
      "cell_type": "code",
      "execution_count": 10,
      "metadata": {
        "id": "M4-kTNapyj8R"
      },
      "outputs": [],
      "source": [
        "inputs = keras.Input(shape=(3,), name=\"my_input\")"
      ]
    },
    {
      "cell_type": "code",
      "execution_count": 11,
      "metadata": {
        "id": "xJv4Izauyj8R",
        "colab": {
          "base_uri": "https://localhost:8080/"
        },
        "outputId": "ae0582aa-dfa7-4c3f-c8aa-2aa69362599a"
      },
      "outputs": [
        {
          "output_type": "execute_result",
          "data": {
            "text/plain": [
              "TensorShape([None, 3])"
            ]
          },
          "metadata": {},
          "execution_count": 11
        }
      ],
      "source": [
        "inputs.shape"
      ]
    },
    {
      "cell_type": "code",
      "execution_count": 12,
      "metadata": {
        "id": "hP2c8mryyj8R",
        "colab": {
          "base_uri": "https://localhost:8080/"
        },
        "outputId": "91ae2182-a6e5-4538-d892-303cd47e1542"
      },
      "outputs": [
        {
          "output_type": "execute_result",
          "data": {
            "text/plain": [
              "tf.float32"
            ]
          },
          "metadata": {},
          "execution_count": 12
        }
      ],
      "source": [
        "inputs.dtype"
      ]
    },
    {
      "cell_type": "code",
      "execution_count": 13,
      "metadata": {
        "id": "lRZfije9yj8R"
      },
      "outputs": [],
      "source": [
        "features = layers.Dense(64, activation=\"relu\")(inputs)"
      ]
    },
    {
      "cell_type": "code",
      "execution_count": 14,
      "metadata": {
        "id": "HKJZ6thRyj8R",
        "colab": {
          "base_uri": "https://localhost:8080/"
        },
        "outputId": "aaa856ea-9f69-4c2e-fcec-08e269880147"
      },
      "outputs": [
        {
          "output_type": "execute_result",
          "data": {
            "text/plain": [
              "TensorShape([None, 64])"
            ]
          },
          "metadata": {},
          "execution_count": 14
        }
      ],
      "source": [
        "features.shape"
      ]
    },
    {
      "cell_type": "code",
      "execution_count": 15,
      "metadata": {
        "id": "aGohM2yuyj8R"
      },
      "outputs": [],
      "source": [
        "outputs = layers.Dense(10, activation=\"softmax\")(features)\n",
        "model = keras.Model(inputs=inputs, outputs=outputs)"
      ]
    },
    {
      "cell_type": "code",
      "execution_count": 16,
      "metadata": {
        "id": "n9uUb9q3yj8R",
        "colab": {
          "base_uri": "https://localhost:8080/"
        },
        "outputId": "60441285-e339-4952-8104-d47214df74b2"
      },
      "outputs": [
        {
          "output_type": "stream",
          "name": "stdout",
          "text": [
            "Model: \"model_1\"\n",
            "_________________________________________________________________\n",
            " Layer (type)                Output Shape              Param #   \n",
            "=================================================================\n",
            " my_input (InputLayer)       [(None, 3)]               0         \n",
            "                                                                 \n",
            " dense_8 (Dense)             (None, 64)                256       \n",
            "                                                                 \n",
            " dense_9 (Dense)             (None, 10)                650       \n",
            "                                                                 \n",
            "=================================================================\n",
            "Total params: 906\n",
            "Trainable params: 906\n",
            "Non-trainable params: 0\n",
            "_________________________________________________________________\n"
          ]
        }
      ],
      "source": [
        "model.summary()"
      ]
    },
    {
      "cell_type": "markdown",
      "metadata": {
        "id": "4jsszDKiyj8R"
      },
      "source": [
        "#### Multi-input, multi-output models"
      ]
    },
    {
      "cell_type": "markdown",
      "metadata": {
        "id": "E3LqeV9Dyj8R"
      },
      "source": [
        "**A multi-input, multi-output Functional model**"
      ]
    },
    {
      "cell_type": "code",
      "execution_count": 17,
      "metadata": {
        "id": "Rl8YjYW2yj8R"
      },
      "outputs": [],
      "source": [
        "vocabulary_size = 10000\n",
        "num_tags = 100\n",
        "num_departments = 4\n",
        "\n",
        "title = keras.Input(shape=(vocabulary_size,), name=\"title\")\n",
        "text_body = keras.Input(shape=(vocabulary_size,), name=\"text_body\")\n",
        "tags = keras.Input(shape=(num_tags,), name=\"tags\")\n",
        "\n",
        "features = layers.Concatenate()([title, text_body, tags])\n",
        "features = layers.Dense(64, activation=\"relu\")(features)\n",
        "\n",
        "priority = layers.Dense(1, activation=\"sigmoid\", name=\"priority\")(features)\n",
        "department = layers.Dense(\n",
        "    num_departments, activation=\"softmax\", name=\"department\")(features)\n",
        "\n",
        "model = keras.Model(inputs=[title, text_body, tags], outputs=[priority, department])"
      ]
    },
    {
      "cell_type": "code",
      "source": [
        "vocabulary_size = 10000\n",
        "num_tags = 100\n",
        "num_departments = 4\n",
        "\n",
        "title = keras.Input(shape=(vocabulary_size,), name=\"title\")\n",
        "text_body = keras.Input(shape=(vocabulary_size,), name=\"text_body\")\n",
        "tags = keras.Input(shape=(num_tags,), name=\"tags\")\n",
        "\n",
        "features = layers.Concatenate()([title, text_body, tags])\n",
        "features = layers.Dense(64, activation=\"relu\")(features)\n",
        "features = layers.Dense(36, activation=\"relu\")(features)\n",
        "features = layers.Dense(24, activation=\"relu\")(features)\n",
        "\n",
        "priority = layers.Dense(1, activation=\"sigmoid\", name=\"priority\")(features)\n",
        "department = layers.Dense(\n",
        "    num_departments, activation=\"softmax\", name=\"department\")(features)\n",
        "\n",
        "model1 = keras.Model(inputs=[title, text_body, tags], outputs=[priority, department])"
      ],
      "metadata": {
        "id": "SZ1MDoT7zxZY"
      },
      "execution_count": 18,
      "outputs": []
    },
    {
      "cell_type": "code",
      "source": [
        "vocabulary_size = 10000\n",
        "num_tags = 100\n",
        "num_departments = 4\n",
        "\n",
        "title = keras.Input(shape=(vocabulary_size,), name=\"title\")\n",
        "text_body = keras.Input(shape=(vocabulary_size,), name=\"text_body\")\n",
        "tags = keras.Input(shape=(num_tags,), name=\"tags\")\n",
        "\n",
        "features = layers.Concatenate()([title, text_body, tags])\n",
        "features = layers.Dense(64, activation=\"relu\")(features)\n",
        "features = layers.Dense(36, activation=\"relu\")(features)\n",
        "features = layers.Dense(24, activation=\"relu\")(features)\n",
        "\n",
        "priority = layers.Dense(1, activation=\"sigmoid\", name=\"priority\")(features)\n",
        "department = layers.Dense(\n",
        "    num_departments, activation=\"softmax\", name=\"department\")(features)\n",
        "\n",
        "model = keras.Model(inputs=[title, text_body, tags], outputs=[priority, department])\n",
        "\n",
        "features = model.layers[5].output\n",
        "difficulty = layers.Dense(3, activation = \"softmax\", name = \"difficulty\")(features)\n",
        "\n",
        "model2 = keras.Model(inputs=[title, text_body, tags], outputs=[priority, department, difficulty])"
      ],
      "metadata": {
        "id": "J21kvJS03ZZ2"
      },
      "execution_count": 19,
      "outputs": []
    },
    {
      "cell_type": "markdown",
      "metadata": {
        "id": "egcw6Mvpyj8S"
      },
      "source": [
        "#### Training a multi-input, multi-output model"
      ]
    },
    {
      "cell_type": "markdown",
      "metadata": {
        "id": "ZlY3TGkLyj8S"
      },
      "source": [
        "**Training a model by providing lists of input & target arrays**"
      ]
    },
    {
      "cell_type": "code",
      "execution_count": 20,
      "metadata": {
        "id": "NqR36PCmyj8S",
        "colab": {
          "base_uri": "https://localhost:8080/"
        },
        "outputId": "d039f7b8-d52e-4987-a93e-a4ac1140810f"
      },
      "outputs": [
        {
          "output_type": "stream",
          "name": "stdout",
          "text": [
            "40/40 [==============================] - 6s 10ms/step - loss: 32.9502 - priority_loss: 0.3227 - department_loss: 32.6274 - priority_mean_absolute_error: 0.4914 - department_accuracy: 0.1555\n",
            "40/40 [==============================] - 2s 11ms/step - loss: 56.1847 - priority_loss: 0.3290 - department_loss: 55.8556 - priority_mean_absolute_error: 0.4976 - department_accuracy: 0.2531\n",
            "40/40 [==============================] - 0s 7ms/step\n"
          ]
        }
      ],
      "source": [
        "import numpy as np\n",
        "\n",
        "num_samples = 1280\n",
        "\n",
        "title_data = np.random.randint(0, 2, size=(num_samples, vocabulary_size))\n",
        "text_body_data = np.random.randint(0, 2, size=(num_samples, vocabulary_size))\n",
        "tags_data = np.random.randint(0, 2, size=(num_samples, num_tags))\n",
        "\n",
        "priority_data = np.random.random(size=(num_samples, 1))\n",
        "department_data = np.random.randint(0, 2, size=(num_samples, num_departments))\n",
        "\n",
        "model.compile(optimizer=\"rmsprop\",\n",
        "              loss=[\"mean_squared_error\", \"categorical_crossentropy\"],\n",
        "              metrics=[[\"mean_absolute_error\"], [\"accuracy\"]])\n",
        "model.fit([title_data, text_body_data, tags_data],\n",
        "          [priority_data, department_data],\n",
        "          epochs=1)\n",
        "model.evaluate([title_data, text_body_data, tags_data],\n",
        "               [priority_data, department_data])\n",
        "priority_preds, department_preds = model.predict([title_data, text_body_data, tags_data])"
      ]
    },
    {
      "cell_type": "code",
      "source": [
        "import numpy as np\n",
        "\n",
        "num_samples = 1280\n",
        "\n",
        "title_data = np.random.randint(0, 2, size=(num_samples, vocabulary_size))\n",
        "text_body_data = np.random.randint(0, 2, size=(num_samples, vocabulary_size))\n",
        "tags_data = np.random.randint(0, 2, size=(num_samples, num_tags))\n",
        "\n",
        "priority_data = np.random.random(size=(num_samples, 1))\n",
        "department_data = np.random.randint(0, 2, size=(num_samples, num_departments))\n",
        "\n",
        "model1.compile(optimizer=\"rmsprop\",\n",
        "              loss=[\"mean_squared_error\", \"categorical_crossentropy\"],\n",
        "              metrics=[[\"mean_absolute_error\"], [\"accuracy\"]])\n",
        "model1.fit([title_data, text_body_data, tags_data],\n",
        "          [priority_data, department_data],\n",
        "          epochs=1)\n",
        "model1.evaluate([title_data, text_body_data, tags_data],\n",
        "               [priority_data, department_data])\n",
        "priority_preds, department_preds = model1.predict([title_data, text_body_data, tags_data])"
      ],
      "metadata": {
        "colab": {
          "base_uri": "https://localhost:8080/"
        },
        "id": "w11jloIxAqir",
        "outputId": "52daadda-f2ff-491e-ab6a-878119ad8a1a"
      },
      "execution_count": 21,
      "outputs": [
        {
          "output_type": "stream",
          "name": "stdout",
          "text": [
            "40/40 [==============================] - 4s 11ms/step - loss: 34.3896 - priority_loss: 0.3307 - department_loss: 34.0588 - priority_mean_absolute_error: 0.5010 - department_accuracy: 0.1891\n",
            "40/40 [==============================] - 0s 5ms/step - loss: 41.5922 - priority_loss: 0.3413 - department_loss: 41.2509 - priority_mean_absolute_error: 0.5118 - department_accuracy: 0.1203\n",
            "40/40 [==============================] - 0s 4ms/step\n"
          ]
        }
      ]
    },
    {
      "cell_type": "markdown",
      "metadata": {
        "id": "knMwGisxyj8S"
      },
      "source": [
        "**Training a model by providing dicts of input & target arrays**"
      ]
    },
    {
      "cell_type": "code",
      "execution_count": 22,
      "metadata": {
        "id": "JexfvTV1yj8S",
        "colab": {
          "base_uri": "https://localhost:8080/"
        },
        "outputId": "52a61d3d-1433-4087-df0a-cc80c8d5ec52"
      },
      "outputs": [
        {
          "output_type": "stream",
          "name": "stdout",
          "text": [
            "40/40 [==============================] - 2s 8ms/step - loss: 99.8922 - priority_loss: 0.3176 - department_loss: 99.5746 - priority_mean_absolute_error: 0.4882 - department_accuracy: 0.1742\n",
            "40/40 [==============================] - 1s 7ms/step - loss: 77.6068 - priority_loss: 0.3176 - department_loss: 77.2893 - priority_mean_absolute_error: 0.4882 - department_accuracy: 0.0609\n",
            "40/40 [==============================] - 0s 4ms/step\n"
          ]
        }
      ],
      "source": [
        "model.compile(optimizer=\"rmsprop\",\n",
        "              loss={\"priority\": \"mean_squared_error\", \"department\": \"categorical_crossentropy\"},\n",
        "              metrics={\"priority\": [\"mean_absolute_error\"], \"department\": [\"accuracy\"]})\n",
        "model.fit({\"title\": title_data, \"text_body\": text_body_data, \"tags\": tags_data},\n",
        "          {\"priority\": priority_data, \"department\": department_data},\n",
        "          epochs=1)\n",
        "model.evaluate({\"title\": title_data, \"text_body\": text_body_data, \"tags\": tags_data},\n",
        "               {\"priority\": priority_data, \"department\": department_data})\n",
        "priority_preds, department_preds = model.predict(\n",
        "    {\"title\": title_data, \"text_body\": text_body_data, \"tags\": tags_data})"
      ]
    },
    {
      "cell_type": "code",
      "source": [
        "model1.compile(optimizer=\"rmsprop\",\n",
        "              loss={\"priority\": \"mean_squared_error\", \"department\": \"categorical_crossentropy\"},\n",
        "              metrics={\"priority\": [\"mean_absolute_error\"], \"department\": [\"accuracy\"]})\n",
        "model1.fit({\"title\": title_data, \"text_body\": text_body_data, \"tags\": tags_data},\n",
        "          {\"priority\": priority_data, \"department\": department_data},\n",
        "          epochs=1)\n",
        "model1.evaluate({\"title\": title_data, \"text_body\": text_body_data, \"tags\": tags_data},\n",
        "               {\"priority\": priority_data, \"department\": department_data})\n",
        "priority_preds, department_preds = model1.predict(\n",
        "    {\"title\": title_data, \"text_body\": text_body_data, \"tags\": tags_data})"
      ],
      "metadata": {
        "colab": {
          "base_uri": "https://localhost:8080/"
        },
        "id": "1HAXdylIA6Nj",
        "outputId": "53e0a825-d533-4385-a761-0d446234fe99"
      },
      "execution_count": 23,
      "outputs": [
        {
          "output_type": "stream",
          "name": "stdout",
          "text": [
            "40/40 [==============================] - 2s 6ms/step - loss: 82.5677 - priority_loss: 0.3413 - department_loss: 82.2264 - priority_mean_absolute_error: 0.5118 - department_accuracy: 0.2453\n",
            "40/40 [==============================] - 0s 5ms/step - loss: 164.5807 - priority_loss: 0.3413 - department_loss: 164.2395 - priority_mean_absolute_error: 0.5118 - department_accuracy: 0.1203\n",
            "40/40 [==============================] - 0s 4ms/step\n"
          ]
        }
      ]
    },
    {
      "cell_type": "markdown",
      "metadata": {
        "id": "4BSD21ltyj8S"
      },
      "source": [
        "#### The power of the Functional API: Access to layer connectivity"
      ]
    },
    {
      "cell_type": "code",
      "execution_count": 24,
      "metadata": {
        "id": "4wn77axxyj8S",
        "colab": {
          "base_uri": "https://localhost:8080/",
          "height": 564
        },
        "outputId": "34370d1b-a1b3-4451-f7b3-36792d09336b"
      },
      "outputs": [
        {
          "output_type": "execute_result",
          "data": {
            "image/png": "[encoded data removed]",
            "text/plain": [
              "<IPython.core.display.Image object>"
            ]
          },
          "metadata": {},
          "execution_count": 24
        }
      ],
      "source": [
        "keras.utils.plot_model(model, \"ticket_classifier.png\")"
      ]
    },
    {
      "cell_type": "code",
      "execution_count": 25,
      "metadata": {
        "id": "KzjNHBdUyj8S",
        "colab": {
          "base_uri": "https://localhost:8080/",
          "height": 644
        },
        "outputId": "44ffdeab-7ead-4301-c617-e4186df8bc4e"
      },
      "outputs": [
        {
          "output_type": "execute_result",
          "data": {
            "image/png": "[encoded data removed]",
            "text/plain": [
              "<IPython.core.display.Image object>"
            ]
          },
          "metadata": {},
          "execution_count": 25
        }
      ],
      "source": [
        "keras.utils.plot_model(model, \"ticket_classifier_with_shape_info.png\", show_shapes=True)"
      ]
    },
    {
      "cell_type": "code",
      "source": [
        "keras.utils.plot_model(model1, \"ticket_classifier_with_shape_info.png\", show_shapes=True)"
      ],
      "metadata": {
        "colab": {
          "base_uri": "https://localhost:8080/",
          "height": 644
        },
        "id": "jwwMPmDsBDLL",
        "outputId": "1ce47493-5a12-4ba1-c4f6-a93431d1f736"
      },
      "execution_count": 26,
      "outputs": [
        {
          "output_type": "execute_result",
          "data": {
            "image/png": "[encoded data removed]",
            "text/plain": [
              "<IPython.core.display.Image object>"
            ]
          },
          "metadata": {},
          "execution_count": 26
        }
      ]
    },
    {
      "cell_type": "markdown",
      "metadata": {
        "id": "s3zathFfyj8S"
      },
      "source": [
        "**Retrieving the inputs or outputs of a layer in a Functional model**"
      ]
    },
    {
      "cell_type": "code",
      "execution_count": 27,
      "metadata": {
        "id": "ggYKWH4fyj8S",
        "colab": {
          "base_uri": "https://localhost:8080/"
        },
        "outputId": "01fa8334-4877-42ab-b11b-ce7aca524d6f"
      },
      "outputs": [
        {
          "output_type": "execute_result",
          "data": {
            "text/plain": [
              "[<keras.engine.input_layer.InputLayer at 0x7f70a12a4a30>,\n",
              " <keras.engine.input_layer.InputLayer at 0x7f70a12a4850>,\n",
              " <keras.engine.input_layer.InputLayer at 0x7f70a1262df0>,\n",
              " <keras.layers.merging.concatenate.Concatenate at 0x7f70a1263580>,\n",
              " <keras.layers.core.dense.Dense at 0x7f70a1272580>,\n",
              " <keras.layers.core.dense.Dense at 0x7f70a1272f70>,\n",
              " <keras.layers.core.dense.Dense at 0x7f70a1272f10>,\n",
              " <keras.layers.core.dense.Dense at 0x7f70a127bb80>,\n",
              " <keras.layers.core.dense.Dense at 0x7f70a127bcd0>]"
            ]
          },
          "metadata": {},
          "execution_count": 27
        }
      ],
      "source": [
        "model.layers"
      ]
    },
    {
      "cell_type": "code",
      "execution_count": 28,
      "metadata": {
        "id": "72A_6-fUyj8S",
        "colab": {
          "base_uri": "https://localhost:8080/"
        },
        "outputId": "33422ed0-4f9a-452e-dd79-6754b5293ed1"
      },
      "outputs": [
        {
          "output_type": "execute_result",
          "data": {
            "text/plain": [
              "[<KerasTensor: shape=(None, 10000) dtype=float32 (created by layer 'title')>,\n",
              " <KerasTensor: shape=(None, 10000) dtype=float32 (created by layer 'text_body')>,\n",
              " <KerasTensor: shape=(None, 100) dtype=float32 (created by layer 'tags')>]"
            ]
          },
          "metadata": {},
          "execution_count": 28
        }
      ],
      "source": [
        "model.layers[3].input"
      ]
    },
    {
      "cell_type": "code",
      "source": [
        "model.layers[5].input"
      ],
      "metadata": {
        "colab": {
          "base_uri": "https://localhost:8080/"
        },
        "id": "N5MUxMHxC_pd",
        "outputId": "7cb69f88-389e-4e3e-da08-ef51e308e235"
      },
      "execution_count": 29,
      "outputs": [
        {
          "output_type": "execute_result",
          "data": {
            "text/plain": [
              "<KerasTensor: shape=(None, 64) dtype=float32 (created by layer 'dense_14')>"
            ]
          },
          "metadata": {},
          "execution_count": 29
        }
      ]
    },
    {
      "cell_type": "code",
      "execution_count": 30,
      "metadata": {
        "id": "kQdfOtHiyj8S",
        "colab": {
          "base_uri": "https://localhost:8080/"
        },
        "outputId": "05e5ee91-2008-4f96-ff38-7ff93920a48d"
      },
      "outputs": [
        {
          "output_type": "execute_result",
          "data": {
            "text/plain": [
              "<KerasTensor: shape=(None, 20100) dtype=float32 (created by layer 'concatenate_2')>"
            ]
          },
          "metadata": {},
          "execution_count": 30
        }
      ],
      "source": [
        "model.layers[3].output"
      ]
    },
    {
      "cell_type": "code",
      "source": [
        "model.layers[5].output"
      ],
      "metadata": {
        "colab": {
          "base_uri": "https://localhost:8080/"
        },
        "id": "EnTVEmdZDBXe",
        "outputId": "66b9cbfe-e083-4831-eec7-fffd667df70c"
      },
      "execution_count": 31,
      "outputs": [
        {
          "output_type": "execute_result",
          "data": {
            "text/plain": [
              "<KerasTensor: shape=(None, 36) dtype=float32 (created by layer 'dense_15')>"
            ]
          },
          "metadata": {},
          "execution_count": 31
        }
      ]
    },
    {
      "cell_type": "markdown",
      "metadata": {
        "id": "yviSMFdeyj8S"
      },
      "source": [
        "**Creating a new model by reusing intermediate layer outputs**"
      ]
    },
    {
      "cell_type": "code",
      "execution_count": 32,
      "metadata": {
        "id": "p8mqrLGyyj8S"
      },
      "outputs": [],
      "source": [
        "features = model.layers[4].output\n",
        "difficulty = layers.Dense(3, activation=\"softmax\", name=\"difficulty\")(features)\n",
        "\n",
        "new_model = keras.Model(\n",
        "    inputs=[title, text_body, tags],\n",
        "    outputs=[priority, department, difficulty])"
      ]
    },
    {
      "cell_type": "code",
      "source": [
        "features = model.layers[5].output\n",
        "difficulty = layers.Dense(3, activation=\"softmax\", name=\"difficulty\")(features)\n",
        "\n",
        "new_model2 = keras.Model(\n",
        "    inputs=[title, text_body, tags],\n",
        "    outputs=[priority, department, difficulty])"
      ],
      "metadata": {
        "id": "im3KfmFZ_exb"
      },
      "execution_count": 33,
      "outputs": []
    },
    {
      "cell_type": "code",
      "execution_count": 34,
      "metadata": {
        "id": "bi1ZtsFSyj8T",
        "colab": {
          "base_uri": "https://localhost:8080/",
          "height": 644
        },
        "outputId": "e7245c7d-4685-45e1-dc0d-c81b7ee87054"
      },
      "outputs": [
        {
          "output_type": "execute_result",
          "data": {
            "image/png": "[encoded data removed]",
            "text/plain": [
              "<IPython.core.display.Image object>"
            ]
          },
          "metadata": {},
          "execution_count": 34
        }
      ],
      "source": [
        "keras.utils.plot_model(new_model, \"updated_ticket_classifier.png\", show_shapes=True)"
      ]
    },
    {
      "cell_type": "code",
      "source": [
        "keras.utils.plot_model(new_model2, \"updated_ticket_classifier.png\", show_shapes=True)"
      ],
      "metadata": {
        "colab": {
          "base_uri": "https://localhost:8080/",
          "height": 644
        },
        "id": "2CF2DaiyDKSc",
        "outputId": "85229ddc-c76a-489e-ac07-d5df27a1147c"
      },
      "execution_count": 35,
      "outputs": [
        {
          "output_type": "execute_result",
          "data": {
            "image/png": "[encoded data removed]",
            "text/plain": [
              "<IPython.core.display.Image object>"
            ]
          },
          "metadata": {},
          "execution_count": 35
        }
      ]
    },
    {
      "cell_type": "markdown",
      "metadata": {
        "id": "134ZSIt1yj8T"
      },
      "source": [
        "### Subclassing the Model class"
      ]
    },
    {
      "cell_type": "markdown",
      "metadata": {
        "id": "kPcbYs7Cyj8T"
      },
      "source": [
        "#### Rewriting our previous example as a subclassed model"
      ]
    },
    {
      "cell_type": "markdown",
      "metadata": {
        "id": "vGyvGmNbyj8T"
      },
      "source": [
        "**A simple subclassed model**"
      ]
    },
    {
      "cell_type": "code",
      "execution_count": 36,
      "metadata": {
        "id": "aD1PNCOvyj8T"
      },
      "outputs": [],
      "source": [
        "class CustomerTicketModel(keras.Model):\n",
        "\n",
        "    def __init__(self, num_departments):\n",
        "        super().__init__()\n",
        "        self.concat_layer = layers.Concatenate()\n",
        "        self.mixing_layer = layers.Dense(64, activation=\"relu\")\n",
        "        self.priority_scorer = layers.Dense(1, activation=\"sigmoid\")\n",
        "        self.department_classifier = layers.Dense(\n",
        "            num_departments, activation=\"softmax\")\n",
        "\n",
        "    def call(self, inputs):\n",
        "        title = inputs[\"title\"]\n",
        "        text_body = inputs[\"text_body\"]\n",
        "        tags = inputs[\"tags\"]\n",
        "\n",
        "        features = self.concat_layer([title, text_body, tags])\n",
        "        features = self.mixing_layer(features)\n",
        "        priority = self.priority_scorer(features)\n",
        "        department = self.department_classifier(features)\n",
        "        return priority, department"
      ]
    },
    {
      "cell_type": "code",
      "execution_count": 37,
      "metadata": {
        "id": "NfJrW_G3yj8T"
      },
      "outputs": [],
      "source": [
        "model = CustomerTicketModel(num_departments=4)\n",
        "\n",
        "priority, department = model(\n",
        "    {\"title\": title_data, \"text_body\": text_body_data, \"tags\": tags_data})"
      ]
    },
    {
      "cell_type": "code",
      "execution_count": 38,
      "metadata": {
        "id": "g1XEAWXNyj8T",
        "colab": {
          "base_uri": "https://localhost:8080/"
        },
        "outputId": "c9400ee5-50e6-4cf2-b1ab-3786e139fe49"
      },
      "outputs": [
        {
          "output_type": "stream",
          "name": "stdout",
          "text": [
            "40/40 [==============================] - 2s 6ms/step - loss: 35.8994 - output_1_loss: 0.3324 - output_2_loss: 35.5670 - output_1_mean_absolute_error: 0.5022 - output_2_accuracy: 0.2820\n",
            "40/40 [==============================] - 0s 4ms/step - loss: 43.4309 - output_1_loss: 0.3413 - output_2_loss: 43.0897 - output_1_mean_absolute_error: 0.5118 - output_2_accuracy: 0.0609\n",
            "40/40 [==============================] - 0s 4ms/step\n"
          ]
        }
      ],
      "source": [
        "model.compile(optimizer=\"rmsprop\",\n",
        "              loss=[\"mean_squared_error\", \"categorical_crossentropy\"],\n",
        "              metrics=[[\"mean_absolute_error\"], [\"accuracy\"]])\n",
        "model.fit({\"title\": title_data,\n",
        "           \"text_body\": text_body_data,\n",
        "           \"tags\": tags_data},\n",
        "          [priority_data, department_data],\n",
        "          epochs=1)\n",
        "model.evaluate({\"title\": title_data,\n",
        "                \"text_body\": text_body_data,\n",
        "                \"tags\": tags_data},\n",
        "               [priority_data, department_data])\n",
        "priority_preds, department_preds = model.predict({\"title\": title_data,\n",
        "                                                  \"text_body\": text_body_data,\n",
        "                                                  \"tags\": tags_data})"
      ]
    },
    {
      "cell_type": "markdown",
      "metadata": {
        "id": "gjz_NwwAyj8T"
      },
      "source": [
        "#### Beware: What subclassed models don't support"
      ]
    },
    {
      "cell_type": "markdown",
      "metadata": {
        "id": "MK2YieAjyj8T"
      },
      "source": [
        "### Mixing and matching different components"
      ]
    },
    {
      "cell_type": "markdown",
      "metadata": {
        "id": "31OmKe_Myj8T"
      },
      "source": [
        "**Creating a Functional model that includes a subclassed model**"
      ]
    },
    {
      "cell_type": "code",
      "execution_count": 39,
      "metadata": {
        "id": "8i62HHYfyj8T"
      },
      "outputs": [],
      "source": [
        "class Classifier(keras.Model):\n",
        "\n",
        "    def __init__(self, num_classes=2):\n",
        "        super().__init__()\n",
        "        if num_classes == 2:\n",
        "            num_units = 1\n",
        "            activation = \"sigmoid\"\n",
        "        else:\n",
        "            num_units = num_classes\n",
        "            activation = \"softmax\"\n",
        "        self.dense = layers.Dense(num_units, activation=activation)\n",
        "\n",
        "    def call(self, inputs):\n",
        "        return self.dense(inputs)\n",
        "\n",
        "inputs = keras.Input(shape=(3,))\n",
        "features = layers.Dense(64, activation=\"relu\")(inputs)\n",
        "outputs = Classifier(num_classes=10)(features)\n",
        "model = keras.Model(inputs=inputs, outputs=outputs)"
      ]
    },
    {
      "cell_type": "markdown",
      "metadata": {
        "id": "B4sFmc-byj8U"
      },
      "source": [
        "**Creating a subclassed model that includes a Functional model**"
      ]
    },
    {
      "cell_type": "code",
      "execution_count": 40,
      "metadata": {
        "id": "XHER6sz2yj8U"
      },
      "outputs": [],
      "source": [
        "inputs = keras.Input(shape=(64,))\n",
        "outputs = layers.Dense(1, activation=\"sigmoid\")(inputs)\n",
        "binary_classifier = keras.Model(inputs=inputs, outputs=outputs)\n",
        "\n",
        "class MyModel(keras.Model):\n",
        "\n",
        "    def __init__(self, num_classes=2):\n",
        "        super().__init__()\n",
        "        self.dense = layers.Dense(64, activation=\"relu\")\n",
        "        self.classifier = binary_classifier\n",
        "\n",
        "    def call(self, inputs):\n",
        "        features = self.dense(inputs)\n",
        "        return self.classifier(features)\n",
        "\n",
        "model = MyModel()"
      ]
    },
    {
      "cell_type": "markdown",
      "metadata": {
        "id": "FbNkfWtuyj8U"
      },
      "source": [
        "### Remember: Use the right tool for the job"
      ]
    },
    {
      "cell_type": "markdown",
      "metadata": {
        "id": "SJoVxKFDyj8U"
      },
      "source": [
        "## Using built-in training and evaluation loops"
      ]
    },
    {
      "cell_type": "markdown",
      "metadata": {
        "id": "WCee_LkWyj8U"
      },
      "source": [
        "**The standard workflow: `compile()`, `fit()`, `evaluate()`, `predict()`**"
      ]
    },
    {
      "cell_type": "code",
      "execution_count": 41,
      "metadata": {
        "id": "ezqDj7_tyj8U",
        "colab": {
          "base_uri": "https://localhost:8080/"
        },
        "outputId": "a0378af8-15c3-4837-a65b-878904aab561"
      },
      "outputs": [
        {
          "output_type": "stream",
          "name": "stdout",
          "text": [
            "Downloading data from https://storage.googleapis.com/tensorflow/tf-keras-datasets/mnist.npz\n",
            "11490434/11490434 [==============================] - 0s 0us/step\n",
            "Epoch 1/3\n",
            "1563/1563 [==============================] - 7s 4ms/step - loss: 0.2958 - accuracy: 0.9105 - val_loss: 0.1524 - val_accuracy: 0.9561\n",
            "Epoch 2/3\n",
            "1563/1563 [==============================] - 5s 3ms/step - loss: 0.1585 - accuracy: 0.9543 - val_loss: 0.1130 - val_accuracy: 0.9683\n",
            "Epoch 3/3\n",
            "1563/1563 [==============================] - 6s 4ms/step - loss: 0.1304 - accuracy: 0.9624 - val_loss: 0.1040 - val_accuracy: 0.9722\n",
            "313/313 [==============================] - 1s 2ms/step - loss: 0.0941 - accuracy: 0.9743\n",
            "313/313 [==============================] - 1s 2ms/step\n"
          ]
        }
      ],
      "source": [
        "from tensorflow.keras.datasets import mnist\n",
        "\n",
        "def get_mnist_model():\n",
        "    inputs = keras.Input(shape=(28 * 28,))\n",
        "    features = layers.Dense(512, activation=\"relu\")(inputs)\n",
        "    features = layers.Dropout(0.5)(features)\n",
        "    outputs = layers.Dense(10, activation=\"softmax\")(features)\n",
        "    model = keras.Model(inputs, outputs)\n",
        "    return model\n",
        "\n",
        "(images, labels), (test_images, test_labels) = mnist.load_data()\n",
        "images = images.reshape((60000, 28 * 28)).astype(\"float32\") / 255\n",
        "test_images = test_images.reshape((10000, 28 * 28)).astype(\"float32\") / 255\n",
        "train_images, val_images = images[10000:], images[:10000]\n",
        "train_labels, val_labels = labels[10000:], labels[:10000]\n",
        "\n",
        "model = get_mnist_model()\n",
        "model.compile(optimizer=\"rmsprop\",\n",
        "              loss=\"sparse_categorical_crossentropy\",\n",
        "              metrics=[\"accuracy\"])\n",
        "model.fit(train_images, train_labels,\n",
        "          epochs=3,\n",
        "          validation_data=(val_images, val_labels))\n",
        "test_metrics = model.evaluate(test_images, test_labels)\n",
        "predictions = model.predict(test_images)"
      ]
    },
    {
      "cell_type": "markdown",
      "metadata": {
        "id": "SPCEQo_byj8U"
      },
      "source": [
        "### Writing your own metrics"
      ]
    },
    {
      "cell_type": "markdown",
      "metadata": {
        "id": "H4_Cd3HEyj8U"
      },
      "source": [
        "**Implementing a custom metric by subclassing the `Metric` class**"
      ]
    },
    {
      "cell_type": "code",
      "execution_count": 42,
      "metadata": {
        "id": "A1cT_dEJyj8U"
      },
      "outputs": [],
      "source": [
        "import tensorflow as tf\n",
        "\n",
        "class RootMeanSquaredError(keras.metrics.Metric):\n",
        "\n",
        "    def __init__(self, name=\"rmse\", **kwargs):\n",
        "        super().__init__(name=name, **kwargs)\n",
        "        self.mse_sum = self.add_weight(name=\"mse_sum\", initializer=\"zeros\")\n",
        "        self.total_samples = self.add_weight(\n",
        "            name=\"total_samples\", initializer=\"zeros\", dtype=\"int32\")\n",
        "\n",
        "    def update_state(self, y_true, y_pred, sample_weight=None):\n",
        "        y_true = tf.one_hot(y_true, depth=tf.shape(y_pred)[1])\n",
        "        mse = tf.reduce_sum(tf.square(y_true - y_pred))\n",
        "        self.mse_sum.assign_add(mse)\n",
        "        num_samples = tf.shape(y_pred)[0]\n",
        "        self.total_samples.assign_add(num_samples)\n",
        "\n",
        "    def result(self):\n",
        "        return tf.sqrt(self.mse_sum / tf.cast(self.total_samples, tf.float32))\n",
        "\n",
        "    def reset_state(self):\n",
        "        self.mse_sum.assign(0.)\n",
        "        self.total_samples.assign(0)"
      ]
    },
    {
      "cell_type": "code",
      "execution_count": 43,
      "metadata": {
        "id": "K8VV7CEwyj8U",
        "colab": {
          "base_uri": "https://localhost:8080/"
        },
        "outputId": "028493fa-d452-4e90-cba1-89eaa4647a24"
      },
      "outputs": [
        {
          "output_type": "stream",
          "name": "stdout",
          "text": [
            "Epoch 1/3\n",
            "1563/1563 [==============================] - 7s 4ms/step - loss: 0.2961 - accuracy: 0.9120 - rmse: 7.1742 - val_loss: 0.1468 - val_accuracy: 0.9547 - val_rmse: 7.3566\n",
            "Epoch 2/3\n",
            "1563/1563 [==============================] - 6s 4ms/step - loss: 0.1588 - accuracy: 0.9542 - rmse: 7.3472 - val_loss: 0.1182 - val_accuracy: 0.9678 - val_rmse: 7.4056\n",
            "Epoch 3/3\n",
            "1563/1563 [==============================] - 6s 4ms/step - loss: 0.1307 - accuracy: 0.9636 - rmse: 7.3840 - val_loss: 0.1116 - val_accuracy: 0.9695 - val_rmse: 7.4164\n",
            "313/313 [==============================] - 1s 3ms/step - loss: 0.0989 - accuracy: 0.9724 - rmse: 7.4293\n"
          ]
        }
      ],
      "source": [
        "model = get_mnist_model()\n",
        "model.compile(optimizer=\"rmsprop\",\n",
        "              loss=\"sparse_categorical_crossentropy\",\n",
        "              metrics=[\"accuracy\", RootMeanSquaredError()])\n",
        "model.fit(train_images, train_labels,\n",
        "          epochs=3,\n",
        "          validation_data=(val_images, val_labels))\n",
        "test_metrics = model.evaluate(test_images, test_labels)"
      ]
    },
    {
      "cell_type": "markdown",
      "metadata": {
        "id": "uP9bP6jwyj8U"
      },
      "source": [
        "### Using callbacks"
      ]
    },
    {
      "cell_type": "markdown",
      "metadata": {
        "id": "0w6wOEDayj8U"
      },
      "source": [
        "#### The EarlyStopping and ModelCheckpoint callbacks"
      ]
    },
    {
      "cell_type": "markdown",
      "metadata": {
        "id": "LCbnWM0Byj8U"
      },
      "source": [
        "**Using the `callbacks` argument in the `fit()` method**"
      ]
    },
    {
      "cell_type": "code",
      "source": [
        "keras.callbacks.EarlyStopping?"
      ],
      "metadata": {
        "id": "xWvSMwy_D5mq"
      },
      "execution_count": null,
      "outputs": []
    },
    {
      "cell_type": "code",
      "source": [
        "keras.callbacks.ModelCheckpoint?"
      ],
      "metadata": {
        "id": "g9Y_pjNRDyua"
      },
      "execution_count": null,
      "outputs": []
    },
    {
      "cell_type": "code",
      "execution_count": 44,
      "metadata": {
        "id": "STT4M2siyj8U",
        "colab": {
          "base_uri": "https://localhost:8080/"
        },
        "outputId": "fed74657-5f4b-4b77-acc6-6855aac1e4a9"
      },
      "outputs": [
        {
          "output_type": "stream",
          "name": "stdout",
          "text": [
            "Epoch 1/10\n",
            "1563/1563 [==============================] - 7s 4ms/step - loss: 0.2934 - accuracy: 0.9130 - val_loss: 0.1435 - val_accuracy: 0.9591\n",
            "Epoch 2/10\n",
            "1563/1563 [==============================] - 9s 6ms/step - loss: 0.1600 - accuracy: 0.9539 - val_loss: 0.1106 - val_accuracy: 0.9693\n",
            "Epoch 3/10\n",
            "1563/1563 [==============================] - 9s 6ms/step - loss: 0.1267 - accuracy: 0.9629 - val_loss: 0.1068 - val_accuracy: 0.9727\n",
            "Epoch 4/10\n",
            "1563/1563 [==============================] - 9s 6ms/step - loss: 0.1093 - accuracy: 0.9677 - val_loss: 0.1024 - val_accuracy: 0.9736\n",
            "Epoch 5/10\n",
            "1563/1563 [==============================] - 8s 5ms/step - loss: 0.1007 - accuracy: 0.9725 - val_loss: 0.0958 - val_accuracy: 0.9765\n",
            "Epoch 6/10\n",
            "1563/1563 [==============================] - 7s 5ms/step - loss: 0.0948 - accuracy: 0.9742 - val_loss: 0.0989 - val_accuracy: 0.9764\n",
            "Epoch 7/10\n",
            "1563/1563 [==============================] - 6s 4ms/step - loss: 0.0847 - accuracy: 0.9759 - val_loss: 0.0920 - val_accuracy: 0.9774\n",
            "Epoch 8/10\n",
            "1563/1563 [==============================] - 5s 3ms/step - loss: 0.0813 - accuracy: 0.9781 - val_loss: 0.0867 - val_accuracy: 0.9799\n",
            "Epoch 9/10\n",
            "1563/1563 [==============================] - 6s 4ms/step - loss: 0.0747 - accuracy: 0.9795 - val_loss: 0.0887 - val_accuracy: 0.9806\n",
            "Epoch 10/10\n",
            "1563/1563 [==============================] - 5s 3ms/step - loss: 0.0738 - accuracy: 0.9800 - val_loss: 0.0893 - val_accuracy: 0.9807\n"
          ]
        },
        {
          "output_type": "execute_result",
          "data": {
            "text/plain": [
              "<keras.callbacks.History at 0x7f70a0e8a070>"
            ]
          },
          "metadata": {},
          "execution_count": 44
        }
      ],
      "source": [
        "callbacks_list = [\n",
        "    keras.callbacks.EarlyStopping(\n",
        "        monitor=\"val_accuracy\",\n",
        "        patience=2,\n",
        "    ),\n",
        "    keras.callbacks.ModelCheckpoint(\n",
        "        filepath=\"checkpoint_path.keras\",\n",
        "        monitor=\"val_loss\",\n",
        "        save_best_only=True,\n",
        "    )\n",
        "]\n",
        "model = get_mnist_model()\n",
        "model.compile(optimizer=\"rmsprop\",\n",
        "              loss=\"sparse_categorical_crossentropy\",\n",
        "              metrics=[\"accuracy\"])\n",
        "model.fit(train_images, train_labels,\n",
        "          epochs=10,\n",
        "          callbacks=callbacks_list,\n",
        "          validation_data=(val_images, val_labels))"
      ]
    },
    {
      "cell_type": "code",
      "source": [
        "callbacks_list = [\n",
        "    keras.callbacks.EarlyStopping(\n",
        "        monitor=\"val_accuracy\",\n",
        "        patience=2,\n",
        "    ),\n",
        "    keras.callbacks.ModelCheckpoint(\n",
        "        filepath=\"checkpoint_path-(epoch).keras\",\n",
        "        monitor=\"val_loss\",\n",
        "    )\n",
        "]\n",
        "model = get_mnist_model()\n",
        "model.compile(optimizer=\"rmsprop\",\n",
        "              loss=\"sparse_categorical_crossentropy\",\n",
        "              metrics=[\"accuracy\"])\n",
        "model.fit(train_images, train_labels,\n",
        "          epochs=10,\n",
        "          callbacks=callbacks_list,\n",
        "          validation_data=(val_images, val_labels))"
      ],
      "metadata": {
        "id": "X7MY9EfjEC8S"
      },
      "execution_count": null,
      "outputs": []
    },
    {
      "cell_type": "code",
      "execution_count": 45,
      "metadata": {
        "id": "uhUAlEXPyj8V"
      },
      "outputs": [],
      "source": [
        "model = keras.models.load_model(\"checkpoint_path.keras\")"
      ]
    },
    {
      "cell_type": "markdown",
      "metadata": {
        "id": "PROjWS-5yj8V"
      },
      "source": [
        "### Writing your own callbacks"
      ]
    },
    {
      "cell_type": "markdown",
      "metadata": {
        "id": "2pStADUXyj8V"
      },
      "source": [
        "**Creating a custom callback by subclassing the `Callback` class**"
      ]
    },
    {
      "cell_type": "code",
      "execution_count": 46,
      "metadata": {
        "id": "LFq_nlkIyj8V"
      },
      "outputs": [],
      "source": [
        "from matplotlib import pyplot as plt\n",
        "\n",
        "class LossHistory(keras.callbacks.Callback):\n",
        "    def on_train_begin(self, logs):\n",
        "        self.per_batch_losses = []\n",
        "\n",
        "    def on_batch_end(self, batch, logs):\n",
        "        self.per_batch_losses.append(logs.get(\"loss\"))\n",
        "\n",
        "    def on_epoch_end(self, epoch, logs):\n",
        "        plt.clf()\n",
        "        plt.plot(range(len(self.per_batch_losses)), self.per_batch_losses,\n",
        "                 label=\"Training loss for each batch\")\n",
        "        plt.xlabel(f\"Batch (epoch {epoch})\")\n",
        "        plt.ylabel(\"Loss\")\n",
        "        plt.legend()\n",
        "        plt.savefig(f\"plot_at_epoch_{epoch}\")\n",
        "        self.per_batch_losses = []"
      ]
    },
    {
      "cell_type": "code",
      "source": [
        "from matplotlib import pyplot as plt\n",
        "\n",
        "class LossHistory(keras.callbacks.Callback):\n",
        "    def on_train_end(self, logs):\n",
        "        self.per_batch_losses = []\n",
        "\n",
        "    def on_batch_begin(self, batch, logs):\n",
        "        self.per_batch_losses.append(logs.get(\"loss\"))\n",
        "\n",
        "    def on_epoch_begin(self, epoch, logs):\n",
        "        plt.clf()\n",
        "        plt.plot(range(len(self.per_batch_losses)), self.per_batch_losses,\n",
        "                 label=\"Training loss for each batch\")\n",
        "        plt.xlabel(f\"Batch (epoch {epoch})\")\n",
        "        plt.ylabel(\"Loss\")\n",
        "        plt.legend()\n",
        "        plt.savefig(f\"plot_at_epoch_{epoch}\")\n",
        "        self.per_batch_losses = []"
      ],
      "metadata": {
        "id": "r1gwWQF5_FhP"
      },
      "execution_count": 47,
      "outputs": []
    },
    {
      "cell_type": "code",
      "execution_count": 48,
      "metadata": {
        "id": "F5bdusiPyj8V",
        "colab": {
          "base_uri": "https://localhost:8080/",
          "height": 414
        },
        "outputId": "6a027a92-92e1-4b4e-bbdb-b40a4ba0968d"
      },
      "outputs": [
        {
          "output_type": "error",
          "ename": "AttributeError",
          "evalue": "ignored",
          "traceback": [
            "\u001b[0;31m---------------------------------------------------------------------------\u001b[0m",
            "\u001b[0;31mAttributeError\u001b[0m                            Traceback (most recent call last)",
            "\u001b[0;32m<ipython-input-48-4a970678ad7f>\u001b[0m in \u001b[0;36m<cell line: 5>\u001b[0;34m()\u001b[0m\n\u001b[1;32m      3\u001b[0m               \u001b[0mloss\u001b[0m\u001b[0;34m=\u001b[0m\u001b[0;34m\"sparse_categorical_crossentropy\"\u001b[0m\u001b[0;34m,\u001b[0m\u001b[0;34m\u001b[0m\u001b[0;34m\u001b[0m\u001b[0m\n\u001b[1;32m      4\u001b[0m               metrics=[\"accuracy\"])\n\u001b[0;32m----> 5\u001b[0;31m model.fit(train_images, train_labels,\n\u001b[0m\u001b[1;32m      6\u001b[0m           \u001b[0mepochs\u001b[0m\u001b[0;34m=\u001b[0m\u001b[0;36m10\u001b[0m\u001b[0;34m,\u001b[0m\u001b[0;34m\u001b[0m\u001b[0;34m\u001b[0m\u001b[0m\n\u001b[1;32m      7\u001b[0m           \u001b[0mcallbacks\u001b[0m\u001b[0;34m=\u001b[0m\u001b[0;34m[\u001b[0m\u001b[0mLossHistory\u001b[0m\u001b[0;34m(\u001b[0m\u001b[0;34m)\u001b[0m\u001b[0;34m]\u001b[0m\u001b[0;34m,\u001b[0m\u001b[0;34m\u001b[0m\u001b[0;34m\u001b[0m\u001b[0m\n",
            "\u001b[0;32m/usr/local/lib/python3.9/dist-packages/keras/utils/traceback_utils.py\u001b[0m in \u001b[0;36merror_handler\u001b[0;34m(*args, **kwargs)\u001b[0m\n\u001b[1;32m     68\u001b[0m             \u001b[0;31m# To get the full stack trace, call:\u001b[0m\u001b[0;34m\u001b[0m\u001b[0;34m\u001b[0m\u001b[0m\n\u001b[1;32m     69\u001b[0m             \u001b[0;31m# `tf.debugging.disable_traceback_filtering()`\u001b[0m\u001b[0;34m\u001b[0m\u001b[0;34m\u001b[0m\u001b[0m\n\u001b[0;32m---> 70\u001b[0;31m             \u001b[0;32mraise\u001b[0m \u001b[0me\u001b[0m\u001b[0;34m.\u001b[0m\u001b[0mwith_traceback\u001b[0m\u001b[0;34m(\u001b[0m\u001b[0mfiltered_tb\u001b[0m\u001b[0;34m)\u001b[0m \u001b[0;32mfrom\u001b[0m \u001b[0;32mNone\u001b[0m\u001b[0;34m\u001b[0m\u001b[0;34m\u001b[0m\u001b[0m\n\u001b[0m\u001b[1;32m     71\u001b[0m         \u001b[0;32mfinally\u001b[0m\u001b[0;34m:\u001b[0m\u001b[0;34m\u001b[0m\u001b[0;34m\u001b[0m\u001b[0m\n\u001b[1;32m     72\u001b[0m             \u001b[0;32mdel\u001b[0m \u001b[0mfiltered_tb\u001b[0m\u001b[0;34m\u001b[0m\u001b[0;34m\u001b[0m\u001b[0m\n",
            "\u001b[0;32m<ipython-input-47-af0e0795076c>\u001b[0m in \u001b[0;36mon_epoch_begin\u001b[0;34m(self, epoch, logs)\u001b[0m\n\u001b[1;32m     10\u001b[0m     \u001b[0;32mdef\u001b[0m \u001b[0mon_epoch_begin\u001b[0m\u001b[0;34m(\u001b[0m\u001b[0mself\u001b[0m\u001b[0;34m,\u001b[0m \u001b[0mepoch\u001b[0m\u001b[0;34m,\u001b[0m \u001b[0mlogs\u001b[0m\u001b[0;34m)\u001b[0m\u001b[0;34m:\u001b[0m\u001b[0;34m\u001b[0m\u001b[0;34m\u001b[0m\u001b[0m\n\u001b[1;32m     11\u001b[0m         \u001b[0mplt\u001b[0m\u001b[0;34m.\u001b[0m\u001b[0mclf\u001b[0m\u001b[0;34m(\u001b[0m\u001b[0;34m)\u001b[0m\u001b[0;34m\u001b[0m\u001b[0;34m\u001b[0m\u001b[0m\n\u001b[0;32m---> 12\u001b[0;31m         plt.plot(range(len(self.per_batch_losses)), self.per_batch_losses,\n\u001b[0m\u001b[1;32m     13\u001b[0m                  label=\"Training loss for each batch\")\n\u001b[1;32m     14\u001b[0m         \u001b[0mplt\u001b[0m\u001b[0;34m.\u001b[0m\u001b[0mxlabel\u001b[0m\u001b[0;34m(\u001b[0m\u001b[0;34mf\"Batch (epoch {epoch})\"\u001b[0m\u001b[0;34m)\u001b[0m\u001b[0;34m\u001b[0m\u001b[0;34m\u001b[0m\u001b[0m\n",
            "\u001b[0;31mAttributeError\u001b[0m: 'LossHistory' object has no attribute 'per_batch_losses'"
          ]
        },
        {
          "output_type": "display_data",
          "data": {
            "text/plain": [
              "<Figure size 640x480 with 0 Axes>"
            ]
          },
          "metadata": {}
        }
      ],
      "source": [
        "model = get_mnist_model()\n",
        "model.compile(optimizer=\"rmsprop\",\n",
        "              loss=\"sparse_categorical_crossentropy\",\n",
        "              metrics=[\"accuracy\"])\n",
        "model.fit(train_images, train_labels,\n",
        "          epochs=10,\n",
        "          callbacks=[LossHistory()],\n",
        "          validation_data=(val_images, val_labels))"
      ]
    },
    {
      "cell_type": "markdown",
      "metadata": {
        "id": "3HD_GM5hyj8V"
      },
      "source": [
        "### Monitoring and visualization with TensorBoard"
      ]
    },
    {
      "cell_type": "code",
      "execution_count": null,
      "metadata": {
        "id": "_wBIHWPYyj8V"
      },
      "outputs": [],
      "source": [
        "model = get_mnist_model()\n",
        "model.compile(optimizer=\"rmsprop\",\n",
        "              loss=\"sparse_categorical_crossentropy\",\n",
        "              metrics=[\"accuracy\"])\n",
        "\n",
        "tensorboard = keras.callbacks.TensorBoard(\n",
        "    log_dir=\"/full_path_to_your_log_dir\",\n",
        ")\n",
        "model.fit(train_images, train_labels,\n",
        "          epochs=10,\n",
        "          validation_data=(val_images, val_labels),\n",
        "          callbacks=[tensorboard])"
      ]
    },
    {
      "cell_type": "code",
      "execution_count": null,
      "metadata": {
        "id": "Kmp9FTfByj8V"
      },
      "outputs": [],
      "source": [
        "%load_ext tensorboard\n",
        "%tensorboard --logdir /full_path_to_your_log_dir"
      ]
    },
    {
      "cell_type": "markdown",
      "metadata": {
        "id": "tIE2tgSvyj8V"
      },
      "source": [
        "## Writing your own training and evaluation loops"
      ]
    },
    {
      "cell_type": "markdown",
      "metadata": {
        "id": "cVMnYuBQyj8V"
      },
      "source": [
        "### Training versus inference"
      ]
    },
    {
      "cell_type": "markdown",
      "metadata": {
        "id": "T7avGLf6yj8V"
      },
      "source": [
        "### Low-level usage of metrics"
      ]
    },
    {
      "cell_type": "code",
      "execution_count": null,
      "metadata": {
        "id": "jUrkr5jwyj8V"
      },
      "outputs": [],
      "source": [
        "metric = keras.metrics.SparseCategoricalAccuracy()\n",
        "targets = [0, 1, 2]\n",
        "predictions = [[1, 0, 0], [0, 1, 0], [0, 0, 1]]\n",
        "metric.update_state(targets, predictions)\n",
        "current_result = metric.result()\n",
        "print(f\"result: {current_result:.2f}\")"
      ]
    },
    {
      "cell_type": "code",
      "execution_count": null,
      "metadata": {
        "id": "Iz39rpyVyj8V"
      },
      "outputs": [],
      "source": [
        "values = [0, 1, 2, 3, 4]\n",
        "mean_tracker = keras.metrics.Mean()\n",
        "for value in values:\n",
        "    mean_tracker.update_state(value)\n",
        "print(f\"Mean of values: {mean_tracker.result():.2f}\")"
      ]
    },
    {
      "cell_type": "markdown",
      "metadata": {
        "id": "xgh9AR5Pyj8V"
      },
      "source": [
        "### A complete training and evaluation loop"
      ]
    },
    {
      "cell_type": "markdown",
      "metadata": {
        "id": "4rsPHwQnyj8W"
      },
      "source": [
        "**Writing a step-by-step training loop: the training step function**"
      ]
    },
    {
      "cell_type": "code",
      "execution_count": null,
      "metadata": {
        "id": "twumspYyyj8W"
      },
      "outputs": [],
      "source": [
        "model = get_mnist_model()\n",
        "\n",
        "loss_fn = keras.losses.SparseCategoricalCrossentropy()\n",
        "optimizer = keras.optimizers.RMSprop()\n",
        "metrics = [keras.metrics.SparseCategoricalAccuracy()]\n",
        "loss_tracking_metric = keras.metrics.Mean()\n",
        "\n",
        "def train_step(inputs, targets):\n",
        "    with tf.GradientTape() as tape:\n",
        "        predictions = model(inputs, training=True)\n",
        "        loss = loss_fn(targets, predictions)\n",
        "    gradients = tape.gradient(loss, model.trainable_weights)\n",
        "    optimizer.apply_gradients(zip(gradients, model.trainable_weights))\n",
        "\n",
        "    logs = {}\n",
        "    for metric in metrics:\n",
        "        metric.update_state(targets, predictions)\n",
        "        logs[metric.name] = metric.result()\n",
        "\n",
        "    loss_tracking_metric.update_state(loss)\n",
        "    logs[\"loss\"] = loss_tracking_metric.result()\n",
        "    return logs"
      ]
    },
    {
      "cell_type": "markdown",
      "metadata": {
        "id": "j-BfSyA9yj8W"
      },
      "source": [
        "**Writing a step-by-step training loop: resetting the metrics**"
      ]
    },
    {
      "cell_type": "code",
      "execution_count": null,
      "metadata": {
        "id": "Z49Un_Bbyj8W"
      },
      "outputs": [],
      "source": [
        "def reset_metrics():\n",
        "    for metric in metrics:\n",
        "        metric.reset_state()\n",
        "    loss_tracking_metric.reset_state()"
      ]
    },
    {
      "cell_type": "markdown",
      "metadata": {
        "id": "LsAUWheGyj8W"
      },
      "source": [
        "**Writing a step-by-step training loop: the loop itself**"
      ]
    },
    {
      "cell_type": "code",
      "execution_count": null,
      "metadata": {
        "id": "ylnpyJLEyj8W"
      },
      "outputs": [],
      "source": [
        "training_dataset = tf.data.Dataset.from_tensor_slices((train_images, train_labels))\n",
        "training_dataset = training_dataset.batch(32)\n",
        "epochs = 3\n",
        "for epoch in range(epochs):\n",
        "    reset_metrics()\n",
        "    for inputs_batch, targets_batch in training_dataset:\n",
        "        logs = train_step(inputs_batch, targets_batch)\n",
        "    print(f\"Results at the end of epoch {epoch}\")\n",
        "    for key, value in logs.items():\n",
        "        print(f\"...{key}: {value:.4f}\")"
      ]
    },
    {
      "cell_type": "markdown",
      "metadata": {
        "id": "resn3lT4yj8W"
      },
      "source": [
        "**Writing a step-by-step evaluation loop**"
      ]
    },
    {
      "cell_type": "code",
      "execution_count": null,
      "metadata": {
        "id": "tNQqIuqMyj8W"
      },
      "outputs": [],
      "source": [
        "def test_step(inputs, targets):\n",
        "    predictions = model(inputs, training=False)\n",
        "    loss = loss_fn(targets, predictions)\n",
        "\n",
        "    logs = {}\n",
        "    for metric in metrics:\n",
        "        metric.update_state(targets, predictions)\n",
        "        logs[\"val_\" + metric.name] = metric.result()\n",
        "\n",
        "    loss_tracking_metric.update_state(loss)\n",
        "    logs[\"val_loss\"] = loss_tracking_metric.result()\n",
        "    return logs\n",
        "\n",
        "val_dataset = tf.data.Dataset.from_tensor_slices((val_images, val_labels))\n",
        "val_dataset = val_dataset.batch(32)\n",
        "reset_metrics()\n",
        "for inputs_batch, targets_batch in val_dataset:\n",
        "    logs = test_step(inputs_batch, targets_batch)\n",
        "print(\"Evaluation results:\")\n",
        "for key, value in logs.items():\n",
        "    print(f\"...{key}: {value:.4f}\")"
      ]
    },
    {
      "cell_type": "markdown",
      "metadata": {
        "id": "h-Rayz89yj8W"
      },
      "source": [
        "### Make it fast with tf.function"
      ]
    },
    {
      "cell_type": "markdown",
      "metadata": {
        "id": "KTxv8OGoyj8W"
      },
      "source": [
        "**Adding a `tf.function` decorator to our evaluation-step function**"
      ]
    },
    {
      "cell_type": "code",
      "execution_count": null,
      "metadata": {
        "id": "CKuEXGQdyj8W"
      },
      "outputs": [],
      "source": [
        "@tf.function\n",
        "def test_step(inputs, targets):\n",
        "    predictions = model(inputs, training=False)\n",
        "    loss = loss_fn(targets, predictions)\n",
        "\n",
        "    logs = {}\n",
        "    for metric in metrics:\n",
        "        metric.update_state(targets, predictions)\n",
        "        logs[\"val_\" + metric.name] = metric.result()\n",
        "\n",
        "    loss_tracking_metric.update_state(loss)\n",
        "    logs[\"val_loss\"] = loss_tracking_metric.result()\n",
        "    return logs\n",
        "\n",
        "val_dataset = tf.data.Dataset.from_tensor_slices((val_images, val_labels))\n",
        "val_dataset = val_dataset.batch(32)\n",
        "reset_metrics()\n",
        "for inputs_batch, targets_batch in val_dataset:\n",
        "    logs = test_step(inputs_batch, targets_batch)\n",
        "print(\"Evaluation results:\")\n",
        "for key, value in logs.items():\n",
        "    print(f\"...{key}: {value:.4f}\")"
      ]
    },
    {
      "cell_type": "markdown",
      "metadata": {
        "id": "4dRG1Qt-yj8W"
      },
      "source": [
        "### Leveraging fit() with a custom training loop"
      ]
    },
    {
      "cell_type": "markdown",
      "metadata": {
        "id": "yrRDihQAyj8W"
      },
      "source": [
        "**Implementing a custom training step to use with `fit()`**"
      ]
    },
    {
      "cell_type": "code",
      "execution_count": null,
      "metadata": {
        "id": "G5wjzk3Eyj8W"
      },
      "outputs": [],
      "source": [
        "loss_fn = keras.losses.SparseCategoricalCrossentropy()\n",
        "loss_tracker = keras.metrics.Mean(name=\"loss\")\n",
        "\n",
        "class CustomModel(keras.Model):\n",
        "    def train_step(self, data):\n",
        "        inputs, targets = data\n",
        "        with tf.GradientTape() as tape:\n",
        "            predictions = self(inputs, training=True)\n",
        "            loss = loss_fn(targets, predictions)\n",
        "        gradients = tape.gradient(loss, self.trainable_weights)\n",
        "        self.optimizer.apply_gradients(zip(gradients, self.trainable_weights))\n",
        "\n",
        "        loss_tracker.update_state(loss)\n",
        "        return {\"loss\": loss_tracker.result()}\n",
        "\n",
        "    @property\n",
        "    def metrics(self):\n",
        "        return [loss_tracker]"
      ]
    },
    {
      "cell_type": "code",
      "execution_count": null,
      "metadata": {
        "id": "0xQWoB0Myj8W"
      },
      "outputs": [],
      "source": [
        "inputs = keras.Input(shape=(28 * 28,))\n",
        "features = layers.Dense(512, activation=\"relu\")(inputs)\n",
        "features = layers.Dropout(0.5)(features)\n",
        "outputs = layers.Dense(10, activation=\"softmax\")(features)\n",
        "model = CustomModel(inputs, outputs)\n",
        "\n",
        "model.compile(optimizer=keras.optimizers.RMSprop())\n",
        "model.fit(train_images, train_labels, epochs=3)"
      ]
    },
    {
      "cell_type": "code",
      "execution_count": null,
      "metadata": {
        "id": "-uqaX8OFyj8W"
      },
      "outputs": [],
      "source": [
        "class CustomModel(keras.Model):\n",
        "    def train_step(self, data):\n",
        "        inputs, targets = data\n",
        "        with tf.GradientTape() as tape:\n",
        "            predictions = self(inputs, training=True)\n",
        "            loss = self.compiled_loss(targets, predictions)\n",
        "        gradients = tape.gradient(loss, self.trainable_weights)\n",
        "        self.optimizer.apply_gradients(zip(gradients, self.trainable_weights))\n",
        "        self.compiled_metrics.update_state(targets, predictions)\n",
        "        return {m.name: m.result() for m in self.metrics}"
      ]
    },
    {
      "cell_type": "code",
      "execution_count": null,
      "metadata": {
        "id": "ExI0-OBbyj8W"
      },
      "outputs": [],
      "source": [
        "inputs = keras.Input(shape=(28 * 28,))\n",
        "features = layers.Dense(512, activation=\"relu\")(inputs)\n",
        "features = layers.Dropout(0.5)(features)\n",
        "outputs = layers.Dense(10, activation=\"softmax\")(features)\n",
        "model = CustomModel(inputs, outputs)\n",
        "\n",
        "model.compile(optimizer=keras.optimizers.RMSprop(),\n",
        "              loss=keras.losses.SparseCategoricalCrossentropy(),\n",
        "              metrics=[keras.metrics.SparseCategoricalAccuracy()])\n",
        "model.fit(train_images, train_labels, epochs=3)"
      ]
    },
    {
      "cell_type": "markdown",
      "metadata": {
        "id": "AvTfOXuPyj8X"
      },
      "source": [
        "## Summary"
      ]
    }
  ],
  "metadata": {
    "colab": {
      "provenance": [],
      "include_colab_link": true
    },
    "kernelspec": {
      "display_name": "Python 3",
      "language": "python",
      "name": "python3"
    },
    "language_info": {
      "codemirror_mode": {
        "name": "ipython",
        "version": 3
      },
      "file_extension": ".py",
      "mimetype": "text/x-python",
      "name": "python",
      "nbconvert_exporter": "python",
      "pygments_lexer": "ipython3",
      "version": "3.7.0"
    },
    "accelerator": "GPU",
    "gpuClass": "standard"
  },
  "nbformat": 4,
  "nbformat_minor": 0
}